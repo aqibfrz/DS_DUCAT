{
 "cells": [
  {
   "cell_type": "code",
   "execution_count": 22,
   "id": "ec6cf8fe-4a1c-4dac-8ea3-2c72fc27613e",
   "metadata": {},
   "outputs": [
    {
     "name": "stdin",
     "output_type": "stream",
     "text": [
      "enter the product:  jdvhs\n"
     ]
    },
    {
     "name": "stdout",
     "output_type": "stream",
     "text": [
      "there is no valid product in the list\n",
      "nwant to update your price\n",
      "yes or no\n",
      "yes or no\n"
     ]
    },
    {
     "name": "stdin",
     "output_type": "stream",
     "text": [
      " no\n"
     ]
    },
    {
     "name": "stdout",
     "output_type": "stream",
     "text": [
      "there is no updation\n",
      "Terminated-->Successfully\n"
     ]
    }
   ],
   "source": [
    "import pyttsx3\n",
    "\n",
    "def says(text):\n",
    "    engine = pyttsx3.init()\n",
    "    engine.say(text)\n",
    "    engine.runAndWait()\n",
    "    \n",
    "\n",
    "dict1={'pen':10,'notebook': 20,'X-BOX':'50000'};\n",
    "says('Hello this is jarvis MI-15')\n",
    "user_in=input('enter the product: ')\n",
    "says('enter the product name to search')\n",
    "if user_in in dict1:\n",
    "    says(f'the price of {user_in} is {dict1[user_in]}')\n",
    "    print(f'the price of {user_in} is', dict1[user_in])\n",
    "else:\n",
    "    print('there is no valid product in the list')\n",
    "    print('nwant to update your price\\nyes or no')\n",
    "    says('product are not avalible in the list and want to update your price')\n",
    "    says('yes or no')\n",
    "    n=input()\n",
    "    if n=='yes':\n",
    "        says('enter the product')\n",
    "        m=input('enter the product')\n",
    "        if m in dict1:\n",
    "            says('enter the amount')\n",
    "            s=int(input('enter the amount'))\n",
    "            dict1[m]=s\n",
    "            print(dict1)\n",
    "        else:\n",
    "            says('there is no product in the list')\n",
    "            print('there is no product in the list')\n",
    "            \n",
    "    else:\n",
    "        says('there is no updation\\nTerminated-->Successfully')\n",
    "        print('there is no updation\\nTerminated-->Successfully')\n",
    "        \n",
    "\n"
   ]
  },
  {
   "cell_type": "code",
   "execution_count": null,
   "id": "b0db9a66-060a-42fb-ae69-4509ab299433",
   "metadata": {},
   "outputs": [],
   "source": []
  }
 ],
 "metadata": {
  "kernelspec": {
   "display_name": "Python 3 (ipykernel)",
   "language": "python",
   "name": "python3"
  },
  "language_info": {
   "codemirror_mode": {
    "name": "ipython",
    "version": 3
   },
   "file_extension": ".py",
   "mimetype": "text/x-python",
   "name": "python",
   "nbconvert_exporter": "python",
   "pygments_lexer": "ipython3",
   "version": "3.12.0"
  }
 },
 "nbformat": 4,
 "nbformat_minor": 5
}
