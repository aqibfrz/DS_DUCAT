{
 "cells": [
  {
   "cell_type": "markdown",
   "id": "09bab8d7-3c7d-417f-b25d-27041a45461b",
   "metadata": {},
   "source": [
    "# PICKLING and UNPICKLING"
   ]
  },
  {
   "cell_type": "code",
   "execution_count": 2,
   "id": "8c1bb2cb-2663-4a51-9e62-26f5fae1ca20",
   "metadata": {},
   "outputs": [],
   "source": [
    "# Pickling ..\n",
    "import pickle\n",
    "\n",
    "my_dict_obj=['aqib','firoz','khalid','hamza']\n",
    "\n",
    "with open('test.pkl','wb') as file:\n",
    "    pickle.dump(my_dict_obj,file)\n",
    "    \n",
    "    "
   ]
  },
  {
   "cell_type": "code",
   "execution_count": 3,
   "id": "02dc7196-391d-494f-b12b-35d35452c450",
   "metadata": {},
   "outputs": [
    {
     "data": {
      "text/plain": [
       "'D:\\\\DS_ML_Training'"
      ]
     },
     "execution_count": 3,
     "metadata": {},
     "output_type": "execute_result"
    }
   ],
   "source": [
    "pwd"
   ]
  },
  {
   "cell_type": "code",
   "execution_count": 5,
   "id": "fc6d919a-0aba-4eb6-898a-35a03ea906e8",
   "metadata": {},
   "outputs": [
    {
     "name": "stdout",
     "output_type": "stream",
     "text": [
      "['aqib', 'firoz', 'khalid', 'hamza']\n"
     ]
    }
   ],
   "source": [
    "# unpickling ..\n",
    "import pickle\n",
    "\n",
    "with open('test.pkl','rb') as file:\n",
    "    unlpickled=pickle.load(file)\n",
    "\n",
    "print(unlpickled)"
   ]
  },
  {
   "cell_type": "markdown",
   "id": "9666348f-357c-40af-894f-3939d96b6a06",
   "metadata": {},
   "source": [
    "# Exception handling"
   ]
  },
  {
   "cell_type": "code",
   "execution_count": 12,
   "id": "fc774cfa-e304-413a-bb9d-60d60513009c",
   "metadata": {},
   "outputs": [
    {
     "name": "stdout",
     "output_type": "stream",
     "text": [
      "2.0\n",
      "no problem in try block\n",
      "all connections and files are closed.\n",
      "check\n"
     ]
    }
   ],
   "source": [
    "try:\n",
    "    print(2/1)\n",
    "except:\n",
    "    print('zero is not acceptable')\n",
    "else:\n",
    "    print('no problem in try block')\n",
    "finally:\n",
    "    print('all connections and files are closed.')\n",
    "print('check')"
   ]
  },
  {
   "cell_type": "code",
   "execution_count": 75,
   "id": "9aa2d4f3-846f-4c96-8016-2b91d37ecde2",
   "metadata": {},
   "outputs": [
    {
     "name": "stdin",
     "output_type": "stream",
     "text": [
      "enter number 345678\n"
     ]
    },
    {
     "name": "stdout",
     "output_type": "stream",
     "text": [
      "3\n",
      "4\n",
      "5\n",
      "6\n",
      "7\n",
      "8\n"
     ]
    }
   ],
   "source": [
    "user_in=int(input('enter number'))\n",
    "user_in=str(user_in)\n",
    "if type(user_in) == str:\n",
    "    for i in user_in:\n",
    "        print(i)\n",
    "else:\n",
    "    raise ValueError('aakhe khol ke dhek pagal.')\n"
   ]
  },
  {
   "cell_type": "code",
   "execution_count": 74,
   "id": "710bb106-03f4-41e4-951d-09a1a48c8d89",
   "metadata": {},
   "outputs": [
    {
     "data": {
      "text/plain": [
       "2"
      ]
     },
     "execution_count": 74,
     "metadata": {},
     "output_type": "execute_result"
    }
   ],
   "source": [
    "name=10\n",
    "name=2\n",
    "name"
   ]
  },
  {
   "cell_type": "code",
   "execution_count": null,
   "id": "d448eba5-6810-442f-89e5-ec789f26a965",
   "metadata": {},
   "outputs": [],
   "source": []
  },
  {
   "cell_type": "markdown",
   "id": "5f209507-f0a8-4363-8998-690b9883f56b",
   "metadata": {},
   "source": [
    "# Multi Threading"
   ]
  },
  {
   "cell_type": "markdown",
   "id": "9f368bf4-0ee7-4d74-9136-6dc074856c68",
   "metadata": {},
   "source": [
    "# #Python multithreading is a technique that enables a program to execute multiple parts of its code concurrently within a single process. This is particularly useful for tasks that involve waiting, such as I/O-bound operations (e.g., network requests, file operations), as it allows the program to remain responsive while one part is waiting for an external resource.\n"
   ]
  },
  {
   "cell_type": "code",
   "execution_count": 31,
   "id": "578f1bde-a804-4687-95ab-6e91a04086a4",
   "metadata": {},
   "outputs": [
    {
     "name": "stdout",
     "output_type": "stream",
     "text": [
      "\n",
      "\n",
      "task 1 has started please wait...\n",
      "task 2 has started please wait...\n",
      "task 3 has started please wait...\n",
      "task 4 has started please wait...\n",
      "\n",
      "\n",
      "Task 1 is completed\n",
      "Task 4 is completed\n",
      "Task 3 is completed\n",
      "Task 2  is completed\n",
      "total time taken:  4.006228799931705\n"
     ]
    }
   ],
   "source": [
    "import time\n",
    "import threading \n",
    "def task1():\n",
    "    print(f'task 1 has started please wait...')\n",
    "    time.sleep(4)\n",
    "    print(f'Task 1 is completed')\n",
    "    \n",
    "def task2():\n",
    "    print(f'task 2 has started please wait...')\n",
    "    time.sleep(4)\n",
    "    print(f'Task 2  is completed')\n",
    "    \n",
    "def task3():\n",
    "    print(f'task 3 has started please wait...')\n",
    "    time.sleep(4)\n",
    "    print(f'Task 3 is completed')\n",
    "    \n",
    "def task4():\n",
    "    print(f'task 4 has started please wait...')\n",
    "    time.sleep(4)\n",
    "    print(f'Task 4 is completed')\n",
    "\n",
    "thread1=threading.Thread(target=task1)\n",
    "thread2=threading.Thread(target=task2)\n",
    "thread3=threading.Thread(target=task3)\n",
    "thread4=threading.Thread(target=task4)\n",
    "\n",
    "start_time=time.perf_counter()\n",
    "\n",
    "print('\\n')\n",
    "\n",
    "thread1.start()\n",
    "thread2.start()\n",
    "thread3.start()\n",
    "thread4.start()\n",
    "\n",
    "print('\\n')\n",
    "\n",
    "thread1.join()\n",
    "thread2.join()\n",
    "thread3.join()\n",
    "thread4.join()\n",
    "\n",
    "end_time=time.perf_counter()\n",
    "\n",
    "print('total time taken: ',(end_time-start_time))\n"
   ]
  },
  {
   "cell_type": "code",
   "execution_count": null,
   "id": "03f8cc04-6e55-46df-b89c-f78007f4547e",
   "metadata": {},
   "outputs": [],
   "source": []
  },
  {
   "cell_type": "code",
   "execution_count": null,
   "id": "07c3c75f-6cdf-47f4-80ba-a06582837dbf",
   "metadata": {},
   "outputs": [],
   "source": []
  }
 ],
 "metadata": {
  "kernelspec": {
   "display_name": "Python 3 (ipykernel)",
   "language": "python",
   "name": "python3"
  },
  "language_info": {
   "codemirror_mode": {
    "name": "ipython",
    "version": 3
   },
   "file_extension": ".py",
   "mimetype": "text/x-python",
   "name": "python",
   "nbconvert_exporter": "python",
   "pygments_lexer": "ipython3",
   "version": "3.12.0"
  }
 },
 "nbformat": 4,
 "nbformat_minor": 5
}
