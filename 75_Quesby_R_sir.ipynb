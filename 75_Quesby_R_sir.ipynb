{
 "cells": [
  {
   "cell_type": "markdown",
   "id": "edbd5f7d-df61-454f-b9cb-a163ae4e1677",
   "metadata": {},
   "source": [
    "# product price finder and update."
   ]
  },
  {
   "cell_type": "code",
   "execution_count": 4,
   "id": "e6564191-4b80-4332-9c9c-1f3ef844cdaa",
   "metadata": {},
   "outputs": [
    {
     "name": "stdout",
     "output_type": "stream",
     "text": [
      "enter product to search their price: pen\n"
     ]
    },
    {
     "name": "stdout",
     "output_type": "stream",
     "text": [
      "the price of pen is: 10\n"
     ]
    }
   ],
   "source": [
    "import pyttsx3\n",
    "\n",
    "def says(text):\n",
    "    engine = pyttsx3.init()\n",
    "    engine.say(text)\n",
    "    engine.runAndWait()\n",
    "    \n",
    "\n",
    "dict1={'pen':10,'notebook': 20};\n",
    "says('Hello this is jarvis MI-15')\n",
    "says('enter the product name to search')\n",
    "tar=input('enter product to search their price:')\n",
    "if tar in dict1:\n",
    "    says(f'the price of {tar} is: {dict1[tar]}')\n",
    "    print(f'the price of {tar} is: {dict1[tar]}')\n",
    "else:\n",
    "    print('product are not avalible in the list\\nwant to update your price\\nyes or no')\n",
    "    says('product are not avalible in the list and want to update your price')\n",
    "    says('yes or no')\n",
    "    n=input()\n",
    "    if n=='yes':\n",
    "        says('enter your product')\n",
    "        m=input('enter your product')\n",
    "        if m in dict1:\n",
    "            says('enter your price')\n",
    "            s=int(input('enter the price'))\n",
    "            dict1[m]=s\n",
    "            says('price is Updated')\n",
    "            print(dict1)\n",
    "        else:\n",
    "            says('exit-->thanks')\n",
    "            print('exit-->thanks')\n",
    "    else:\n",
    "        says('No updation\\nTerminated-->Successfully')\n",
    "        print('No updation\\nTerminated-->Successfully')\n"
   ]
  },
  {
   "cell_type": "code",
   "execution_count": null,
   "id": "52eaedd1-de0b-43c1-8939-d629396a3cf8",
   "metadata": {},
   "outputs": [],
   "source": [
    "n=int(input('enter the number of entries:'))\n",
    "dict={input('enter the key'): input('enter the value') for _ in range(n)}\n",
    "print(dict)"
   ]
  },
  {
   "cell_type": "code",
   "execution_count": null,
   "id": "c4e135cf-ed5e-4e7b-8002-3d46a441276f",
   "metadata": {},
   "outputs": [
    {
     "data": {
      "text/plain": [
       "{'pen': 90, 'notebook': 20}"
      ]
     },
     "execution_count": 21,
     "metadata": {},
     "output_type": "execute_result"
    }
   ],
   "source": [
    "dict1={'pen':10,'notebook': 20};\n",
    "dict1['pen']=90\n",
    "dict1"
   ]
  },
  {
   "cell_type": "code",
   "execution_count": null,
   "id": "846e6c6d-9c05-4525-bab5-1c28743b49d6",
   "metadata": {},
   "outputs": [
    {
     "data": {
      "text/plain": [
       "{'pen': 10, 'notebook': 70}"
      ]
     },
     "execution_count": 29,
     "metadata": {},
     "output_type": "execute_result"
    }
   ],
   "source": [
    "dict1"
   ]
  },
  {
   "cell_type": "code",
   "execution_count": 2,
   "id": "a394973d-5a08-43a4-887f-23a20622cf93",
   "metadata": {},
   "outputs": [
    {
     "name": "stdout",
     "output_type": "stream",
     "text": [
      "4 3\n"
     ]
    }
   ],
   "source": [
    "#swap two number\n",
    "a=3\n",
    "b=4\n",
    "a,b=b,a\n",
    "print(a,b)"
   ]
  },
  {
   "cell_type": "code",
   "execution_count": 8,
   "id": "ed51cb83-1f13-40e2-a80b-9eab92ef46a8",
   "metadata": {},
   "outputs": [
    {
     "data": {
      "text/plain": [
       "0.36564022345058067"
      ]
     },
     "execution_count": 8,
     "metadata": {},
     "output_type": "execute_result"
    }
   ],
   "source": [
    "#generate  random number\n",
    "import random\n",
    "random_number=random.randint(1,100)\n",
    "random_number\n"
   ]
  },
  {
   "cell_type": "code",
   "execution_count": 11,
   "id": "b60eb131-0c10-4d6b-88ff-7da9c123b483",
   "metadata": {},
   "outputs": [
    {
     "data": {
      "text/plain": [
       "0.9595253211491721"
      ]
     },
     "execution_count": 11,
     "metadata": {},
     "output_type": "execute_result"
    }
   ],
   "source": [
    "## generate random float \n",
    "random_float=random.random()\n",
    "random_float"
   ]
  },
  {
   "cell_type": "code",
   "execution_count": null,
   "id": "ac2b83d8-342f-4dab-b5ae-382242e31598",
   "metadata": {},
   "outputs": [],
   "source": []
  }
 ],
 "metadata": {
  "kernelspec": {
   "display_name": "Python 3",
   "language": "python",
   "name": "python3"
  },
  "language_info": {
   "codemirror_mode": {
    "name": "ipython",
    "version": 3
   },
   "file_extension": ".py",
   "mimetype": "text/x-python",
   "name": "python",
   "nbconvert_exporter": "python",
   "pygments_lexer": "ipython3",
   "version": "3.12.0"
  }
 },
 "nbformat": 4,
 "nbformat_minor": 5
}
