{
 "cells": [
  {
   "cell_type": "code",
   "execution_count": null,
   "id": "b21db205",
   "metadata": {},
   "outputs": [
    {
     "name": "stdout",
     "output_type": "stream",
     "text": [
      "3\n"
     ]
    }
   ],
   "source": [
    "my_list=['abca','xybz','aba','1221','a']\n",
    "c=0\n",
    "for i in range(len(my_list)):\n",
    "    if len(my_list[i])>=2:\n",
    "        if my_list[i]==my_list[i][::-1]: ## for amstrong\n",
    "            c+=1\n",
    "        elif my_list[i][0]==my_list[i][-1]: ## for checking first and last\n",
    "            c+=1\n",
    "        else:\n",
    "            pass\n",
    "print(c)"
   ]
  },
  {
   "cell_type": "code",
   "execution_count": 15,
   "id": "c174b7c6",
   "metadata": {},
   "outputs": [
    {
     "name": "stdout",
     "output_type": "stream",
     "text": [
      "list is not empty\n"
     ]
    }
   ],
   "source": [
    "# Write a Python program to check a list is empty or not.\n",
    "list1=[1,3]\n",
    "if len(list1)<=0:\n",
    "    print('list is empty')\n",
    "else:\n",
    "    print('list is not empty')\n"
   ]
  },
  {
   "cell_type": "code",
   "execution_count": 25,
   "id": "3ae70fe3",
   "metadata": {},
   "outputs": [
    {
     "name": "stdout",
     "output_type": "stream",
     "text": [
      "['Green', 'White', 'Black']\n"
     ]
    }
   ],
   "source": [
    "# 6. Write a Python program to print a specified list after removing the 0th, 4th and\n",
    "# 5th elements.\n",
    "# Sample List : ['Red', 'Green', 'White', 'Black', 'Pink', 'Yellow']\n",
    "# Expected Output : ['Green', 'White', 'Black']\n",
    "inp_list=['Red', 'Green', 'White', 'Black', 'Pink', 'Yellow']\n",
    "inp_list.pop(5)\n",
    "inp_list.pop(4)\n",
    "inp_list.pop(0)\n",
    "print(inp_list)\n",
    "\n"
   ]
  },
  {
   "cell_type": "code",
   "execution_count": 26,
   "id": "112b3234",
   "metadata": {},
   "outputs": [
    {
     "name": "stdout",
     "output_type": "stream",
     "text": [
      "[3, 5, 7, 89, 9]\n"
     ]
    }
   ],
   "source": [
    "# Write a Python program to print the numbers of a specified list after removing\n",
    "# even numbers from it. \n",
    "\n",
    "my_list=[2,3,5,6,7,89,9]\n",
    "new_list=[]\n",
    "for i in my_list:\n",
    "    if i%2!=0:\n",
    "        new_list.append(i)\n",
    "    else:\n",
    "        pass\n",
    "    \n",
    "print(new_list)\n",
    "        \n",
    "        "
   ]
  },
  {
   "cell_type": "code",
   "execution_count": 36,
   "id": "543d37a0",
   "metadata": {},
   "outputs": [
    {
     "name": "stdout",
     "output_type": "stream",
     "text": [
      "unique elem is: 3\n"
     ]
    }
   ],
   "source": [
    "# Write a Python program to get unique values from a list.\n",
    "my_list=[2,2,3,4,4,7,7,8,8,9,9]\n",
    "my_dict={}\n",
    "for i in my_list:\n",
    "    if i in my_dict:\n",
    "        my_dict[i]+=1\n",
    "    else:\n",
    "        my_dict[i]=1 \n",
    "        \n",
    "for i,j in my_dict.items():\n",
    "    if j==1:\n",
    "        print('unique elem is:',i)\n",
    "    else:\n",
    "        pass"
   ]
  },
  {
   "cell_type": "code",
   "execution_count": null,
   "id": "39985cfa",
   "metadata": {},
   "outputs": [],
   "source": []
  }
 ],
 "metadata": {
  "kernelspec": {
   "display_name": "Python 3",
   "language": "python",
   "name": "python3"
  },
  "language_info": {
   "codemirror_mode": {
    "name": "ipython",
    "version": 3
   },
   "file_extension": ".py",
   "mimetype": "text/x-python",
   "name": "python",
   "nbconvert_exporter": "python",
   "pygments_lexer": "ipython3",
   "version": "3.12.0"
  }
 },
 "nbformat": 4,
 "nbformat_minor": 5
}
