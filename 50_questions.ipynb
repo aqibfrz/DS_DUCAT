{
 "cells": [
  {
   "cell_type": "markdown",
   "id": "16c13806-cf33-4697-952a-3ded095324e3",
   "metadata": {},
   "source": [
    "# 50 QUESTIONS OF PYTHON"
   ]
  },
  {
   "cell_type": "code",
   "execution_count": 26,
   "id": "2e8c917b-ef31-4d63-97a4-6b487831e154",
   "metadata": {},
   "outputs": [
    {
     "name": "stdin",
     "output_type": "stream",
     "text": [
      "Enter your number:  5\n"
     ]
    },
    {
     "name": "stdout",
     "output_type": "stream",
     "text": [
      "its a Prime number\n"
     ]
    }
   ],
   "source": [
    "##Take the input from user and find whether number is prime or not?\n",
    "n=int(input('Enter your number: '))\n",
    "flag=False\n",
    "if n==0 or n==1:\n",
    "    print('not a prime number')\n",
    "else:\n",
    "    for i in range(2,int(n**0.5)+1):\n",
    "        if (n%i==0):\n",
    "            flag=True\n",
    "            break\n",
    "if(flag==False):\n",
    "    print('its a Prime number')\n",
    "else:\n",
    "    print('not a prime number')\n",
    "            "
   ]
  },
  {
   "cell_type": "code",
   "execution_count": 69,
   "id": "28987cbe-08ab-4560-abad-387304248f1d",
   "metadata": {},
   "outputs": [
    {
     "name": "stdin",
     "output_type": "stream",
     "text": [
      "Enter number:  5\n"
     ]
    },
    {
     "name": "stdout",
     "output_type": "stream",
     "text": [
      "120\n",
      "None\n"
     ]
    }
   ],
   "source": [
    "#4. Calculate factorial of a number\n",
    "# Write a function calculate_factorial that takes a number as input and returns its factorial. Handle\n",
    "# cases where the input is not a non-negative integer or zero.\n",
    "# Example: If number is 5 factorials will be (5x4x2x3x2x1=120)\n",
    "# Expected output: 120 if number is 5\n",
    "\n",
    "def palindrome(num):\n",
    "    \n",
    "    fact=1\n",
    "    if fact ==0:\n",
    "        print(1)\n",
    "    else:\n",
    "        for i in range(1,num+1):\n",
    "\n",
    "            fact=fact*i\n",
    "        print(fact)\n",
    "\n",
    "num=int(input('Enter number: '))\n",
    "palindrome(num)"
   ]
  },
  {
   "cell_type": "code",
   "execution_count": 5,
   "id": "786c2788-0b9a-4d4e-81d7-454aec16175f",
   "metadata": {},
   "outputs": [
    {
     "data": {
      "text/plain": [
       "'olleh'"
      ]
     },
     "execution_count": 5,
     "metadata": {},
     "output_type": "execute_result"
    }
   ],
   "source": [
    "##2. Reverse the string using for loop.\n",
    "# string = \"Python\"\n",
    "# Expected output = \"nohtyP\"\n",
    "\n",
    "# s=input('enter the string')\n",
    "# for i in range(len(s)-1,-1,-1):\n",
    "#     print(s[i],end=\"\")\n",
    "#     # print(i)\n",
    "def rev(strr):\n",
    "    rev=''\n",
    "    for char in s:\n",
    "        rev=char+rev\n",
    "    return rev\n",
    "\n",
    "if __main__:\"__name__\":\n",
    "    str\n",
    "    rev(strr)\n",
    "    \n"
   ]
  },
  {
   "cell_type": "code",
   "execution_count": 48,
   "id": "163fefca-0f11-48c5-a3c9-c72d2c7cd0e9",
   "metadata": {},
   "outputs": [
    {
     "name": "stdin",
     "output_type": "stream",
     "text": [
      "Enter the String:  heheh\n"
     ]
    },
    {
     "name": "stdout",
     "output_type": "stream",
     "text": [
      "this is palindrome\n"
     ]
    }
   ],
   "source": [
    "# 3. Palindrome Check (String Problem)\n",
    "# Write a function to check whether a given string is a palindrome (a string that reads the same)\n",
    "# forward and backward is called palindrome).\n",
    "# String = “mom” # if we reverse this string, we get the same Output “mom”\n",
    "# Expected output: string is a palindrome.\n",
    "def palindrome(string):\n",
    "    if string==string[::-1]:\n",
    "        print('this is palindrome')\n",
    "    else:\n",
    "        print('its is not')\n",
    "        \n",
    "string=input('Enter the String: ')\n",
    "palindrome(string)"
   ]
  },
  {
   "cell_type": "code",
   "execution_count": 223,
   "id": "627c1f0f-a079-4a16-bf6c-dbf069774075",
   "metadata": {},
   "outputs": [
    {
     "data": {
      "text/plain": [
       "9"
      ]
     },
     "execution_count": 223,
     "metadata": {},
     "output_type": "execute_result"
    }
   ],
   "source": [
    "'''5. Find the Second Largest Element in a List using for loop.\n",
    "Write a function to find the second largest element in a list without using built-in sorting.\n",
    "Example\n",
    "Input: [7, 5, 8, 2, 10, 9]\n",
    "Expected Output: 9\n",
    "Example\n",
    "Input: [4, 4, 4, 4]\n",
    "Expected Output: None'''\n",
    "\n",
    "def second_L(num):\n",
    "    first,second=0,0\n",
    "    for i in num:\n",
    "        if i>first:\n",
    "            second=first\n",
    "            first=i\n",
    "        elif i > second and i!=first:\n",
    "            second=i\n",
    "    return second\n",
    "\n",
    "\n",
    "list1=[7, 5, 8, 2, 10, 9]\n",
    "second_L(list1)"
   ]
  },
  {
   "cell_type": "code",
   "execution_count": 76,
   "id": "1d9b9324-1fee-4638-9dd6-4fe0c5f1e526",
   "metadata": {},
   "outputs": [
    {
     "name": "stdin",
     "output_type": "stream",
     "text": [
      "enter string 4 5 6 7 9 8 1 2\n"
     ]
    },
    {
     "name": "stdout",
     "output_type": "stream",
     "text": [
      "8\n"
     ]
    }
   ],
   "source": [
    "num=sorted(input('enter string').split( ))[-2]\n",
    "print(num)"
   ]
  },
  {
   "cell_type": "code",
   "execution_count": 381,
   "id": "90f4b50c-f80d-4f7e-9744-10c43fa6e7fe",
   "metadata": {
    "scrolled": true
   },
   "outputs": [
    {
     "name": "stdout",
     "output_type": "stream",
     "text": [
      "yes\n"
     ]
    }
   ],
   "source": [
    "# s1='listen'\n",
    "# s2='silent'\n",
    "# flag=False\n",
    "# if len(s1)!=len(s2):\n",
    "#     print('this is not anagram')\n",
    "# else:\n",
    "#     for char in range(len(s1)):\n",
    "#         if s1[char] in s2:\n",
    "#             if s2[char] in s1:\n",
    "#                 flag=True\n",
    "#                 break\n",
    "#             else:\n",
    "#                 flag=False\n",
    "#                 break\n",
    "#         else:\n",
    "#             pass\n",
    "\n",
    "# if flag==True:\n",
    "#     print('this is an Anagram')\n",
    "# else:\n",
    "#     print('This is not')\n",
    "            \n",
    "        # if char in s2:\n",
    "        #     print('yes')\n",
    "        #     break\n",
    "        # else:\n",
    "        #     print('false')\n",
    "        #     break\n",
    "\n",
    "\n",
    "# s1='listen'\n",
    "# s2='silent'\n",
    "# flag=False\n",
    "# if len(s1)!=len(s2):\n",
    "#     flag= False\n",
    "# else:\n",
    "#     for i in range(len(s1)):\n",
    "#         if s2[i] in s1:\n",
    "#             if s1[i] in s2:\n",
    "#                 flag=True\n",
    "#             else:\n",
    "#                 flag=False\n",
    "#                 break\n",
    "#         else:\n",
    "#             flag = False\n",
    "#             break\n",
    "# if flag==True:\n",
    "#     print('this is Anagram')\n",
    "# else:\n",
    "#     print('its not')\n",
    "\n",
    "\n",
    "def ana(s1,s2):\n",
    "    \n",
    "    flag=False\n",
    "    if len(s1)!=len(s2):\n",
    "        return 0\n",
    "    for i in range(len(s1)):\n",
    "        if sorted(s1)==sorted(s2):\n",
    "            flag=True\n",
    "        else:\n",
    "            flag=False\n",
    "\n",
    "    if flag:\n",
    "        print('yes')\n",
    "    else:\n",
    "        print('no')\n",
    "\n",
    "\n",
    "    \n",
    "s1='listen'\n",
    "s2='silent'\n",
    "ana(s1,s2)\n",
    "\n",
    "        "
   ]
  },
  {
   "cell_type": "code",
   "execution_count": 377,
   "id": "f35a91f9-994e-4fcf-97c4-14d9eef9ac25",
   "metadata": {},
   "outputs": [
    {
     "name": "stdin",
     "output_type": "stream",
     "text": [
      "Enter the String hello\n"
     ]
    },
    {
     "name": "stdout",
     "output_type": "stream",
     "text": [
      "2\n"
     ]
    }
   ],
   "source": [
    "##count the vovel in str\n",
    "st=input('Enter the String')\n",
    "v=['a','e','i','o','u']\n",
    "count=0\n",
    "for i in range(len(st)):\n",
    "    if st[i] in v:\n",
    "        count+=1\n",
    "    else:\n",
    "        pass\n",
    "print(count)\n",
    "    "
   ]
  },
  {
   "cell_type": "code",
   "execution_count": null,
   "id": "68e83713-a769-4679-aab1-7e8045be9945",
   "metadata": {},
   "outputs": [],
   "source": []
  },
  {
   "cell_type": "code",
   "execution_count": 140,
   "id": "3bc0c463-c99a-40d8-b072-5c6205cf7874",
   "metadata": {},
   "outputs": [
    {
     "name": "stdin",
     "output_type": "stream",
     "text": [
      " 6382\n"
     ]
    },
    {
     "name": "stdout",
     "output_type": "stream",
     "text": [
      "19\n"
     ]
    }
   ],
   "source": [
    "num = input()\n",
    "count  = 0\n",
    "for i in range(len(num)):\n",
    "    count+=int(num[i])\n",
    "print(count)"
   ]
  },
  {
   "cell_type": "code",
   "execution_count": 144,
   "id": "2212ebea-9ce9-4fd1-b429-d56c54be1050",
   "metadata": {},
   "outputs": [
    {
     "name": "stdin",
     "output_type": "stream",
     "text": [
      " 3 4 5 6 7 8\n"
     ]
    },
    {
     "name": "stdout",
     "output_type": "stream",
     "text": [
      "[3, 4, 5, 6, 7, 8]\n"
     ]
    }
   ],
   "source": [
    "a = list(map(int, input().split()))\n",
    "print(a)\n",
    "\n"
   ]
  },
  {
   "cell_type": "code",
   "execution_count": 188,
   "id": "54631997-6fcd-47ad-bbbf-593af01dc07d",
   "metadata": {},
   "outputs": [
    {
     "name": "stdout",
     "output_type": "stream",
     "text": [
      "1\n",
      "2\n",
      "3\n",
      "5\n",
      "8\n"
     ]
    }
   ],
   "source": [
    "##fabbonacci\n",
    "def febbo(n):\n",
    "    a=0\n",
    "    b=1\n",
    "    if n<0:\n",
    "        print('incorrect o/P')\n",
    "    elif n==1:\n",
    "        print(b)\n",
    "    else:\n",
    "        for i in range(0,n):\n",
    "            c=a+b\n",
    "            a=b\n",
    "            b=c\n",
    "            print(b)\n",
    "            \n",
    "        \n",
    "n=5\n",
    "febbo(n)\n"
   ]
  },
  {
   "cell_type": "code",
   "execution_count": 174,
   "id": "d6450c75-a1d0-49b2-bcf7-dfcc4da10a87",
   "metadata": {},
   "outputs": [
    {
     "name": "stdin",
     "output_type": "stream",
     "text": [
      "Enter the list 4 5 5 6 7 8 9\n"
     ]
    },
    {
     "data": {
      "text/plain": [
       "{4, 5, 6, 7, 8, 9}"
      ]
     },
     "execution_count": 174,
     "metadata": {},
     "output_type": "execute_result"
    }
   ],
   "source": [
    "#remove dublicate\n",
    "def Remov_Duplicate(num):\n",
    "    s=set()\n",
    "    for i in num:\n",
    "        s.add(i)\n",
    "    return s\n",
    "\n",
    "\n",
    "num=map(int,input('Enter the list').split( ))\n",
    "Remov_Duplicate(num)\n"
   ]
  },
  {
   "cell_type": "code",
   "execution_count": 175,
   "id": "6ee5d001-e1c9-44a8-b6aa-bf7249786e82",
   "metadata": {},
   "outputs": [
    {
     "name": "stdout",
     "output_type": "stream",
     "text": [
      "[1, 3, 2, 4, 5]\n"
     ]
    }
   ],
   "source": [
    "##remove dubliacte..\n",
    "list2=[1,3,2,4,1,5]\n",
    "x=[]\n",
    "for i in list2:\n",
    "    if i not in x:\n",
    "        x.append(i)\n",
    "    else:\n",
    "        pass\n",
    "print(x)\n",
    "        "
   ]
  },
  {
   "cell_type": "code",
   "execution_count": 221,
   "id": "56e80153-bea5-415e-b851-b92e1da26222",
   "metadata": {},
   "outputs": [
    {
     "name": "stdout",
     "output_type": "stream",
     "text": [
      "dict_items([('aqib', 1)])\n"
     ]
    }
   ],
   "source": [
    "dct={'aqib':1};\n",
    "print(dct.items())"
   ]
  },
  {
   "cell_type": "code",
   "execution_count": 17,
   "id": "6c1a8cf6-1da1-441e-9653-d9c8988f0380",
   "metadata": {},
   "outputs": [
    {
     "name": "stdin",
     "output_type": "stream",
     "text": [
      "Enter the Year! 1945\n"
     ]
    },
    {
     "name": "stdout",
     "output_type": "stream",
     "text": [
      "...Not a Leap year...\n",
      " Try differnet\n"
     ]
    }
   ],
   "source": [
    "#LEAP YEAR\n",
    "def check_leap_year(n):\n",
    "    if n%4==0:\n",
    "        if n%400==0 or n%100!=0:\n",
    "            print('leap year')\n",
    "        else:\n",
    "            print('not a leap year')\n",
    "    else:\n",
    "        print('...Not a Leap year...\\n Try some differnet')\n",
    "n=int(input('Enter the Year!'))\n",
    "check_leap_year(n)"
   ]
  },
  {
   "cell_type": "code",
   "execution_count": 20,
   "id": "47b3a282-cf7d-4707-83f3-923aa07d058b",
   "metadata": {},
   "outputs": [
    {
     "name": "stdin",
     "output_type": "stream",
     "text": [
      "Enter x 2\n",
      "Enter y 3\n"
     ]
    },
    {
     "name": "stdout",
     "output_type": "stream",
     "text": [
      "2^3-> 8\n"
     ]
    }
   ],
   "source": [
    "def power(x,y):\n",
    "    p=(x**y)\n",
    "    return p\n",
    "\n",
    "x=int(input('Enter x'))\n",
    "y=int(input('Enter y'))\n",
    "print(f'{x}^{y}->',power(x,y))"
   ]
  },
  {
   "cell_type": "code",
   "execution_count": 31,
   "id": "22c4ec2e-c039-4e0a-98e8-6583ee66766a",
   "metadata": {},
   "outputs": [
    {
     "name": "stdin",
     "output_type": "stream",
     "text": [
      "enter the number: 7\n"
     ]
    },
    {
     "name": "stdout",
     "output_type": "stream",
     "text": [
      "[2, 4, 6]\n"
     ]
    }
   ],
   "source": [
    "#generate list of even number\n",
    "def even_num(n):\n",
    "    list1=[]\n",
    "    for i in range(1,n+1):\n",
    "        if i%2==0:    \n",
    "            list1.append(i)\n",
    "        else:\n",
    "            pass\n",
    "    return list1\n",
    "\n",
    "a=int(input('enter the number:'))\n",
    "ans=even_num(a)\n",
    "print(ans)        \n",
    "        "
   ]
  },
  {
   "cell_type": "code",
   "execution_count": 20,
   "id": "904935df-d9ac-44c2-99be-5b17ab6f5179",
   "metadata": {},
   "outputs": [
    {
     "name": "stdin",
     "output_type": "stream",
     "text": [
      "enter the element that you want to search:  4\n"
     ]
    },
    {
     "name": "stdout",
     "output_type": "stream",
     "text": [
      "Element is present at index 3\n"
     ]
    }
   ],
   "source": [
    "###### . Binary Search Implementation\n",
    "def binary_S(list1,t):\n",
    "    s=0\n",
    "    e=len(list1)\n",
    "    mid=s+(e-s)//2\n",
    "    while(s<=e):\n",
    "    \n",
    "        mid=s+(e-s)//2\n",
    "        if t == list1[mid]:\n",
    "            return mid\n",
    "        elif t > list1[mid]:\n",
    "            s=mid+1\n",
    "        else:\n",
    "            e=mid-1\n",
    "    return -1\n",
    "\n",
    "list1=[1,2,3,4,5,6]\n",
    "t=int(input('enter the element that you want to search: '))\n",
    "\n",
    "print('Element is present at index',binary_S(list1,t))\n",
    "    \n",
    "    \n",
    "\n"
   ]
  },
  {
   "cell_type": "code",
   "execution_count": 12,
   "id": "3637033e-11b1-4a54-990e-715ae1187af8",
   "metadata": {},
   "outputs": [
    {
     "name": "stdout",
     "output_type": "stream",
     "text": [
      "firoz is this\n"
     ]
    }
   ],
   "source": [
    "# Reverse Words in Sentence...\n",
    "def reverse_words(Str):\n",
    "    r=Str.split()\n",
    "    r.reverse()\n",
    "    print(\" \".join(r))\n",
    "\n",
    "\n",
    "reverse_words('this is firoz')"
   ]
  },
  {
   "cell_type": "code",
   "execution_count": 39,
   "id": "b176ac8b-8b67-4de2-9807-d740c1aa2b46",
   "metadata": {},
   "outputs": [
    {
     "name": "stdin",
     "output_type": "stream",
     "text": [
      "Enter a 56\n",
      "Enter b 98\n"
     ]
    },
    {
     "name": "stdout",
     "output_type": "stream",
     "text": [
      "14\n"
     ]
    }
   ],
   "source": [
    "# GCD {Greatest Common Divisor}\n",
    "def GCD(a,b):\n",
    "    l1=set()\n",
    "    l2=set()\n",
    "    for i in range(1,a+1):\n",
    "        if a%i==0:\n",
    "            l1.add(i)\n",
    "        else:\n",
    "            pass\n",
    "    for j in range(1,b+1):\n",
    "        if b%j==0:\n",
    "            l2.add(j)\n",
    "        else:\n",
    "            pass\n",
    "    return max(l1.intersection(l2))\n",
    "    \n",
    "if __name__=='__main__':\n",
    "    a=int(input('Enter a'))\n",
    "    b=int(input('Enter b'))\n",
    "    print(GCD(a,b))\n",
    "\n",
    "        "
   ]
  },
  {
   "cell_type": "code",
   "execution_count": 40,
   "id": "ced4db0c-9f20-4224-b23d-28693f3e96d1",
   "metadata": {},
   "outputs": [
    {
     "name": "stdin",
     "output_type": "stream",
     "text": [
      "Enter N:  3\n"
     ]
    },
    {
     "name": "stdout",
     "output_type": "stream",
     "text": [
      "6\n"
     ]
    }
   ],
   "source": [
    "#Factorial Using Recursion\n",
    "def fact(n):\n",
    "    if n==0 or n==1:\n",
    "        return 1\n",
    "    else:\n",
    "        return n*fact(n-1)\n",
    "        \n",
    "if __name__=='__main__':\n",
    "    n=int(input('Enter N: '))\n",
    "    print(fact(n))\n",
    "    "
   ]
  },
  {
   "cell_type": "code",
   "execution_count": 41,
   "id": "f5842b8e-e563-435b-875a-309cd070f390",
   "metadata": {},
   "outputs": [
    {
     "name": "stdout",
     "output_type": "stream",
     "text": [
      "-1\n"
     ]
    }
   ],
   "source": [
    "#find max\n",
    "def maximum(Arr1):\n",
    "    m=Arr1[0]\n",
    "    for i in range(len(Arr1)):\n",
    "        if Arr1[i]>m:\n",
    "            m=Arr1[i]\n",
    "        else:\n",
    "            pass\n",
    "    return m\n",
    "\n",
    "if __name__=='__main__':\n",
    "    arr=[-1, -5, -3, -4]\n",
    "    a=maximum(arr)\n",
    "    print(a)\n"
   ]
  },
  {
   "cell_type": "code",
   "execution_count": 46,
   "id": "cd8aba9f-9ed4-4731-b15c-d38b15f73e83",
   "metadata": {},
   "outputs": [
    {
     "name": "stdin",
     "output_type": "stream",
     "text": [
      "enter the String apple\n"
     ]
    },
    {
     "name": "stdout",
     "output_type": "stream",
     "text": [
      "{'a': 1, 'p': 2, 'l': 1, 'e': 1}\n"
     ]
    }
   ],
   "source": [
    "# Count Occurrences of Each Character in a String\n",
    "def occurance_of_char(Str):\n",
    "    dict1={}\n",
    "    for i in Str:\n",
    "        if i in dict1:\n",
    "            dict1[i]+=1\n",
    "        else:\n",
    "            dict1[i]=1\n",
    "    return dict1\n",
    "\n",
    "if __name__=='__main__':\n",
    "    Str=input('enter the String')\n",
    "    a=occurance_of_char(Str)\n",
    "    print(a)\n",
    "\n",
    "\n",
    "            "
   ]
  },
  {
   "cell_type": "code",
   "execution_count": 50,
   "id": "6b02297e-f474-4edc-9ce1-024ab9cfd7ee",
   "metadata": {},
   "outputs": [
    {
     "name": "stdout",
     "output_type": "stream",
     "text": [
      "['cherry', 'apple']\n"
     ]
    }
   ],
   "source": [
    "##intersection of Two-list\n",
    "def intersection_list(l1,l2):\n",
    "    ans=set(l1).intersection(set(l2))\n",
    "    return list(ans)\n",
    "\n",
    "if __name__=='__main__':\n",
    "    l1=['apple','banana','cherry']\n",
    "    l2=['cherry','date','apple']\n",
    "    r=intersection_list(l1,l2)\n",
    "    print(r)\n"
   ]
  },
  {
   "cell_type": "code",
   "execution_count": 81,
   "id": "614bf2a8-7285-4b57-8b66-be84c5fe3f8f",
   "metadata": {},
   "outputs": [
    {
     "name": "stdout",
     "output_type": "stream",
     "text": [
      "Pythonisfun\n"
     ]
    }
   ],
   "source": [
    "#Remove All Whitespace from a String\n",
    "def remove_white_space(S):\n",
    "    r=S.replace(' ','')\n",
    "    print(r)\n",
    "remove_white_space('Python is fun')\n",
    "    "
   ]
  },
  {
   "cell_type": "code",
   "execution_count": 91,
   "id": "7a7864da-1d37-40ff-9dfd-4b7c2de2ba1b",
   "metadata": {},
   "outputs": [
    {
     "name": "stdout",
     "output_type": "stream",
     "text": [
      "14\n"
     ]
    }
   ],
   "source": [
    "#23. Calculate Sum of a List of Numbers Using Recursion\n",
    "def sum(list1):\n",
    "    if len(list1)==0:\n",
    "        return 0\n",
    "    else:\n",
    "        return list1[0]+sum(list1[1:])\n",
    "list1=[2,3,4,5]\n",
    "list2=[]\n",
    "a=sum(list1)\n",
    "print(a)\n",
    "    "
   ]
  },
  {
   "cell_type": "code",
   "execution_count": 93,
   "id": "0bbc32c3-aea0-4a05-9c9c-fbf9b7bd079c",
   "metadata": {},
   "outputs": [
    {
     "name": "stdout",
     "output_type": "stream",
     "text": [
      "14\n"
     ]
    }
   ],
   "source": [
    "#m2\n",
    "def sum(list1,i=0):\n",
    "    if i==len(list1):\n",
    "        return 0\n",
    "    else:\n",
    "        return list1[i]+sum(list1,i+1)\n",
    "list1=[2,3,4,5]\n",
    "a=sum(list1)\n",
    "print(a)"
   ]
  },
  {
   "cell_type": "code",
   "execution_count": 114,
   "id": "ef8f63f5-dcc9-4412-9742-e8ff2ff28a59",
   "metadata": {},
   "outputs": [
    {
     "data": {
      "text/plain": [
       "[2]"
      ]
     },
     "execution_count": 114,
     "metadata": {},
     "output_type": "execute_result"
    }
   ],
   "source": [
    "#Doubt\n",
    "#Find All Prime Numbers up to n\n",
    "def Prime(n):\n",
    "    Flag=False\n",
    "    li=[]\n",
    "    if n==0 or n==1:\n",
    "        return -1\n",
    "    else:\n",
    "        for i in range(2,int(n**0.5)+1):\n",
    "            if n%i==0:\n",
    "                pass\n",
    "            else:\n",
    "                li.append(i)\n",
    "    return li\n",
    "\n",
    "\n",
    "Prime(15)\n",
    "\n",
    "            "
   ]
  },
  {
   "cell_type": "code",
   "execution_count": 129,
   "id": "83d7c286-e135-4fef-8958-c2f4c57af004",
   "metadata": {},
   "outputs": [
    {
     "data": {
      "text/plain": [
       "[1, 2, 3, 5, 6, 9]"
      ]
     },
     "execution_count": 129,
     "metadata": {},
     "output_type": "execute_result"
    }
   ],
   "source": [
    "#Merge Two Sorted Lists\n",
    "def Merge_list(l1,l2):\n",
    "    a=l1+l2\n",
    "    a.sort()\n",
    "    return a\n",
    "\n",
    "l1=[1,3,6]\n",
    "l2=[5,9,2]\n",
    "Merge_list(l1,l2)\n"
   ]
  },
  {
   "cell_type": "code",
   "execution_count": 131,
   "id": "b44d0516-33c0-400f-869e-dcd2b5138dda",
   "metadata": {},
   "outputs": [
    {
     "data": {
      "text/plain": [
       "False"
      ]
     },
     "execution_count": 131,
     "metadata": {},
     "output_type": "execute_result"
    }
   ],
   "source": [
    "#26. Check if List is Sorted\n",
    "def Check_sorted(a):\n",
    "    if a==sorted(a):\n",
    "        return True\n",
    "    else:\n",
    "        return False\n",
    "        \n",
    "a=[1, 2, 3, 4, 5]\n",
    "Check_sorted(a)"
   ]
  },
  {
   "cell_type": "code",
   "execution_count": 230,
   "id": "d544e112-cdcc-4af8-bf06-5a84e69f391e",
   "metadata": {},
   "outputs": [
    {
     "data": {
      "text/plain": [
       "2"
      ]
     },
     "execution_count": 230,
     "metadata": {},
     "output_type": "execute_result"
    }
   ],
   "source": [
    "\n",
    "def find_missing(arr,N):\n",
    "    e_sum=(N*(N+1))//2\n",
    "    max_sum=sum(arr)\n",
    "    return abs(e_sum - max_sum)\n",
    "\n",
    "arr=[1,3,4,5,6]\n",
    "N=max(arr)\n",
    "find_missing(arr,N)\n",
    "    \n"
   ]
  },
  {
   "cell_type": "code",
   "execution_count": 227,
   "id": "93003912-bdff-42dd-a2d8-78a8ac42e300",
   "metadata": {},
   "outputs": [
    {
     "name": "stdout",
     "output_type": "stream",
     "text": [
      "4\n"
     ]
    }
   ],
   "source": [
    "arr1=[1,3,4,5,6]\n",
    "n=max(arr1)+1\n",
    "for i in range(1,n):\n",
    "    flag=0\n",
    "    for j in range(len(arr1)):\n",
    "        if arr1[j]==i:\n",
    "            flag=1\n",
    "            break\n",
    "\n",
    "    if flag==0:\n",
    "        print(j)\n",
    "    else:\n",
    "        pass\n",
    "\n",
    "\n",
    "        "
   ]
  },
  {
   "cell_type": "code",
   "execution_count": 239,
   "id": "50a08a28-8e83-4d98-8e24-91eec1ca8112",
   "metadata": {},
   "outputs": [
    {
     "name": "stdin",
     "output_type": "stream",
     "text": [
      "Enter Number: 5\n"
     ]
    },
    {
     "data": {
      "text/plain": [
       "55"
      ]
     },
     "execution_count": 239,
     "metadata": {},
     "output_type": "execute_result"
    }
   ],
   "source": [
    "#Calculate the Sum of Square..\n",
    "def square_sum(list):\n",
    "    \n",
    "    new_list=[i**2 for i in range(list+1)]\n",
    "    return sum(new_list)\n",
    "    \n",
    "n=int(input('Enter Number:'))\n",
    "square_sum(n)"
   ]
  },
  {
   "cell_type": "code",
   "execution_count": 265,
   "id": "f489d9c5-f998-4133-bcb1-f68fd8a4ae00",
   "metadata": {},
   "outputs": [
    {
     "data": {
      "text/plain": [
       "898587"
      ]
     },
     "execution_count": 265,
     "metadata": {},
     "output_type": "execute_result"
    }
   ],
   "source": [
    "#reverse the Integers\n",
    "def reverse_int(n):\n",
    "    rev=0\n",
    "    while(n!=0):\n",
    "        rem=n%10\n",
    "        rev=(rev*10)+rem\n",
    "        n=n//10\n",
    "    return rev\n",
    "\n",
    "\n",
    "n=785898\n",
    "reverse_int(n)"
   ]
  },
  {
   "cell_type": "code",
   "execution_count": 345,
   "id": "725dcb8a-39c3-4e33-9bfa-cb98ac835eae",
   "metadata": {},
   "outputs": [
    {
     "data": {
      "text/plain": [
       "'Aquib'"
      ]
     },
     "execution_count": 345,
     "metadata": {},
     "output_type": "execute_result"
    }
   ],
   "source": [
    "#find longest word in the sentence..\n",
    "\n",
    "def find_Lwords(Str):\n",
    "    words=Str.split()\n",
    "    max_len=0\n",
    "    longest_word=' '\n",
    "    for char in words:\n",
    "        if len(char) > max_len:\n",
    "            max_len=len(char)\n",
    "            longest_word=char\n",
    "    return longest_word\n",
    "\n",
    "Str='this is Aquib firoz'\n",
    "find_Lwords(Str)\n",
    "        \n",
    "        \n",
    "# name= 'python is fun  aatchingui and intresting'\n",
    "# str=name.split()\n",
    "# li=[]\n",
    "# for char in str:\n",
    "#     li.append(len(char))\n",
    "#     # if len(char)==max(li):\n",
    "#     #     ans=char"
   ]
  },
  {
   "cell_type": "code",
   "execution_count": 370,
   "id": "c3f33ba4-83d6-4ce9-86db-6dd0941cc8dd",
   "metadata": {},
   "outputs": [
    {
     "data": {
      "text/plain": [
       "True"
      ]
     },
     "execution_count": 370,
     "metadata": {},
     "output_type": "execute_result"
    }
   ],
   "source": [
    "#Check if a Number is a Power of 2\n",
    "def is_power_of_two(n):\n",
    "    if n <= 0:  # Powers of 2 are always positive\n",
    "        return False\n",
    "    return (n & (n - 1)) == 0\n",
    "is_power_of_two(64)\n",
    "    "
   ]
  },
  {
   "cell_type": "code",
   "execution_count": 390,
   "id": "d9edc42c-d041-4fee-8da5-b5f5b9ae0eba",
   "metadata": {},
   "outputs": [
    {
     "name": "stdout",
     "output_type": "stream",
     "text": [
      "4\n"
     ]
    }
   ],
   "source": []
  },
  {
   "cell_type": "code",
   "execution_count": null,
   "id": "4e4e6f10-7ef2-4dce-8824-a52c61868f45",
   "metadata": {},
   "outputs": [],
   "source": []
  },
  {
   "cell_type": "code",
   "execution_count": null,
   "id": "a214dc2a-7f5d-4a1e-8e18-f6d776632743",
   "metadata": {},
   "outputs": [],
   "source": []
  }
 ],
 "metadata": {
  "kernelspec": {
   "display_name": "Python 3 (ipykernel)",
   "language": "python",
   "name": "python3"
  },
  "language_info": {
   "codemirror_mode": {
    "name": "ipython",
    "version": 3
   },
   "file_extension": ".py",
   "mimetype": "text/x-python",
   "name": "python",
   "nbconvert_exporter": "python",
   "pygments_lexer": "ipython3",
   "version": "3.12.0"
  }
 },
 "nbformat": 4,
 "nbformat_minor": 5
}
