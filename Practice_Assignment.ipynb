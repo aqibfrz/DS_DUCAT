{
 "cells": [
  {
   "cell_type": "code",
   "execution_count": 5,
   "id": "58bbe3b7-94e5-46eb-9c36-5f79a8bf14ed",
   "metadata": {},
   "outputs": [
    {
     "name": "stdin",
     "output_type": "stream",
     "text": [
      "Enter your percentage:  59\n"
     ]
    },
    {
     "name": "stdout",
     "output_type": "stream",
     "text": [
      "Grade : D\n"
     ]
    }
   ],
   "source": [
    "User_Marks = int(input(\"Enter your percentage: \"))\n",
    "if User_Marks >= 90:\n",
    "    print('Grade : A')\n",
    "elif User_Marks >= 80 and User_Marks < 90:\n",
    "    print('Grade : B')\n",
    "elif User_Marks >= 60 and User_Marks <80:\n",
    "    print('Grade : C')\n",
    "else:\n",
    "    print('Grade : D')"
   ]
  },
  {
   "cell_type": "code",
   "execution_count": 9,
   "id": "8bf33d33-5f5c-4c16-9b3d-c8d2fd56a5ef",
   "metadata": {},
   "outputs": [
    {
     "name": "stdin",
     "output_type": "stream",
     "text": [
      "enter your age: 23\n",
      "enter your age: 45\n",
      "enter your age: 67\n",
      "enter your age: 87\n"
     ]
    },
    {
     "name": "stdout",
     "output_type": "stream",
     "text": [
      "23\n"
     ]
    }
   ],
   "source": [
    "list1=[]\n",
    "for i in range(4):\n",
    "    n=int(input('enter your age:'))\n",
    "    list1.append(n)\n",
    "print('young age is: 'min(list1))\n",
    "\n",
    "\n",
    "\n",
    "    "
   ]
  },
  {
   "cell_type": "code",
   "execution_count": 10,
   "id": "ef4a5648-974d-4398-8dbc-7d7c753800ad",
   "metadata": {},
   "outputs": [
    {
     "name": "stdin",
     "output_type": "stream",
     "text": [
      "Enter Your ages:  4,5,6,2\n"
     ]
    }
   ],
   "source": [
    "ages=min(input('Enter Your ages: ').split(','))"
   ]
  },
  {
   "cell_type": "code",
   "execution_count": 11,
   "id": "9819590c-dad4-4afe-a55f-8e650bd040eb",
   "metadata": {},
   "outputs": [
    {
     "data": {
      "text/plain": [
       "'2'"
      ]
     },
     "execution_count": 11,
     "metadata": {},
     "output_type": "execute_result"
    }
   ],
   "source": [
    "ages\n"
   ]
  },
  {
   "cell_type": "code",
   "execution_count": 15,
   "id": "27167250-28ff-4c20-ac58-48e7bff2760e",
   "metadata": {},
   "outputs": [
    {
     "name": "stdin",
     "output_type": "stream",
     "text": [
      "Enter the 3 number:  46\n",
      "Enter the 3 number:  67\n",
      "Enter the 3 number:  89\n"
     ]
    },
    {
     "name": "stdout",
     "output_type": "stream",
     "text": [
      "this is the 2nd largest number:--> 67\n"
     ]
    }
   ],
   "source": [
    "list2=[]\n",
    "for i in range(3):\n",
    "    n=input('Enter the 3 number: ')\n",
    "    list2.append(n)\n",
    "print('The 2nd largest number is:-->',sorted(list2)[-2])"
   ]
  },
  {
   "cell_type": "code",
   "execution_count": null,
   "id": "bdb09142-895b-4c5d-a151-6c15b8ddc1b2",
   "metadata": {},
   "outputs": [],
   "source": [
    "n=sorted(input('enter n number:').split(','))[-2]\n",
    "print(n)\n",
    "\n",
    "\n"
   ]
  },
  {
   "cell_type": "code",
   "execution_count": 6,
   "id": "746b0d97-3a6e-4fd8-82fc-35e5ee00b056",
   "metadata": {},
   "outputs": [
    {
     "name": "stdin",
     "output_type": "stream",
     "text": [
      "Enter your Year:  8\n",
      "Enter your Salary 10000\n"
     ]
    },
    {
     "name": "stdout",
     "output_type": "stream",
     "text": [
      "salary + 6% (bonus) 10600.0\n"
     ]
    }
   ],
   "source": [
    "user_year=int(input('Enter your Year: '))\n",
    "user_salary=int(input('Enter your Salary: '))\n",
    "\n",
    "if user_year >= 10:\n",
    "    print('salary + 10% (bonus)',user_salary+((10/100)*user_salary))\n",
    "elif user_year >=6 and user_year <10:\n",
    "    print('salary + 6% (bonus)',user_salary+((6/100)*user_salary))\n",
    "else:\n",
    "    print('salary + 5% (bonus)',user_salary+((5/100)*user_salary))\n",
    "    "
   ]
  },
  {
   "cell_type": "code",
   "execution_count": 10,
   "id": "6268eb07-8d60-4a13-b659-2a376f55f3af",
   "metadata": {},
   "outputs": [
    {
     "name": "stdin",
     "output_type": "stream",
     "text": [
      "Enter the marked price: 6000\n"
     ]
    },
    {
     "name": "stdout",
     "output_type": "stream",
     "text": [
      "Net Amount: (MP - 10% (Discount)) 5400.0\n"
     ]
    }
   ],
   "source": [
    "M_P=int(input('Enter the marked price:'))\n",
    "\n",
    "if M_P >= 10000:\n",
    "    print('Net Amount: (MP- 20% (Discount))',M_P-((20/100)*M_P))\n",
    "elif M_P >=7000 and M_P < 10000:\n",
    "    print('Net Amount: (MP - 15% (Discount))',M_P-((15/100)*M_P))\n",
    "else:\n",
    "    print('Net Amount: (MP - 10% (Discount))',M_P-((10/100)*M_P))"
   ]
  },
  {
   "cell_type": "code",
   "execution_count": 12,
   "id": "e6253b1f-5c66-46e7-960d-4c9eebeee4cc",
   "metadata": {},
   "outputs": [
    {
     "name": "stdin",
     "output_type": "stream",
     "text": [
      "Enter the Science Marks: 80\n",
      "Enter the Commerce Marks: 80\n",
      "Enter the Humanity Marks: 60\n",
      "Enter the SST Marks: 34\n"
     ]
    },
    {
     "name": "stdout",
     "output_type": "stream",
     "text": [
      "Science Stream\n"
     ]
    }
   ],
   "source": [
    "Eng=int(input('Enter the Science Marks:'))\n",
    "Math=int(input('Enter the Commerce Marks:'))\n",
    "Sci=int(input('Enter the Humanity Marks:'))\n",
    "SST=int(input('Enter the SST Marks:'))\n",
    "Total_Marks = Eng+Math+Sci+SST\n",
    "\n",
    "if Total_Marks >= 80:\n",
    "    print('Science Stream')\n",
    "elif Eng > 80 and Math > 80 and Sci > 50:\n",
    "    print('Commerce Stream')\n",
    "elif Eng > 80 and SST > 80:\n",
    "    print('Humanity Stream')\n",
    "else:\n",
    "    pass"
   ]
  },
  {
   "cell_type": "code",
   "execution_count": 15,
   "id": "15638111-db09-4b72-9ec9-6866df3166ab",
   "metadata": {},
   "outputs": [
    {
     "name": "stdin",
     "output_type": "stream",
     "text": [
      "Enter number:  15\n"
     ]
    },
    {
     "name": "stdout",
     "output_type": "stream",
     "text": [
      "Hello World\n"
     ]
    }
   ],
   "source": [
    "num=int(input('Enter number: '))\n",
    "if num%5==0:\n",
    "    print('Hello World')\n",
    "else:\n",
    "    print('BYE')"
   ]
  },
  {
   "cell_type": "code",
   "execution_count": 70,
   "id": "6667ee33-8d29-4063-bc00-40d9d80ad90e",
   "metadata": {},
   "outputs": [
    {
     "name": "stdin",
     "output_type": "stream",
     "text": [
      "enter number 6 5 3 9\n"
     ]
    },
    {
     "name": "stdout",
     "output_type": "stream",
     "text": [
      "9\n",
      "yes\n"
     ]
    }
   ],
   "source": [
    "num=input('enter number').split()[-1]\n",
    "n=int(num)\n",
    "# print(type(num))\n",
    "# print(type(n))\n",
    "print(n)\n",
    "if n%3==0:\n",
    "    print(\"yes\")\n",
    "else:\n",
    "    print('NO')\n"
   ]
  },
  {
   "cell_type": "code",
   "execution_count": 77,
   "id": "2ac28079-493f-4d62-b38f-7bbafd685cbc",
   "metadata": {},
   "outputs": [
    {
     "name": "stdin",
     "output_type": "stream",
     "text": [
      "enter 3,4,5,5\n"
     ]
    },
    {
     "name": "stdout",
     "output_type": "stream",
     "text": [
      "['3', '4', '5', '5']\n"
     ]
    }
   ],
   "source": [
    "num = input('enter')\n",
    "a=num.split(',')\n",
    "print(a)"
   ]
  },
  {
   "cell_type": "code",
   "execution_count": 80,
   "id": "c3132299-6161-4c4e-9cd5-5dca39e7ea34",
   "metadata": {},
   "outputs": [
    {
     "name": "stdin",
     "output_type": "stream",
     "text": [
      "enter 3 digit number 9595\n"
     ]
    },
    {
     "name": "stdout",
     "output_type": "stream",
     "text": [
      "4\n",
      "NO!! Its not.\n"
     ]
    }
   ],
   "source": [
    "num=input('enter 3 digit number')\n",
    "n=len(num)\n",
    "if n <= 3:\n",
    "    print('its 3 digit number.')\n",
    "else:\n",
    "    print('NO!! Its not.')"
   ]
  },
  {
   "cell_type": "markdown",
   "id": "ffebcba3-b64b-40b0-ad01-05aea19d1360",
   "metadata": {},
   "source": [
    "####IMPORTANT QUESTION"
   ]
  },
  {
   "cell_type": "code",
   "execution_count": 42,
   "id": "f5c0942b-6c38-4757-9622-8eadf7f9b879",
   "metadata": {},
   "outputs": [
    {
     "name": "stdin",
     "output_type": "stream",
     "text": [
      "Enter the UNIT:  83979\n"
     ]
    },
    {
     "name": "stdout",
     "output_type": "stream",
     "text": [
      "Electricity BILL:  838290\n"
     ]
    }
   ],
   "source": [
    "User_Unit=int(input('Enter the UNIT: '))\n",
    "\n",
    "if User_Unit<=100:\n",
    "    print('Electricity BILL: 0')\n",
    "elif User_Unit > 100 and User_Unit <= 200 :\n",
    "    print('Electricity BILL: ',abs(100-User_Unit)*5)\n",
    "else:\n",
    "    print('Electricity BILL: ',(100*5)+(200-User_Unit)*10)\n",
    "    "
   ]
  },
  {
   "cell_type": "code",
   "execution_count": null,
   "id": "c0faf40d-fc9f-4085-98ac-be27696a5192",
   "metadata": {},
   "outputs": [],
   "source": []
  },
  {
   "cell_type": "code",
   "execution_count": null,
   "id": "d21e1d27-3e20-46cf-8474-95e607956e2b",
   "metadata": {},
   "outputs": [],
   "source": []
  }
 ],
 "metadata": {
  "kernelspec": {
   "display_name": "Python 3 (ipykernel)",
   "language": "python",
   "name": "python3"
  },
  "language_info": {
   "codemirror_mode": {
    "name": "ipython",
    "version": 3
   },
   "file_extension": ".py",
   "mimetype": "text/x-python",
   "name": "python",
   "nbconvert_exporter": "python",
   "pygments_lexer": "ipython3",
   "version": "3.12.0"
  }
 },
 "nbformat": 4,
 "nbformat_minor": 5
}
