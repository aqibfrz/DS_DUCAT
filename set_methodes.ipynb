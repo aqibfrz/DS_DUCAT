{
 "cells": [
  {
   "cell_type": "code",
   "execution_count": 7,
   "id": "cc1d334f-60b9-46a5-b6f9-95e93c6486a5",
   "metadata": {},
   "outputs": [
    {
     "data": {
      "text/plain": [
       "{1, 2, 5, 44, 343}"
      ]
     },
     "execution_count": 7,
     "metadata": {},
     "output_type": "execute_result"
    }
   ],
   "source": [
    "#Sets...\n",
    "my_set={1,343,44,5}\n",
    "my_set2={1,2,3}\n",
    "my_set.add(2)\n",
    "my_set"
   ]
  },
  {
   "cell_type": "code",
   "execution_count": 5,
   "id": "10e83225-45d4-49c2-9b6f-7f55a854d87a",
   "metadata": {},
   "outputs": [
    {
     "data": {
      "text/plain": [
       "set()"
      ]
     },
     "execution_count": 5,
     "metadata": {},
     "output_type": "execute_result"
    }
   ],
   "source": [
    "\n",
    "my_set={1,343,44,5}\n",
    "my_set2={1,2,3}\n",
    "my_set.clear()\n",
    "my_set"
   ]
  },
  {
   "cell_type": "code",
   "execution_count": 6,
   "id": "359368b8-712e-4864-a097-50593d77a384",
   "metadata": {},
   "outputs": [
    {
     "data": {
      "text/plain": [
       "{1, 5, 44, 343}"
      ]
     },
     "execution_count": 6,
     "metadata": {},
     "output_type": "execute_result"
    }
   ],
   "source": [
    "\n",
    "my_set={1,343,44,5}\n",
    "my_set2={1,2,3}\n",
    "my_set.difference(my_set2)\n",
    "my_set"
   ]
  },
  {
   "cell_type": "code",
   "execution_count": 8,
   "id": "a9d77032-03e4-496a-b37b-9a79efc81640",
   "metadata": {},
   "outputs": [
    {
     "data": {
      "text/plain": [
       "{5, 44, 343}"
      ]
     },
     "execution_count": 8,
     "metadata": {},
     "output_type": "execute_result"
    }
   ],
   "source": [
    "my_set={1,343,44,5}\n",
    "my_set2={1,2,3}\n",
    "my_set.difference_update(my_set2)\n",
    "my_set"
   ]
  },
  {
   "cell_type": "code",
   "execution_count": 10,
   "id": "87a0f8a8-e897-437a-aba9-b0722f7da9be",
   "metadata": {},
   "outputs": [
    {
     "data": {
      "text/plain": [
       "{1, 5, 44, 343}"
      ]
     },
     "execution_count": 10,
     "metadata": {},
     "output_type": "execute_result"
    }
   ],
   "source": [
    "my_set={1,343,44,5}\n",
    "my_set2={1,2,3}\n",
    "my_set.discard(my_set2)\n",
    "my_set"
   ]
  },
  {
   "cell_type": "code",
   "execution_count": 11,
   "id": "f1253e28-f65b-4fd7-ba36-b3346f190704",
   "metadata": {},
   "outputs": [
    {
     "data": {
      "text/plain": [
       "{1, 5, 44}"
      ]
     },
     "execution_count": 11,
     "metadata": {},
     "output_type": "execute_result"
    }
   ],
   "source": [
    "my_set={1,343,44,5}\n",
    "my_set2={1,2,3}\n",
    "my_set.remove(343)\n",
    "my_set"
   ]
  },
  {
   "cell_type": "code",
   "execution_count": 12,
   "id": "d430c10e-1bd1-44f9-b1f5-874ba5a360b8",
   "metadata": {},
   "outputs": [
    {
     "data": {
      "text/plain": [
       "{1, 5, 44, 343}"
      ]
     },
     "execution_count": 12,
     "metadata": {},
     "output_type": "execute_result"
    }
   ],
   "source": [
    "my_set={1,343,44,5}\n",
    "my_set2={1,2,3}\n",
    "my_set.intersection(my_set2)\n",
    "my_set"
   ]
  },
  {
   "cell_type": "code",
   "execution_count": 13,
   "id": "d7bd55d9-2529-4e4d-915a-dbcf4f86e149",
   "metadata": {},
   "outputs": [
    {
     "data": {
      "text/plain": [
       "{1}"
      ]
     },
     "execution_count": 13,
     "metadata": {},
     "output_type": "execute_result"
    }
   ],
   "source": [
    "my_set={1,343,44,5}\n",
    "my_set2={1,2,3}\n",
    "my_set.intersection_update(my_set2)\n",
    "my_set"
   ]
  },
  {
   "cell_type": "code",
   "execution_count": 17,
   "id": "8707cc44-922c-4ca2-b1c4-6eec8fd14766",
   "metadata": {},
   "outputs": [
    {
     "data": {
      "text/plain": [
       "True"
      ]
     },
     "execution_count": 17,
     "metadata": {},
     "output_type": "execute_result"
    }
   ],
   "source": [
    "my_set={1,343,44,5}\n",
    "my_set2={9,2,3}\n",
    "my_set.isdisjoint(my_set2)\n"
   ]
  },
  {
   "cell_type": "code",
   "execution_count": 24,
   "id": "146eed2f-742c-49cd-88a0-378d43b455ce",
   "metadata": {},
   "outputs": [
    {
     "data": {
      "text/plain": [
       "True"
      ]
     },
     "execution_count": 24,
     "metadata": {},
     "output_type": "execute_result"
    }
   ],
   "source": [
    "# my_set={1,343,44,5}\n",
    "# my_set2={1,2,3}\n",
    "my_set={1,2,3,4,5}\n",
    "my_set2={1,2,3}\n"
   ]
  },
  {
   "cell_type": "code",
   "execution_count": 25,
   "id": "f13650d4-4b92-4489-bd9f-15c5ab46a050",
   "metadata": {},
   "outputs": [],
   "source": [
    "my_set={1,2,3,4,5}\n",
    "my_set2={1,2,3}\n",
    "\n",
    "my_set.issuperset(my_set2)"
   ]
  },
  {
   "cell_type": "code",
   "execution_count": 37,
   "id": "2111149a-cd13-42d7-bda1-29da868ae6aa",
   "metadata": {},
   "outputs": [
    {
     "data": {
      "text/plain": [
       "1"
      ]
     },
     "execution_count": 37,
     "metadata": {},
     "output_type": "execute_result"
    }
   ],
   "source": [
    "my_set={1,2,3,4,5}\n",
    "my_set.pop()"
   ]
  },
  {
   "cell_type": "code",
   "execution_count": 38,
   "id": "c27b3d10-cf11-4d60-af18-d74fb73345fc",
   "metadata": {},
   "outputs": [
    {
     "data": {
      "text/plain": [
       "{4, 5}"
      ]
     },
     "execution_count": 38,
     "metadata": {},
     "output_type": "execute_result"
    }
   ],
   "source": [
    "my_set={1,2,3,4,5}\n",
    "my_set2={1,2,3}\n",
    "my_set.symmetric_difference(my_set2)"
   ]
  },
  {
   "cell_type": "code",
   "execution_count": 39,
   "id": "6f339ce1-ab5f-4a01-9088-28b28640dea7",
   "metadata": {},
   "outputs": [
    {
     "data": {
      "text/plain": [
       "{1, 2, 3, 4, 5}"
      ]
     },
     "execution_count": 39,
     "metadata": {},
     "output_type": "execute_result"
    }
   ],
   "source": [
    "my_set={1,2,3,4,5}\n",
    "my_set2={1,2,3}\n",
    "my_set.union(my_set2)\n",
    "my_set"
   ]
  },
  {
   "cell_type": "code",
   "execution_count": 41,
   "id": "4d25d727-d9f2-4da2-bb88-31af6a3fa91f",
   "metadata": {},
   "outputs": [
    {
     "data": {
      "text/plain": [
       "{1, 2, 3, 4, 5, 7}"
      ]
     },
     "execution_count": 41,
     "metadata": {},
     "output_type": "execute_result"
    }
   ],
   "source": [
    "my_set={1,2,3,4,5}\n",
    "my_set2={1,2,7,3}\n",
    "my_set.update(my_set2)\n",
    "my_set"
   ]
  },
  {
   "cell_type": "code",
   "execution_count": null,
   "id": "0192bc44-6fa4-4530-b840-d3e4ba9716e8",
   "metadata": {},
   "outputs": [],
   "source": []
  }
 ],
 "metadata": {
  "kernelspec": {
   "display_name": "Python 3 (ipykernel)",
   "language": "python",
   "name": "python3"
  },
  "language_info": {
   "codemirror_mode": {
    "name": "ipython",
    "version": 3
   },
   "file_extension": ".py",
   "mimetype": "text/x-python",
   "name": "python",
   "nbconvert_exporter": "python",
   "pygments_lexer": "ipython3",
   "version": "3.12.0"
  }
 },
 "nbformat": 4,
 "nbformat_minor": 5
}
