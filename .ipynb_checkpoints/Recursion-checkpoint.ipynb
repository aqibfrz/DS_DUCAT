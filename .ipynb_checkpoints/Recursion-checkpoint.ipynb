{
 "cells": [
  {
   "cell_type": "markdown",
   "id": "2041a87c-a495-49b6-9fa2-cd7a8e426baa",
   "metadata": {},
   "source": [
    "# Recurrsion\n"
   ]
  },
  {
   "cell_type": "code",
   "execution_count": 2,
   "id": "e5ecdead-2360-4679-a49e-993a0f0a0edc",
   "metadata": {},
   "outputs": [],
   "source": [
    "#factorial\n",
    "# fact(4)=4x3x2x1"
   ]
  },
  {
   "cell_type": "code",
   "execution_count": 13,
   "id": "394155f4-7d4e-45c2-bb24-50a8c7cb1b1c",
   "metadata": {},
   "outputs": [
    {
     "name": "stdout",
     "output_type": "stream",
     "text": [
      "24\n"
     ]
    }
   ],
   "source": [
    "def fact(n):\n",
    "    if n==0 or n==1:\n",
    "        return 1\n",
    "    else:\n",
    "        \n",
    "        return n * fact(n-1)\n",
    "    \n",
    "n=4\n",
    "print(fact(n))"
   ]
  },
  {
   "cell_type": "code",
   "execution_count": null,
   "id": "8c5fc09e-accd-4b0b-a616-dd778326f463",
   "metadata": {},
   "outputs": [],
   "source": []
  }
 ],
 "metadata": {
  "kernelspec": {
   "display_name": "Python 3 (ipykernel)",
   "language": "python",
   "name": "python3"
  },
  "language_info": {
   "codemirror_mode": {
    "name": "ipython",
    "version": 3
   },
   "file_extension": ".py",
   "mimetype": "text/x-python",
   "name": "python",
   "nbconvert_exporter": "python",
   "pygments_lexer": "ipython3",
   "version": "3.12.0"
  }
 },
 "nbformat": 4,
 "nbformat_minor": 5
}
