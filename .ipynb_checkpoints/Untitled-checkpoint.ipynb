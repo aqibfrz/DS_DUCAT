{
 "cells": [
  {
   "cell_type": "code",
   "execution_count": null,
   "id": "ec6cf8fe-4a1c-4dac-8ea3-2c72fc27613e",
   "metadata": {},
   "outputs": [],
   "source": [
    "import pyttsx3\n",
    "\n",
    "def says(text):\n",
    "    engine = pyttsx3.init()\n",
    "    engine.say(text)\n",
    "    engine.runAndWait()\n",
    "    \n",
    "\n",
    "dict1={'pen':10,'notebook': 20};\n",
    "says('Hello this is jarvis')\n",
    "says('enter the product name to search')\n",
    "tar=input('enter product to search their price:')\n",
    "if tar in dict1:\n",
    "    says(f'the price of {tar} is: {dict1[tar]}')\n",
    "    print(f'the price of {tar} is: {dict1[tar]}')\n",
    "else:\n",
    "    print('product are not avalible in the list\\nwant to update your price\\nyes or no')\n",
    "    says('product are not avalible in the list and want to update your price')\n",
    "    says('yes or no')\n",
    "    n=input()\n",
    "    if n=='yes':\n",
    "        says('enter your product')\n",
    "        m=input('enter your product')\n",
    "        if m in dict1:\n",
    "            says('enter your price')\n",
    "            s=int(input('enter the price'))\n",
    "            dict1[m]=s\n",
    "            says('price is Updated')\n",
    "            print(dict1)\n",
    "        else:\n",
    "            says('exit-->thanks')\n",
    "            print('exit-->thanks')\n",
    "    else:\n",
    "        says('No updation\\nTerminated-->Successfully')\n",
    "        print('No updation\\nTerminated-->Successfully')\n"
   ]
  }
 ],
 "metadata": {
  "kernelspec": {
   "display_name": "Python 3 (ipykernel)",
   "language": "python",
   "name": "python3"
  },
  "language_info": {
   "codemirror_mode": {
    "name": "ipython",
    "version": 3
   },
   "file_extension": ".py",
   "mimetype": "text/x-python",
   "name": "python",
   "nbconvert_exporter": "python",
   "pygments_lexer": "ipython3",
   "version": "3.12.0"
  }
 },
 "nbformat": 4,
 "nbformat_minor": 5
}
