{
 "cells": [
  {
   "cell_type": "markdown",
   "id": "16c13806-cf33-4697-952a-3ded095324e3",
   "metadata": {},
   "source": [
    "# 50 QUESTIONS OF PYTHON"
   ]
  },
  {
   "cell_type": "code",
   "execution_count": 26,
   "id": "2e8c917b-ef31-4d63-97a4-6b487831e154",
   "metadata": {},
   "outputs": [
    {
     "name": "stdin",
     "output_type": "stream",
     "text": [
      "Enter your number:  5\n"
     ]
    },
    {
     "name": "stdout",
     "output_type": "stream",
     "text": [
      "its a Prime number\n"
     ]
    }
   ],
   "source": [
    "##Take the input from user and find whether number is prime or not?\n",
    "n=int(input('Enter your number: '))\n",
    "flag=False\n",
    "if n==0 or n==1:\n",
    "    print('not a prime number')\n",
    "else:\n",
    "    for i in range(2,int(n**0.5)+1):\n",
    "        if (n%i==0):\n",
    "            flag=True\n",
    "            break\n",
    "if(flag==False):\n",
    "    print('its a Prime number')\n",
    "else:\n",
    "    print('not a prime number')\n",
    "            "
   ]
  },
  {
   "cell_type": "code",
   "execution_count": 69,
   "id": "28987cbe-08ab-4560-abad-387304248f1d",
   "metadata": {},
   "outputs": [
    {
     "name": "stdin",
     "output_type": "stream",
     "text": [
      "Enter number:  5\n"
     ]
    },
    {
     "name": "stdout",
     "output_type": "stream",
     "text": [
      "120\n",
      "None\n"
     ]
    }
   ],
   "source": [
    "#4. Calculate factorial of a number\n",
    "# Write a function calculate_factorial that takes a number as input and returns its factorial. Handle\n",
    "# cases where the input is not a non-negative integer or zero.\n",
    "# Example: If number is 5 factorials will be (5x4x2x3x2x1=120)\n",
    "# Expected output: 120 if number is 5\n",
    "\n",
    "def palindrome(num):\n",
    "    \n",
    "    fact=1\n",
    "    if fact ==0:\n",
    "        print(1)\n",
    "    else:\n",
    "        for i in range(1,num+1):\n",
    "\n",
    "            fact=fact*i\n",
    "        print(fact)\n",
    "\n",
    "num=int(input('Enter number: '))\n",
    "palindrome(num)"
   ]
  },
  {
   "cell_type": "code",
   "execution_count": 5,
   "id": "786c2788-0b9a-4d4e-81d7-454aec16175f",
   "metadata": {},
   "outputs": [
    {
     "data": {
      "text/plain": [
       "'olleh'"
      ]
     },
     "execution_count": 5,
     "metadata": {},
     "output_type": "execute_result"
    }
   ],
   "source": [
    "##2. Reverse the string using for loop.\n",
    "# string = \"Python\"\n",
    "# Expected output = \"nohtyP\"\n",
    "\n",
    "# s=input('enter the string')\n",
    "# for i in range(len(s)-1,-1,-1):\n",
    "#     print(s[i],end=\"\")\n",
    "#     # print(i)\n",
    "def rev(strr):\n",
    "    rev=''\n",
    "    for char in s:\n",
    "        rev=char+rev\n",
    "    return rev\n",
    "\n",
    "if __main__:\"__name__\":\n",
    "    str\n",
    "    rev(strr)\n",
    "    \n"
   ]
  },
  {
   "cell_type": "code",
   "execution_count": 48,
   "id": "163fefca-0f11-48c5-a3c9-c72d2c7cd0e9",
   "metadata": {},
   "outputs": [
    {
     "name": "stdin",
     "output_type": "stream",
     "text": [
      "Enter the String:  heheh\n"
     ]
    },
    {
     "name": "stdout",
     "output_type": "stream",
     "text": [
      "this is palindrome\n"
     ]
    }
   ],
   "source": [
    "# 3. Palindrome Check (String Problem)\n",
    "# Write a function to check whether a given string is a palindrome (a string that reads the same)\n",
    "# forward and backward is called palindrome).\n",
    "# String = “mom” # if we reverse this string, we get the same Output “mom”\n",
    "# Expected output: string is a palindrome.\n",
    "def palindrome(string):\n",
    "    if string==string[::-1]:\n",
    "        print('this is palindrome')\n",
    "    else:\n",
    "        print('its is not')\n",
    "        \n",
    "string=input('Enter the String: ')\n",
    "palindrome(string)"
   ]
  },
  {
   "cell_type": "code",
   "execution_count": 223,
   "id": "627c1f0f-a079-4a16-bf6c-dbf069774075",
   "metadata": {},
   "outputs": [
    {
     "data": {
      "text/plain": [
       "9"
      ]
     },
     "execution_count": 223,
     "metadata": {},
     "output_type": "execute_result"
    }
   ],
   "source": [
    "'''5. Find the Second Largest Element in a List using for loop.\n",
    "Write a function to find the second largest element in a list without using built-in sorting.\n",
    "Example\n",
    "Input: [7, 5, 8, 2, 10, 9]\n",
    "Expected Output: 9\n",
    "Example\n",
    "Input: [4, 4, 4, 4]\n",
    "Expected Output: None'''\n",
    "\n",
    "def second_L(num):\n",
    "    first,second=0,0\n",
    "    for i in num:\n",
    "        if i>first:\n",
    "            second=first\n",
    "            first=i\n",
    "        elif i > second and i!=first:\n",
    "            second=i\n",
    "    return second\n",
    "\n",
    "\n",
    "list1=[7, 5, 8, 2, 10, 9]\n",
    "second_L(list1)"
   ]
  },
  {
   "cell_type": "code",
   "execution_count": 76,
   "id": "1d9b9324-1fee-4638-9dd6-4fe0c5f1e526",
   "metadata": {},
   "outputs": [
    {
     "name": "stdin",
     "output_type": "stream",
     "text": [
      "enter string 4 5 6 7 9 8 1 2\n"
     ]
    },
    {
     "name": "stdout",
     "output_type": "stream",
     "text": [
      "8\n"
     ]
    }
   ],
   "source": [
    "num=sorted(input('enter string').split( ))[-2]\n",
    "print(num)"
   ]
  },
  {
   "cell_type": "code",
   "execution_count": 209,
   "id": "90f4b50c-f80d-4f7e-9744-10c43fa6e7fe",
   "metadata": {},
   "outputs": [
    {
     "name": "stdout",
     "output_type": "stream",
     "text": [
      "this is Anagram\n"
     ]
    }
   ],
   "source": [
    "# s1='listen'\n",
    "# s2='silent'\n",
    "# flag=False\n",
    "# if len(s1)!=len(s2):\n",
    "#     print('this is not anagram')\n",
    "# else:\n",
    "#     for char in range(len(s1)):\n",
    "#         if s1[char] in s2:\n",
    "#             if s2[char] in s1:\n",
    "#                 flag=True\n",
    "#                 break\n",
    "#             else:\n",
    "#                 flag=False\n",
    "#                 break\n",
    "#         else:\n",
    "#             pass\n",
    "\n",
    "# if flag==True:\n",
    "#     print('this is an Anagram')\n",
    "# else:\n",
    "#     print('This is not')\n",
    "            \n",
    "        # if char in s2:\n",
    "        #     print('yes')\n",
    "        #     break\n",
    "        # else:\n",
    "        #     print('false')\n",
    "        #     break\n",
    "\n",
    "\n",
    "s1='listen'\n",
    "s2='silent'\n",
    "flag=False\n",
    "if len(s1)!=len(s2):\n",
    "    flag= False\n",
    "else:\n",
    "    for i in range(len(s1)):\n",
    "        if s2[i] in s1:\n",
    "            if s1[i] in s2:\n",
    "                flag=True\n",
    "            else:\n",
    "                flag=False\n",
    "                break\n",
    "        else:\n",
    "            flag = False\n",
    "            break\n",
    "if flag==True:\n",
    "    print('this is Anagram')\n",
    "else:\n",
    "    print('its not')"
   ]
  },
  {
   "cell_type": "code",
   "execution_count": 98,
   "id": "f35a91f9-994e-4fcf-97c4-14d9eef9ac25",
   "metadata": {},
   "outputs": [
    {
     "name": "stdin",
     "output_type": "stream",
     "text": [
      "Enter the String aquib\n"
     ]
    },
    {
     "name": "stdout",
     "output_type": "stream",
     "text": [
      "3\n"
     ]
    }
   ],
   "source": [
    "##count the vovel in str\n",
    "st=input('Enter the String')\n",
    "v=['a','e','i','o','u']\n",
    "count=0\n",
    "for i in range(len(st)):\n",
    "    if st[i] in v:\n",
    "        count+=1\n",
    "    else:\n",
    "        pass\n",
    "print(count)\n",
    "    "
   ]
  },
  {
   "cell_type": "code",
   "execution_count": null,
   "id": "68e83713-a769-4679-aab1-7e8045be9945",
   "metadata": {},
   "outputs": [],
   "source": []
  },
  {
   "cell_type": "code",
   "execution_count": 140,
   "id": "3bc0c463-c99a-40d8-b072-5c6205cf7874",
   "metadata": {},
   "outputs": [
    {
     "name": "stdin",
     "output_type": "stream",
     "text": [
      " 6382\n"
     ]
    },
    {
     "name": "stdout",
     "output_type": "stream",
     "text": [
      "19\n"
     ]
    }
   ],
   "source": [
    "num = input()\n",
    "count  = 0\n",
    "for i in range(len(num)):\n",
    "    count+=int(num[i])\n",
    "print(count)"
   ]
  },
  {
   "cell_type": "code",
   "execution_count": 144,
   "id": "2212ebea-9ce9-4fd1-b429-d56c54be1050",
   "metadata": {},
   "outputs": [
    {
     "name": "stdin",
     "output_type": "stream",
     "text": [
      " 3 4 5 6 7 8\n"
     ]
    },
    {
     "name": "stdout",
     "output_type": "stream",
     "text": [
      "[3, 4, 5, 6, 7, 8]\n"
     ]
    }
   ],
   "source": [
    "a = list(map(int, input().split()))\n",
    "print(a)\n",
    "\n"
   ]
  },
  {
   "cell_type": "code",
   "execution_count": 188,
   "id": "54631997-6fcd-47ad-bbbf-593af01dc07d",
   "metadata": {},
   "outputs": [
    {
     "name": "stdout",
     "output_type": "stream",
     "text": [
      "1\n",
      "2\n",
      "3\n",
      "5\n",
      "8\n"
     ]
    }
   ],
   "source": [
    "##fabbonacci\n",
    "def febbo(n):\n",
    "    a=0\n",
    "    b=1\n",
    "    if n<0:\n",
    "        print('incorrect o/P')\n",
    "    elif n==1:\n",
    "        print(b)\n",
    "    else:\n",
    "        for i in range(0,n):\n",
    "            c=a+b\n",
    "            a=b\n",
    "            b=c\n",
    "            print(b)\n",
    "            \n",
    "        \n",
    "n=5\n",
    "febbo(n)\n"
   ]
  },
  {
   "cell_type": "code",
   "execution_count": 174,
   "id": "d6450c75-a1d0-49b2-bcf7-dfcc4da10a87",
   "metadata": {},
   "outputs": [
    {
     "name": "stdin",
     "output_type": "stream",
     "text": [
      "Enter the list 4 5 5 6 7 8 9\n"
     ]
    },
    {
     "data": {
      "text/plain": [
       "{4, 5, 6, 7, 8, 9}"
      ]
     },
     "execution_count": 174,
     "metadata": {},
     "output_type": "execute_result"
    }
   ],
   "source": [
    "#remove dublicate\n",
    "def Remov_Duplicate(num):\n",
    "    s=set()\n",
    "    for i in num:\n",
    "        s.add(i)\n",
    "    return s\n",
    "\n",
    "\n",
    "num=map(int,input('Enter the list').split( ))\n",
    "Remov_Duplicate(num)\n"
   ]
  },
  {
   "cell_type": "code",
   "execution_count": 175,
   "id": "6ee5d001-e1c9-44a8-b6aa-bf7249786e82",
   "metadata": {},
   "outputs": [
    {
     "name": "stdout",
     "output_type": "stream",
     "text": [
      "[1, 3, 2, 4, 5]\n"
     ]
    }
   ],
   "source": [
    "##remove dubliacte..\n",
    "list2=[1,3,2,4,1,5]\n",
    "x=[]\n",
    "for i in list2:\n",
    "    if i not in x:\n",
    "        x.append(i)\n",
    "    else:\n",
    "        pass\n",
    "print(x)\n",
    "        "
   ]
  },
  {
   "cell_type": "code",
   "execution_count": 221,
   "id": "56e80153-bea5-415e-b851-b92e1da26222",
   "metadata": {},
   "outputs": [
    {
     "name": "stdout",
     "output_type": "stream",
     "text": [
      "dict_items([('aqib', 1)])\n"
     ]
    }
   ],
   "source": [
    "dct={'aqib':1};\n",
    "print(dct.items())"
   ]
  },
  {
   "cell_type": "code",
   "execution_count": 17,
   "id": "6c1a8cf6-1da1-441e-9653-d9c8988f0380",
   "metadata": {},
   "outputs": [
    {
     "name": "stdin",
     "output_type": "stream",
     "text": [
      "Enter the Year! 1945\n"
     ]
    },
    {
     "name": "stdout",
     "output_type": "stream",
     "text": [
      "...Not a Leap year...\n",
      " Try differnet\n"
     ]
    }
   ],
   "source": [
    "#LEAP YEAR\n",
    "def check_leap_year(n):\n",
    "    if n%4==0:\n",
    "        if n%400==0 or n%100!=0:\n",
    "            print('leap year')\n",
    "        else:\n",
    "            print('not a leap year')\n",
    "    else:\n",
    "        print('...Not a Leap year...\\n Try some differnet')\n",
    "n=int(input('Enter the Year!'))\n",
    "check_leap_year(n)"
   ]
  },
  {
   "cell_type": "code",
   "execution_count": 20,
   "id": "47b3a282-cf7d-4707-83f3-923aa07d058b",
   "metadata": {},
   "outputs": [
    {
     "name": "stdin",
     "output_type": "stream",
     "text": [
      "Enter x 2\n",
      "Enter y 3\n"
     ]
    },
    {
     "name": "stdout",
     "output_type": "stream",
     "text": [
      "2^3-> 8\n"
     ]
    }
   ],
   "source": [
    "def power(x,y):\n",
    "    p=(x**y)\n",
    "    return p\n",
    "\n",
    "x=int(input('Enter x'))\n",
    "y=int(input('Enter y'))\n",
    "print(f'{x}^{y}->',power(x,y))"
   ]
  },
  {
   "cell_type": "code",
   "execution_count": 31,
   "id": "22c4ec2e-c039-4e0a-98e8-6583ee66766a",
   "metadata": {},
   "outputs": [
    {
     "name": "stdin",
     "output_type": "stream",
     "text": [
      "enter the number: 7\n"
     ]
    },
    {
     "name": "stdout",
     "output_type": "stream",
     "text": [
      "[2, 4, 6]\n"
     ]
    }
   ],
   "source": [
    "#generate list of even number\n",
    "def even_num(n):\n",
    "    list1=[]\n",
    "    for i in range(1,n+1):\n",
    "        if i%2==0:    \n",
    "            list1.append(i)\n",
    "        else:\n",
    "            pass\n",
    "    return list1\n",
    "\n",
    "a=int(input('enter the number:'))\n",
    "ans=even_num(a)\n",
    "print(ans)        \n",
    "        "
   ]
  },
  {
   "cell_type": "code",
   "execution_count": 20,
   "id": "904935df-d9ac-44c2-99be-5b17ab6f5179",
   "metadata": {},
   "outputs": [
    {
     "name": "stdin",
     "output_type": "stream",
     "text": [
      "enter the element that you want to search:  4\n"
     ]
    },
    {
     "name": "stdout",
     "output_type": "stream",
     "text": [
      "Element is present at index 3\n"
     ]
    }
   ],
   "source": [
    "###### . Binary Search Implementation\n",
    "def binary_S(list1,t):\n",
    "    s=0\n",
    "    e=len(list1)\n",
    "    mid=s+(e-s)//2\n",
    "    while(s<=e):\n",
    "    \n",
    "        mid=s+(e-s)//2\n",
    "        if t == list1[mid]:\n",
    "            return mid\n",
    "        elif t > list1[mid]:\n",
    "            s=mid+1\n",
    "        else:\n",
    "            e=mid-1\n",
    "    return -1\n",
    "\n",
    "list1=[1,2,3,4,5,6]\n",
    "t=int(input('enter the element that you want to search: '))\n",
    "\n",
    "print('Element is present at index',binary_S(list1,t))\n",
    "    \n",
    "    \n",
    "\n"
   ]
  },
  {
   "cell_type": "code",
   "execution_count": 13,
   "id": "3637033e-11b1-4a54-990e-715ae1187af8",
   "metadata": {},
   "outputs": [
    {
     "data": {
      "text/plain": [
       "[100, 400, 900, 1600, 357911]"
      ]
     },
     "execution_count": 13,
     "metadata": {},
     "output_type": "execute_result"
    }
   ],
   "source": [
    "list2=[10,20,30,40,71]\n",
    "new_list=[i**2 if i%2==0 else i**3  for i in list2]\n",
    "new_list"
   ]
  },
  {
   "cell_type": "code",
   "execution_count": 12,
   "id": "b176ac8b-8b67-4de2-9807-d740c1aa2b46",
   "metadata": {},
   "outputs": [
    {
     "data": {
      "text/plain": [
       "[100, 400, 900, 1600]"
      ]
     },
     "execution_count": 12,
     "metadata": {},
     "output_type": "execute_result"
    }
   ],
   "source": [
    "list3=[10,20,30,40,71]\n",
    "new_list=[(i**2) for i in list3 if i%2==0]\n",
    "new_list"
   ]
  },
  {
   "cell_type": "code",
   "execution_count": null,
   "id": "ced4db0c-9f20-4224-b23d-28693f3e96d1",
   "metadata": {},
   "outputs": [],
   "source": []
  }
 ],
 "metadata": {
  "kernelspec": {
   "display_name": "Python 3 (ipykernel)",
   "language": "python",
   "name": "python3"
  },
  "language_info": {
   "codemirror_mode": {
    "name": "ipython",
    "version": 3
   },
   "file_extension": ".py",
   "mimetype": "text/x-python",
   "name": "python",
   "nbconvert_exporter": "python",
   "pygments_lexer": "ipython3",
   "version": "3.12.0"
  }
 },
 "nbformat": 4,
 "nbformat_minor": 5
}
