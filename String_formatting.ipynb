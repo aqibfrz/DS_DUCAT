{
 "cells": [
  {
   "cell_type": "code",
   "execution_count": 7,
   "id": "a525ba87-8446-43e2-8e34-f13df477aabd",
   "metadata": {},
   "outputs": [
    {
     "data": {
      "text/plain": [
       "'D:\\\\DS_ML_Training'"
      ]
     },
     "execution_count": 7,
     "metadata": {},
     "output_type": "execute_result"
    }
   ],
   "source": [
    "pwd"
   ]
  },
  {
   "cell_type": "markdown",
   "id": "ef7c7d74-3ea7-4bfc-a0fa-7391ae921733",
   "metadata": {},
   "source": [
    "String Formatting."
   ]
  },
  {
   "cell_type": "code",
   "execution_count": 1,
   "id": "8db5ddf0-c513-4cd9-ad8f-14a4ef56b8c6",
   "metadata": {},
   "outputs": [
    {
     "name": "stdout",
     "output_type": "stream",
     "text": [
      "my name is aqib and my id is 78\n"
     ]
    }
   ],
   "source": [
    "name='aqib'\n",
    "id=78\n",
    "print(f'my name is {name} and my id is {id}')"
   ]
  },
  {
   "cell_type": "code",
   "execution_count": 4,
   "id": "c4a4b9d7-0e82-400f-9dc0-81be9be05911",
   "metadata": {},
   "outputs": [
    {
     "name": "stdout",
     "output_type": "stream",
     "text": [
      "my name is aqib and my id is 78\n"
     ]
    }
   ],
   "source": [
    "print(f'my name is %s and my id is %s'%(name,id))"
   ]
  },
  {
   "cell_type": "code",
   "execution_count": 6,
   "id": "9d5b2a86-a10a-4976-939f-98d3acdda7c2",
   "metadata": {},
   "outputs": [
    {
     "name": "stdout",
     "output_type": "stream",
     "text": [
      "my name is aqib and my id is 78\n"
     ]
    }
   ],
   "source": [
    "print('my name is {} and my id is {}'.format(name,id))"
   ]
  },
  {
   "cell_type": "markdown",
   "id": "85731543-0c4b-4611-b072-9a50ac926806",
   "metadata": {},
   "source": [
    "Scape Sequence"
   ]
  },
  {
   "cell_type": "code",
   "execution_count": null,
   "id": "6bfc26c1-4d99-4d0b-aaeb-1646afe03dcd",
   "metadata": {},
   "outputs": [],
   "source": []
  }
 ],
 "metadata": {
  "kernelspec": {
   "display_name": "Python 3 (ipykernel)",
   "language": "python",
   "name": "python3"
  },
  "language_info": {
   "codemirror_mode": {
    "name": "ipython",
    "version": 3
   },
   "file_extension": ".py",
   "mimetype": "text/x-python",
   "name": "python",
   "nbconvert_exporter": "python",
   "pygments_lexer": "ipython3",
   "version": "3.12.0"
  }
 },
 "nbformat": 4,
 "nbformat_minor": 5
}
