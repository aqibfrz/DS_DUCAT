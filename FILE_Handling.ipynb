{
 "cells": [
  {
   "cell_type": "markdown",
   "id": "e8a5363c-0f24-4e71-b609-95d2b15e172d",
   "metadata": {},
   "source": [
    "# File Handling\n",
    "os Module "
   ]
  },
  {
   "cell_type": "code",
   "execution_count": 11,
   "id": "3eebcf0b-9145-420e-af68-a485f9250d83",
   "metadata": {},
   "outputs": [
    {
     "data": {
      "text/plain": [
       "'D:\\\\DS_ML_Training'"
      ]
     },
     "execution_count": 11,
     "metadata": {},
     "output_type": "execute_result"
    }
   ],
   "source": [
    "import os\n",
    "os.getcwd()"
   ]
  },
  {
   "cell_type": "code",
   "execution_count": 2,
   "id": "0b6add2a-c6ac-4279-b895-45c1a91a9e67",
   "metadata": {},
   "outputs": [
    {
     "data": {
      "text/plain": [
       "['.git',\n",
       " '.ipynb_checkpoints',\n",
       " '.venv',\n",
       " '50_questions.ipynb',\n",
       " '75_Quesby_R_sir.ipynb',\n",
       " 'chd.py',\n",
       " 'Dictionary.ipynb',\n",
       " 'FILE_Handling.ipynb',\n",
       " 'Function.ipynb',\n",
       " 'List_Comprehension.ipynb',\n",
       " 'LOOPS.ipynb',\n",
       " 'Practice_Assignment.ipynb',\n",
       " 'Prctice_indexing.ipynb',\n",
       " 'product_finder.py',\n",
       " 'Prompt_LLM.py',\n",
       " 'Raw_string.ipynb',\n",
       " 'README.md',\n",
       " 'Recursion.ipynb',\n",
       " 'set_methodes.ipynb',\n",
       " 'String Methods.ipynb',\n",
       " 'String_formatting.ipynb',\n",
       " 'test_py.ipynb',\n",
       " 'Untitled.ipynb']"
      ]
     },
     "execution_count": 2,
     "metadata": {},
     "output_type": "execute_result"
    }
   ],
   "source": [
    "os.listdir()"
   ]
  },
  {
   "cell_type": "code",
   "execution_count": 4,
   "id": "8663f304-9eab-416b-9995-63a8530ca0b0",
   "metadata": {},
   "outputs": [
    {
     "data": {
      "text/plain": [
       "'D:\\\\DS_ML_Training'"
      ]
     },
     "execution_count": 4,
     "metadata": {},
     "output_type": "execute_result"
    }
   ],
   "source": [
    "pwd"
   ]
  },
  {
   "cell_type": "code",
   "execution_count": 5,
   "id": "a4139edb-00d7-4e41-b889-81d290bde6ff",
   "metadata": {},
   "outputs": [
    {
     "name": "stdout",
     "output_type": "stream",
     "text": [
      "file is present\n"
     ]
    }
   ],
   "source": [
    "if '.venv' in os.listdir():\n",
    "    print('file is present')\n",
    "else:\n",
    "    print('its not')"
   ]
  },
  {
   "cell_type": "code",
   "execution_count": 6,
   "id": "b4013a54-ac2d-4026-9a08-8912f1b2b9a9",
   "metadata": {},
   "outputs": [],
   "source": [
    "os.mkdir('my_new')"
   ]
  },
  {
   "cell_type": "code",
   "execution_count": 8,
   "id": "1b950d1b-ac38-46c4-b7e1-a1234f6a9fed",
   "metadata": {},
   "outputs": [
    {
     "data": {
      "text/plain": [
       "'Windows-11-10.0.22621-SP0'"
      ]
     },
     "execution_count": 8,
     "metadata": {},
     "output_type": "execute_result"
    }
   ],
   "source": [
    "import platform\n",
    "\n",
    "platform.platform()"
   ]
  },
  {
   "cell_type": "code",
   "execution_count": null,
   "id": "c17ca50f-b9aa-44d0-ba8b-6dde04224fba",
   "metadata": {},
   "outputs": [],
   "source": []
  },
  {
   "cell_type": "code",
   "execution_count": 15,
   "id": "9f7da685-86c5-40e1-b07b-9739232b4c57",
   "metadata": {},
   "outputs": [],
   "source": [
    "#Read file\n",
    "file=open('aqib.txt','r')\n",
    "content=file.read()\n",
    "file.close()\n"
   ]
  },
  {
   "cell_type": "code",
   "execution_count": 16,
   "id": "203bddf1-5414-424c-9b7c-b8bbed5f74bf",
   "metadata": {},
   "outputs": [
    {
     "name": "stdout",
     "output_type": "stream",
     "text": [
      "HEY!!! \n",
      "This is Aqib Firoz\n"
     ]
    }
   ],
   "source": [
    "print(content)"
   ]
  },
  {
   "cell_type": "code",
   "execution_count": 17,
   "id": "645bdc0e-01c0-426a-82fd-93d3bdc5fedd",
   "metadata": {},
   "outputs": [],
   "source": [
    "\n",
    "with open('aqib.txt','r') as file:\n",
    "    content=file.read()\n"
   ]
  },
  {
   "cell_type": "code",
   "execution_count": 18,
   "id": "5e3f8629-9b27-459f-9676-d610c11c9093",
   "metadata": {},
   "outputs": [
    {
     "name": "stdout",
     "output_type": "stream",
     "text": [
      "HEY!!! \n",
      "This is Aqib Firoz\n"
     ]
    }
   ],
   "source": [
    "print(content)"
   ]
  },
  {
   "cell_type": "code",
   "execution_count": 21,
   "id": "0fd85611-4c0a-4975-be5c-415108721a62",
   "metadata": {},
   "outputs": [],
   "source": [
    "# write file\n",
    "with open('aqib.txt1','w') as file:\n",
    "    content=file.write('this is firoz')\n"
   ]
  },
  {
   "cell_type": "code",
   "execution_count": 22,
   "id": "2449ff07-c8e1-48d7-9132-b8169884ba17",
   "metadata": {},
   "outputs": [],
   "source": [
    "#readline return list in a single line \n",
    "with open('aqib.txt','r') as file:\n",
    "    content=file.readlines()"
   ]
  },
  {
   "cell_type": "code",
   "execution_count": 23,
   "id": "ffbe4a26-9c32-42d3-a43e-0ce49a65d7de",
   "metadata": {},
   "outputs": [
    {
     "data": {
      "text/plain": [
       "'HEY!!! \\n'"
      ]
     },
     "execution_count": 23,
     "metadata": {},
     "output_type": "execute_result"
    }
   ],
   "source": [
    "content[0]"
   ]
  },
  {
   "cell_type": "code",
   "execution_count": 24,
   "id": "16957b2e-0cec-4d18-bcb5-6f15717beccd",
   "metadata": {},
   "outputs": [
    {
     "data": {
      "text/plain": [
       "'This is Aqib Firoz'"
      ]
     },
     "execution_count": 24,
     "metadata": {},
     "output_type": "execute_result"
    }
   ],
   "source": [
    "content[1]"
   ]
  },
  {
   "cell_type": "code",
   "execution_count": 1,
   "id": "485b35c8-a327-4003-a030-f9dc69feca5d",
   "metadata": {},
   "outputs": [
    {
     "data": {
      "text/plain": [
       "'Aquib'"
      ]
     },
     "execution_count": 1,
     "metadata": {},
     "output_type": "execute_result"
    }
   ],
   "source": [
    "def find_Lwords(Str):\n",
    "    words=Str.split()\n",
    "    max_len=0\n",
    "    longest_word=' '\n",
    "    for char in words:\n",
    "        if len(char) > max_len:\n",
    "            max_len=len(char)\n",
    "            longest_word=char\n",
    "    return longest_word\n",
    "\n",
    "Str='this is Aquib firoz'\n",
    "find_Lwords(Str)\n"
   ]
  },
  {
   "cell_type": "markdown",
   "id": "bb44aaa8-ac65-4eec-9118-e56cf8ce24a8",
   "metadata": {},
   "source": [
    "# modes"
   ]
  },
  {
   "cell_type": "markdown",
   "id": "acab3404-98f3-4d64-9e3e-e3e5a181a4d7",
   "metadata": {},
   "source": [
    " r = open file for reading (default).error if the file does not exist.\n",
    " w = open file for writing (be carefull it will overwrite all the data ).creates      file it des'nt exist"
   ]
  },
  {
   "cell_type": "code",
   "execution_count": 2,
   "id": "67edc22f-92c9-4786-99e6-8df182b95036",
   "metadata": {},
   "outputs": [],
   "source": [
    "file =open('aqib.txt','r')"
   ]
  },
  {
   "cell_type": "code",
   "execution_count": 3,
   "id": "cff9e7d0-2a57-40be-b6de-e266670e46ad",
   "metadata": {},
   "outputs": [
    {
     "data": {
      "text/plain": [
       "['HEY!!! \\n', 'This is Aqib Firoz']"
      ]
     },
     "execution_count": 3,
     "metadata": {},
     "output_type": "execute_result"
    }
   ],
   "source": [
    "file.readlines()"
   ]
  },
  {
   "cell_type": "code",
   "execution_count": 4,
   "id": "eb60a3d6-557e-4302-a586-ddcfd7f8a287",
   "metadata": {},
   "outputs": [
    {
     "data": {
      "text/plain": [
       "[]"
      ]
     },
     "execution_count": 4,
     "metadata": {},
     "output_type": "execute_result"
    }
   ],
   "source": [
    "file.readlines()"
   ]
  },
  {
   "cell_type": "code",
   "execution_count": 5,
   "id": "041cf940-43f3-4638-8cfd-8fa111b538cf",
   "metadata": {},
   "outputs": [],
   "source": [
    "file.close()"
   ]
  },
  {
   "cell_type": "code",
   "execution_count": 9,
   "id": "b270c5c6-69db-44f3-8d77-8689eef4fb0f",
   "metadata": {},
   "outputs": [
    {
     "name": "stdout",
     "output_type": "stream",
     "text": [
      "3\n",
      "!!! \n",
      "This is Aqib Firoz\n"
     ]
    }
   ],
   "source": [
    "# seek\n",
    "with open('aqib.txt','r') as file:\n",
    "    file.seek(3)#position of cursor pointer.\n",
    "    print(file.tell()) #define cursor pointer\n",
    "    print(file.read())\n",
    "    "
   ]
  },
  {
   "cell_type": "code",
   "execution_count": null,
   "id": "c4cfffdf-1b50-4860-b8f4-009233f08dbe",
   "metadata": {},
   "outputs": [],
   "source": []
  }
 ],
 "metadata": {
  "kernelspec": {
   "display_name": "Python 3 (ipykernel)",
   "language": "python",
   "name": "python3"
  },
  "language_info": {
   "codemirror_mode": {
    "name": "ipython",
    "version": 3
   },
   "file_extension": ".py",
   "mimetype": "text/x-python",
   "name": "python",
   "nbconvert_exporter": "python",
   "pygments_lexer": "ipython3",
   "version": "3.12.0"
  }
 },
 "nbformat": 4,
 "nbformat_minor": 5
}
