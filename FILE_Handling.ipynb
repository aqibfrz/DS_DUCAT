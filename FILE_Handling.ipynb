{
 "cells": [
  {
   "cell_type": "markdown",
   "id": "e8a5363c-0f24-4e71-b609-95d2b15e172d",
   "metadata": {},
   "source": [
    "# File Handling\n",
    "os Module "
   ]
  },
  {
   "cell_type": "code",
   "execution_count": 1,
   "id": "3eebcf0b-9145-420e-af68-a485f9250d83",
   "metadata": {},
   "outputs": [
    {
     "data": {
      "text/plain": [
       "'D:\\\\DS_ML_Training'"
      ]
     },
     "execution_count": 1,
     "metadata": {},
     "output_type": "execute_result"
    }
   ],
   "source": [
    "import os\n",
    "os.getcwd()"
   ]
  },
  {
   "cell_type": "code",
   "execution_count": 2,
   "id": "0b6add2a-c6ac-4279-b895-45c1a91a9e67",
   "metadata": {},
   "outputs": [
    {
     "data": {
      "text/plain": [
       "['.git',\n",
       " '.ipynb_checkpoints',\n",
       " '.venv',\n",
       " '50_questions.ipynb',\n",
       " '75_Quesby_R_sir.ipynb',\n",
       " 'chd.py',\n",
       " 'Dictionary.ipynb',\n",
       " 'FILE_Handling.ipynb',\n",
       " 'Function.ipynb',\n",
       " 'List_Comprehension.ipynb',\n",
       " 'LOOPS.ipynb',\n",
       " 'Practice_Assignment.ipynb',\n",
       " 'Prctice_indexing.ipynb',\n",
       " 'product_finder.py',\n",
       " 'Prompt_LLM.py',\n",
       " 'Raw_string.ipynb',\n",
       " 'README.md',\n",
       " 'Recursion.ipynb',\n",
       " 'set_methodes.ipynb',\n",
       " 'String Methods.ipynb',\n",
       " 'String_formatting.ipynb',\n",
       " 'test_py.ipynb',\n",
       " 'Untitled.ipynb']"
      ]
     },
     "execution_count": 2,
     "metadata": {},
     "output_type": "execute_result"
    }
   ],
   "source": [
    "os.listdir()"
   ]
  },
  {
   "cell_type": "code",
   "execution_count": 4,
   "id": "8663f304-9eab-416b-9995-63a8530ca0b0",
   "metadata": {},
   "outputs": [
    {
     "data": {
      "text/plain": [
       "'D:\\\\DS_ML_Training'"
      ]
     },
     "execution_count": 4,
     "metadata": {},
     "output_type": "execute_result"
    }
   ],
   "source": [
    "pwd\n"
   ]
  },
  {
   "cell_type": "code",
   "execution_count": 5,
   "id": "a4139edb-00d7-4e41-b889-81d290bde6ff",
   "metadata": {},
   "outputs": [
    {
     "name": "stdout",
     "output_type": "stream",
     "text": [
      "file is present\n"
     ]
    }
   ],
   "source": [
    "if '.venv' in os.listdir():\n",
    "    print('file is present')\n",
    "else:\n",
    "    print('its not')"
   ]
  },
  {
   "cell_type": "code",
   "execution_count": 6,
   "id": "b4013a54-ac2d-4026-9a08-8912f1b2b9a9",
   "metadata": {},
   "outputs": [],
   "source": [
    "os.mkdir('my_new')"
   ]
  },
  {
   "cell_type": "code",
   "execution_count": 8,
   "id": "1b950d1b-ac38-46c4-b7e1-a1234f6a9fed",
   "metadata": {},
   "outputs": [
    {
     "data": {
      "text/plain": [
       "'Windows-11-10.0.22621-SP0'"
      ]
     },
     "execution_count": 8,
     "metadata": {},
     "output_type": "execute_result"
    }
   ],
   "source": [
    "import platform\n",
    "\n",
    "platform.platform()"
   ]
  },
  {
   "cell_type": "code",
   "execution_count": null,
   "id": "c17ca50f-b9aa-44d0-ba8b-6dde04224fba",
   "metadata": {},
   "outputs": [],
   "source": [
    "## diff btw deep and shalow copy....\n",
    "# '==' referance same\n",
    "# inner 'nested elemet' id same \n",
    "# outer as well as inner in deep copy  "
   ]
  },
  {
   "cell_type": "code",
   "execution_count": null,
   "id": "9f7da685-86c5-40e1-b07b-9739232b4c57",
   "metadata": {},
   "outputs": [],
   "source": []
  }
 ],
 "metadata": {
  "kernelspec": {
   "display_name": "Python 3 (ipykernel)",
   "language": "python",
   "name": "python3"
  },
  "language_info": {
   "codemirror_mode": {
    "name": "ipython",
    "version": 3
   },
   "file_extension": ".py",
   "mimetype": "text/x-python",
   "name": "python",
   "nbconvert_exporter": "python",
   "pygments_lexer": "ipython3",
   "version": "3.12.0"
  }
 },
 "nbformat": 4,
 "nbformat_minor": 5
}
