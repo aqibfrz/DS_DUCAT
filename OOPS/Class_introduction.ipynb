{
 "cells": [
  {
   "cell_type": "code",
   "execution_count": 20,
   "id": "5e746243-c255-4d2d-a3d3-23df4f201338",
   "metadata": {},
   "outputs": [],
   "source": [
    "class Rex: #custom class\n",
    "\n",
    "    my_var=30 # class Variable...\n",
    "    \n",
    "    def chack(self): # Methods or function..\n",
    "        print('this is a object of Rex class')\n",
    "che_obj=Rex() #object\n"
   ]
  },
  {
   "cell_type": "code",
   "execution_count": 21,
   "id": "16063c55-8224-423e-9a26-7531e86dc3ff",
   "metadata": {},
   "outputs": [
    {
     "name": "stdout",
     "output_type": "stream",
     "text": [
      "this is a object of Rex class\n"
     ]
    }
   ],
   "source": [
    "che_obj.chack()"
   ]
  },
  {
   "cell_type": "code",
   "execution_count": 22,
   "id": "55776006-9ee1-41b5-8c77-c315316da90a",
   "metadata": {},
   "outputs": [
    {
     "data": {
      "text/plain": [
       "30"
      ]
     },
     "execution_count": 22,
     "metadata": {},
     "output_type": "execute_result"
    }
   ],
   "source": [
    "Rex.my_var\n"
   ]
  },
  {
   "cell_type": "code",
   "execution_count": 23,
   "id": "db511674-f99d-4987-988d-81cc602437b2",
   "metadata": {},
   "outputs": [
    {
     "data": {
      "text/plain": [
       "True"
      ]
     },
     "execution_count": 23,
     "metadata": {},
     "output_type": "execute_result"
    }
   ],
   "source": [
    "isinstance('this',str)"
   ]
  },
  {
   "cell_type": "code",
   "execution_count": 24,
   "id": "8731970d-d2f9-4e41-b390-e18198313415",
   "metadata": {},
   "outputs": [
    {
     "data": {
      "text/plain": [
       "True"
      ]
     },
     "execution_count": 24,
     "metadata": {},
     "output_type": "execute_result"
    }
   ],
   "source": [
    "# Instence or Object \n",
    "# class--> instence => instenciation\n",
    "\n",
    "isinstance(che_obj,Rex)"
   ]
  },
  {
   "cell_type": "code",
   "execution_count": 25,
   "id": "f90ab6b5-a9b2-4041-98f3-5f053f0d77c4",
   "metadata": {},
   "outputs": [
    {
     "data": {
      "text/plain": [
       "2"
      ]
     },
     "execution_count": 25,
     "metadata": {},
     "output_type": "execute_result"
    }
   ],
   "source": [
    "1+1"
   ]
  },
  {
   "cell_type": "code",
   "execution_count": 26,
   "id": "5b3348b9-6458-4bbe-b939-497e56b93c76",
   "metadata": {},
   "outputs": [
    {
     "data": {
      "text/plain": [
       "'11'"
      ]
     },
     "execution_count": 26,
     "metadata": {},
     "output_type": "execute_result"
    }
   ],
   "source": [
    "'1'+'1'"
   ]
  },
  {
   "cell_type": "code",
   "execution_count": 37,
   "id": "1d531f5f-675a-4b27-ac3f-a993c5577e71",
   "metadata": {},
   "outputs": [],
   "source": [
    "che_obj.my_var=20#instence variable\n",
    "che_obj.name='aqib' #same\n",
    "che_obj.city='noida' #sam3\n",
    "che_obj.lang='ML' #same"
   ]
  },
  {
   "cell_type": "code",
   "execution_count": 38,
   "id": "8b6a651b-a140-4396-b45a-6c5d3d28a470",
   "metadata": {},
   "outputs": [
    {
     "data": {
      "text/plain": [
       "20"
      ]
     },
     "execution_count": 38,
     "metadata": {},
     "output_type": "execute_result"
    }
   ],
   "source": [
    "che_obj.my_var"
   ]
  },
  {
   "cell_type": "code",
   "execution_count": 39,
   "id": "7e9364c4-1bdf-4e6d-882b-c76c92ba6ac4",
   "metadata": {},
   "outputs": [
    {
     "data": {
      "text/plain": [
       "30"
      ]
     },
     "execution_count": 39,
     "metadata": {},
     "output_type": "execute_result"
    }
   ],
   "source": [
    "Rex.my_var"
   ]
  },
  {
   "cell_type": "code",
   "execution_count": 40,
   "id": "5dd6c654-c806-4ac9-b495-3c73a117ccfa",
   "metadata": {},
   "outputs": [
    {
     "data": {
      "text/plain": [
       "20"
      ]
     },
     "execution_count": 40,
     "metadata": {},
     "output_type": "execute_result"
    }
   ],
   "source": [
    "che_obj.my_var"
   ]
  },
  {
   "cell_type": "code",
   "execution_count": 41,
   "id": "4a280871-0dff-4524-b309-6db7a21f10f9",
   "metadata": {},
   "outputs": [
    {
     "data": {
      "text/plain": [
       "{'my_var': 20, 'name': 'aqib', 'city': 'noida', 'lang': 'ML'}"
      ]
     },
     "execution_count": 41,
     "metadata": {},
     "output_type": "execute_result"
    }
   ],
   "source": [
    "che_obj.__dict__"
   ]
  },
  {
   "cell_type": "code",
   "execution_count": 44,
   "id": "3af4d467-5a62-4d1b-93b9-a2381ea39c68",
   "metadata": {},
   "outputs": [
    {
     "data": {
      "text/plain": [
       "mappingproxy({'__module__': '__main__',\n",
       "              'my_var': 30,\n",
       "              'chack': <function __main__.Rex.chack(self)>,\n",
       "              '__dict__': <attribute '__dict__' of 'Rex' objects>,\n",
       "              '__weakref__': <attribute '__weakref__' of 'Rex' objects>,\n",
       "              '__doc__': None})"
      ]
     },
     "execution_count": 44,
     "metadata": {},
     "output_type": "execute_result"
    }
   ],
   "source": [
    "Rex.__dict__"
   ]
  },
  {
   "cell_type": "code",
   "execution_count": 47,
   "id": "00adf636-48b7-4602-a993-4655bf36fe5c",
   "metadata": {},
   "outputs": [
    {
     "data": {
      "text/plain": [
       "True"
      ]
     },
     "execution_count": 47,
     "metadata": {},
     "output_type": "execute_result"
    }
   ],
   "source": [
    "isinstance(che_obj,Rex)"
   ]
  },
  {
   "cell_type": "code",
   "execution_count": null,
   "id": "75b0a5e2-9299-4082-ae8d-af63222656e5",
   "metadata": {},
   "outputs": [],
   "source": []
  }
 ],
 "metadata": {
  "kernelspec": {
   "display_name": "Python 3 (ipykernel)",
   "language": "python",
   "name": "python3"
  },
  "language_info": {
   "codemirror_mode": {
    "name": "ipython",
    "version": 3
   },
   "file_extension": ".py",
   "mimetype": "text/x-python",
   "name": "python",
   "nbconvert_exporter": "python",
   "pygments_lexer": "ipython3",
   "version": "3.12.0"
  }
 },
 "nbformat": 4,
 "nbformat_minor": 5
}
