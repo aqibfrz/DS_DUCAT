{
 "cells": [
  {
   "cell_type": "markdown",
   "id": "e6696e84-cd31-4a85-a861-5ed0682d5489",
   "metadata": {},
   "source": [
    "# Python Decorator"
   ]
  },
  {
   "cell_type": "code",
   "execution_count": 36,
   "id": "b0454a6e-1ead-46fa-8728-8fd50a31b8bc",
   "metadata": {},
   "outputs": [],
   "source": [
    "def upper_converter(function):\n",
    "    def wrapper_function():\n",
    "        function_return=function()\n",
    "        upper=function_return.upper()\n",
    "        return upper\n",
    "    return wrapper_function\n",
    "@upper_converter\n",
    "def greeting():\n",
    "    return 'hi aqib!!'"
   ]
  },
  {
   "cell_type": "code",
   "execution_count": 35,
   "id": "4e0f811a-e4e0-47fd-9526-678d1991735a",
   "metadata": {},
   "outputs": [
    {
     "data": {
      "text/plain": [
       "'HI AQIB!!'"
      ]
     },
     "execution_count": 35,
     "metadata": {},
     "output_type": "execute_result"
    }
   ],
   "source": [
    "# greeting=upper_converter(greeting)\n",
    "greeting()"
   ]
  },
  {
   "cell_type": "code",
   "execution_count": 31,
   "id": "2f63b0cc-033c-4afd-9b5c-3b9e8256041e",
   "metadata": {},
   "outputs": [
    {
     "data": {
      "text/plain": [
       "'HI AQIB!!'"
      ]
     },
     "execution_count": 31,
     "metadata": {},
     "output_type": "execute_result"
    }
   ],
   "source": [
    "# result\n",
    "greeting()"
   ]
  },
  {
   "cell_type": "code",
   "execution_count": 39,
   "id": "7db3764a-1a50-4fa4-85a7-9dd82e71d13f",
   "metadata": {},
   "outputs": [],
   "source": [
    "def converter(function):\n",
    "    def wrap_function():\n",
    "        return_val=function()\n",
    "        final_val=return_val.split('-')\n",
    "        return final_val\n",
    "    return wrap_function\n",
    "@converter\n",
    "def myself():\n",
    "    return 'my-name-is-aqib-firoz'\n"
   ]
  },
  {
   "cell_type": "code",
   "execution_count": 40,
   "id": "10caa494-cc17-4394-a405-b49296f73f98",
   "metadata": {},
   "outputs": [],
   "source": [
    "# myself=converter(myself)"
   ]
  },
  {
   "cell_type": "code",
   "execution_count": 41,
   "id": "09807ca4-6357-4d5f-8b82-74d47c5b87c6",
   "metadata": {},
   "outputs": [
    {
     "data": {
      "text/plain": [
       "['my', 'name', 'is', 'aqib', 'firoz']"
      ]
     },
     "execution_count": 41,
     "metadata": {},
     "output_type": "execute_result"
    }
   ],
   "source": [
    "myself()"
   ]
  },
  {
   "cell_type": "code",
   "execution_count": 29,
   "id": "8e117182-4712-430c-9698-34aa2e93728f",
   "metadata": {},
   "outputs": [
    {
     "data": {
      "text/plain": [
       "['my', 'name', 'is', 'aqib', 'firoz']"
      ]
     },
     "execution_count": 29,
     "metadata": {},
     "output_type": "execute_result"
    }
   ],
   "source": [
    "myself()"
   ]
  },
  {
   "cell_type": "code",
   "execution_count": 67,
   "id": "55db62d0-cb69-4888-9975-d8cf1a2ec8ea",
   "metadata": {},
   "outputs": [],
   "source": [
    "class days:\n",
    "    my_day='Monday'\n",
    "    def __init__(self,name,age,city):\n",
    "        self.name=name\n",
    "        self.age=age\n",
    "        self.city=city\n",
    "\n",
    "    def pri(self):\n",
    "        print(f'my name is {self.name}')\n",
    "    @classmethod\n",
    "    def changer(self,updated_name):\n",
    "        self.my_day=updated_name\n",
    "        return f'day is updated that is {updated_name}'\n",
    "        \n",
    "my_obj=days('aqib',18,'New Delhi')\n"
   ]
  },
  {
   "cell_type": "code",
   "execution_count": 68,
   "id": "78cf7d78-5947-4f27-b59e-8a324c203afc",
   "metadata": {},
   "outputs": [
    {
     "name": "stdout",
     "output_type": "stream",
     "text": [
      "my name is aqib\n"
     ]
    }
   ],
   "source": [
    "my_obj.pri()"
   ]
  },
  {
   "cell_type": "code",
   "execution_count": 69,
   "id": "f4012ea0-eb5c-4770-a40a-3ebfffbec84e",
   "metadata": {},
   "outputs": [
    {
     "data": {
      "text/plain": [
       "{'name': 'aqib', 'age': 18, 'city': 'New Delhi'}"
      ]
     },
     "execution_count": 69,
     "metadata": {},
     "output_type": "execute_result"
    }
   ],
   "source": [
    "my_obj.__dict__"
   ]
  },
  {
   "cell_type": "code",
   "execution_count": 70,
   "id": "c8b22430-3e67-4925-a5a4-2cf970723f30",
   "metadata": {},
   "outputs": [],
   "source": [
    "my_obj.my_day='sunday'"
   ]
  },
  {
   "cell_type": "code",
   "execution_count": 71,
   "id": "39719591-c4b8-49ed-9820-15c4c6655424",
   "metadata": {},
   "outputs": [
    {
     "data": {
      "text/plain": [
       "'sunday'"
      ]
     },
     "execution_count": 71,
     "metadata": {},
     "output_type": "execute_result"
    }
   ],
   "source": [
    "my_obj.my_day # accessing through obj"
   ]
  },
  {
   "cell_type": "code",
   "execution_count": 60,
   "id": "25d12fff-909b-4eb9-90fa-318eb56d3899",
   "metadata": {},
   "outputs": [
    {
     "data": {
      "text/plain": [
       "'Monday'"
      ]
     },
     "execution_count": 60,
     "metadata": {},
     "output_type": "execute_result"
    }
   ],
   "source": [
    "days.my_day # accessing through class"
   ]
  },
  {
   "cell_type": "code",
   "execution_count": 72,
   "id": "f2e3ed86-2122-4eb7-b6fa-c268dc8af92b",
   "metadata": {},
   "outputs": [
    {
     "data": {
      "text/plain": [
       "'day is updated that is Sunday'"
      ]
     },
     "execution_count": 72,
     "metadata": {},
     "output_type": "execute_result"
    }
   ],
   "source": [
    "my_obj.changer('Sunday')"
   ]
  },
  {
   "cell_type": "code",
   "execution_count": 66,
   "id": "67930526-2cff-4a7e-aa00-14fca14591b0",
   "metadata": {},
   "outputs": [
    {
     "data": {
      "text/plain": [
       "'Sunday'"
      ]
     },
     "execution_count": 66,
     "metadata": {},
     "output_type": "execute_result"
    }
   ],
   "source": [
    "days.my_day"
   ]
  },
  {
   "cell_type": "code",
   "execution_count": null,
   "id": "929e0f2d-13b5-4825-a6a8-4ea87d6bf538",
   "metadata": {},
   "outputs": [],
   "source": []
  }
 ],
 "metadata": {
  "kernelspec": {
   "display_name": "Python 3 (ipykernel)",
   "language": "python",
   "name": "python3"
  },
  "language_info": {
   "codemirror_mode": {
    "name": "ipython",
    "version": 3
   },
   "file_extension": ".py",
   "mimetype": "text/x-python",
   "name": "python",
   "nbconvert_exporter": "python",
   "pygments_lexer": "ipython3",
   "version": "3.12.0"
  }
 },
 "nbformat": 4,
 "nbformat_minor": 5
}
