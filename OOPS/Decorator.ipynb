{
 "cells": [
  {
   "cell_type": "markdown",
   "id": "e6696e84-cd31-4a85-a861-5ed0682d5489",
   "metadata": {},
   "source": [
    "# Python Decorator"
   ]
  },
  {
   "cell_type": "code",
   "execution_count": 36,
   "id": "b0454a6e-1ead-46fa-8728-8fd50a31b8bc",
   "metadata": {},
   "outputs": [],
   "source": [
    "def upper_converter(function):\n",
    "    def wrapper_function():\n",
    "        function_return=function()\n",
    "        upper=function_return.upper()\n",
    "        return upper\n",
    "    return wrapper_function\n",
    "@upper_converter\n",
    "def greeting():\n",
    "    return 'hi aqib!!'"
   ]
  },
  {
   "cell_type": "code",
   "execution_count": 35,
   "id": "4e0f811a-e4e0-47fd-9526-678d1991735a",
   "metadata": {},
   "outputs": [
    {
     "data": {
      "text/plain": [
       "'HI AQIB!!'"
      ]
     },
     "execution_count": 35,
     "metadata": {},
     "output_type": "execute_result"
    }
   ],
   "source": [
    "# greeting=upper_converter(greeting)\n",
    "greeting()"
   ]
  },
  {
   "cell_type": "code",
   "execution_count": 31,
   "id": "2f63b0cc-033c-4afd-9b5c-3b9e8256041e",
   "metadata": {},
   "outputs": [
    {
     "data": {
      "text/plain": [
       "'HI AQIB!!'"
      ]
     },
     "execution_count": 31,
     "metadata": {},
     "output_type": "execute_result"
    }
   ],
   "source": [
    "# result\n",
    "greeting()"
   ]
  },
  {
   "cell_type": "code",
   "execution_count": 39,
   "id": "7db3764a-1a50-4fa4-85a7-9dd82e71d13f",
   "metadata": {},
   "outputs": [],
   "source": [
    "def converter(function):\n",
    "    def wrap_function():\n",
    "        return_val=function()\n",
    "        final_val=return_val.split('-')\n",
    "        return final_val\n",
    "    return wrap_function\n",
    "@converter\n",
    "def myself():\n",
    "    return 'my-name-is-aqib-firoz'\n"
   ]
  },
  {
   "cell_type": "code",
   "execution_count": 40,
   "id": "10caa494-cc17-4394-a405-b49296f73f98",
   "metadata": {},
   "outputs": [],
   "source": [
    "# myself=converter(myself)"
   ]
  },
  {
   "cell_type": "code",
   "execution_count": 41,
   "id": "09807ca4-6357-4d5f-8b82-74d47c5b87c6",
   "metadata": {},
   "outputs": [
    {
     "data": {
      "text/plain": [
       "['my', 'name', 'is', 'aqib', 'firoz']"
      ]
     },
     "execution_count": 41,
     "metadata": {},
     "output_type": "execute_result"
    }
   ],
   "source": [
    "myself()"
   ]
  },
  {
   "cell_type": "code",
   "execution_count": 29,
   "id": "8e117182-4712-430c-9698-34aa2e93728f",
   "metadata": {},
   "outputs": [
    {
     "data": {
      "text/plain": [
       "['my', 'name', 'is', 'aqib', 'firoz']"
      ]
     },
     "execution_count": 29,
     "metadata": {},
     "output_type": "execute_result"
    }
   ],
   "source": [
    "myself()"
   ]
  },
  {
   "cell_type": "code",
   "execution_count": 12,
   "id": "55db62d0-cb69-4888-9975-d8cf1a2ec8ea",
   "metadata": {},
   "outputs": [],
   "source": [
    "class days:\n",
    "    my_day='Monday'\n",
    "    def __init__(self,name,age,city):\n",
    "        self.name=name\n",
    "        self.age=age\n",
    "        self.city=city\n",
    "\n",
    "    def pri(self):\n",
    "        print(f'my name is {self.name}')\n",
    "        \n",
    "    @classmethod\n",
    "    def changer(self,updated_name):\n",
    "        self.my_day=updated_name\n",
    "        return f'day is updated that is {updated_name}'\n",
    "        \n",
    "    ## class method as alternative constructor...\n",
    "\n",
    "    @classmethod\n",
    "    def object_creater(cls,string):\n",
    "        s_val=string.split('-')\n",
    "        return cls(s_val[0],s_val[1],s_val[2])\n",
    "\n",
    "    ## static methods...\n",
    "    @staticmethod\n",
    "    def greeting(name_string):\n",
    "        return f'hello good morning!! {name_string}'\n",
    "    ##property\n",
    "    @property\n",
    "    def my_new_method(self):\n",
    "        return 79\n",
    "        \n",
    "    \n",
    "my_obj=days('aqib',18,'New Delhi')\n",
    "new_object=days('aquib',90,'kanpur')\n",
    "aqib=days.object_creater('hamza-23-bangluru')\n"
   ]
  },
  {
   "cell_type": "code",
   "execution_count": 13,
   "id": "d098757c-ed0c-4e7d-baf4-9c40574dfed3",
   "metadata": {},
   "outputs": [
    {
     "data": {
      "text/plain": [
       "'hello good morning!! aqib'"
      ]
     },
     "execution_count": 13,
     "metadata": {},
     "output_type": "execute_result"
    }
   ],
   "source": [
    "aqib.greeting('aqib')"
   ]
  },
  {
   "cell_type": "code",
   "execution_count": 16,
   "id": "fcbd0cc5-e21e-4736-83cf-d3df0d8afdb1",
   "metadata": {},
   "outputs": [
    {
     "data": {
      "text/plain": [
       "79"
      ]
     },
     "execution_count": 16,
     "metadata": {},
     "output_type": "execute_result"
    }
   ],
   "source": [
    "aqib.my_new_method"
   ]
  },
  {
   "cell_type": "code",
   "execution_count": 68,
   "id": "78cf7d78-5947-4f27-b59e-8a324c203afc",
   "metadata": {},
   "outputs": [
    {
     "name": "stdout",
     "output_type": "stream",
     "text": [
      "my name is aqib\n"
     ]
    }
   ],
   "source": [
    "my_obj.pri()"
   ]
  },
  {
   "cell_type": "code",
   "execution_count": 69,
   "id": "f4012ea0-eb5c-4770-a40a-3ebfffbec84e",
   "metadata": {},
   "outputs": [
    {
     "data": {
      "text/plain": [
       "{'name': 'aqib', 'age': 18, 'city': 'New Delhi'}"
      ]
     },
     "execution_count": 69,
     "metadata": {},
     "output_type": "execute_result"
    }
   ],
   "source": [
    "my_obj.__dict__"
   ]
  },
  {
   "cell_type": "code",
   "execution_count": 70,
   "id": "c8b22430-3e67-4925-a5a4-2cf970723f30",
   "metadata": {},
   "outputs": [],
   "source": [
    "my_obj.my_day='sunday'"
   ]
  },
  {
   "cell_type": "code",
   "execution_count": 71,
   "id": "39719591-c4b8-49ed-9820-15c4c6655424",
   "metadata": {},
   "outputs": [
    {
     "data": {
      "text/plain": [
       "'sunday'"
      ]
     },
     "execution_count": 71,
     "metadata": {},
     "output_type": "execute_result"
    }
   ],
   "source": [
    "my_obj.my_day # accessing through obj"
   ]
  },
  {
   "cell_type": "code",
   "execution_count": 60,
   "id": "25d12fff-909b-4eb9-90fa-318eb56d3899",
   "metadata": {},
   "outputs": [
    {
     "data": {
      "text/plain": [
       "'Monday'"
      ]
     },
     "execution_count": 60,
     "metadata": {},
     "output_type": "execute_result"
    }
   ],
   "source": [
    "days.my_day # accessing through class"
   ]
  },
  {
   "cell_type": "code",
   "execution_count": 72,
   "id": "f2e3ed86-2122-4eb7-b6fa-c268dc8af92b",
   "metadata": {},
   "outputs": [
    {
     "data": {
      "text/plain": [
       "'day is updated that is Sunday'"
      ]
     },
     "execution_count": 72,
     "metadata": {},
     "output_type": "execute_result"
    }
   ],
   "source": [
    "my_obj.changer('Sunday')"
   ]
  },
  {
   "cell_type": "code",
   "execution_count": 66,
   "id": "67930526-2cff-4a7e-aa00-14fca14591b0",
   "metadata": {},
   "outputs": [
    {
     "data": {
      "text/plain": [
       "'Sunday'"
      ]
     },
     "execution_count": 66,
     "metadata": {},
     "output_type": "execute_result"
    }
   ],
   "source": [
    "days.my_day"
   ]
  },
  {
   "cell_type": "markdown",
   "id": "04b9aa32-d251-450b-843d-4fecf2a3bfab",
   "metadata": {},
   "source": [
    "# class method as alternative constructor...\n"
   ]
  },
  {
   "cell_type": "code",
   "execution_count": 8,
   "id": "aeba85c6-6628-481d-aefc-69bb8c30b9c0",
   "metadata": {},
   "outputs": [
    {
     "data": {
      "text/plain": [
       "{'name': 'aquib', 'age': 90, 'city': 'kanpur'}"
      ]
     },
     "execution_count": 8,
     "metadata": {},
     "output_type": "execute_result"
    }
   ],
   "source": [
    "new_object.__dict__"
   ]
  },
  {
   "cell_type": "code",
   "execution_count": 11,
   "id": "001f5492-3ec2-4f64-8ab3-4ea5b7698ba4",
   "metadata": {},
   "outputs": [
    {
     "data": {
      "text/plain": [
       "{'name': 'hamza', 'age': '23', 'city': 'bangluru'}"
      ]
     },
     "execution_count": 11,
     "metadata": {},
     "output_type": "execute_result"
    }
   ],
   "source": [
    "aqib.__dict__"
   ]
  },
  {
   "cell_type": "code",
   "execution_count": 65,
   "id": "1715d472-0893-4331-a867-883c89850f86",
   "metadata": {},
   "outputs": [],
   "source": [
    "# dunders methods\n",
    "# <!-- __init__ -->\n",
    "# <!-- __add__ -->\n",
    "# <!-- __len__ -->\n",
    "# <!-- __repr__ -->\n",
    "\n",
    "\n",
    "class DUNDER:\n",
    "    def __init__(self,first_name,last_name,pay):\n",
    "        self.first_name=first_name\n",
    "        self.last_name=last_name\n",
    "        self.pay=pay\n",
    "        self.email=f'{self.first_name}.{self.last_name}@dunder.com'\n",
    "\n",
    "    def __len__(self):\n",
    "        return len(self.first_name)\n",
    "\n",
    "    def __add__(self,other):\n",
    "        return self.pay+other.pay\n",
    "        \n",
    "Aquib_obj=DUNDER('AQIB','FIROZ',400000)\n",
    "Firoz_obj=DUNDER('FIROZ','ALAM',500000)\n",
    "\n",
    "\n"
   ]
  },
  {
   "cell_type": "code",
   "execution_count": 66,
   "id": "ada4c634-9966-4573-b1de-4fffeba4925d",
   "metadata": {},
   "outputs": [
    {
     "data": {
      "text/plain": [
       "900000"
      ]
     },
     "execution_count": 66,
     "metadata": {},
     "output_type": "execute_result"
    }
   ],
   "source": [
    "Aquib_obj+Firoz_obj\n",
    "# len(Aquib_obj)"
   ]
  },
  {
   "cell_type": "code",
   "execution_count": 45,
   "id": "55e891e0-465e-4fb6-92ef-be542236fa73",
   "metadata": {},
   "outputs": [],
   "source": [
    "a='aqib'\n",
    "b='firoz'\n"
   ]
  },
  {
   "cell_type": "code",
   "execution_count": 29,
   "id": "680823e1-baab-4cbf-b6c0-2207cb5e8fc8",
   "metadata": {},
   "outputs": [
    {
     "data": {
      "text/plain": [
       "True"
      ]
     },
     "execution_count": 29,
     "metadata": {},
     "output_type": "execute_result"
    }
   ],
   "source": [
    "isinstance(a,str)"
   ]
  },
  {
   "cell_type": "code",
   "execution_count": 30,
   "id": "83734884-0aa5-410b-9598-bd8e965b4cd4",
   "metadata": {},
   "outputs": [
    {
     "data": {
      "text/plain": [
       "True"
      ]
     },
     "execution_count": 30,
     "metadata": {},
     "output_type": "execute_result"
    }
   ],
   "source": [
    "isinstance(aqib,days)"
   ]
  },
  {
   "cell_type": "code",
   "execution_count": null,
   "id": "c3719bed-8335-4ef0-8192-da01ff5768c0",
   "metadata": {},
   "outputs": [],
   "source": [
    " "
   ]
  },
  {
   "cell_type": "code",
   "execution_count": null,
   "id": "7dfc2bbf-99cc-4b0a-a814-9cc76fd2135d",
   "metadata": {},
   "outputs": [],
   "source": []
  }
 ],
 "metadata": {
  "kernelspec": {
   "display_name": "Python 3 (ipykernel)",
   "language": "python",
   "name": "python3"
  },
  "language_info": {
   "codemirror_mode": {
    "name": "ipython",
    "version": 3
   },
   "file_extension": ".py",
   "mimetype": "text/x-python",
   "name": "python",
   "nbconvert_exporter": "python",
   "pygments_lexer": "ipython3",
   "version": "3.12.0"
  }
 },
 "nbformat": 4,
 "nbformat_minor": 5
}
