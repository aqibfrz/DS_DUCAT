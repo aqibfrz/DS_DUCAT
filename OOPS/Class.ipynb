{
 "cells": [
  {
   "cell_type": "code",
   "execution_count": 1,
   "id": "71b1418a-daee-4fec-88fb-8ed28d7175d1",
   "metadata": {},
   "outputs": [],
   "source": [
    "class REX:\n",
    "    my_var=10\n"
   ]
  },
  {
   "cell_type": "code",
   "execution_count": 2,
   "id": "dfaabf81-ff75-4854-be67-0d956ed064fd",
   "metadata": {},
   "outputs": [],
   "source": [
    "obj=REX()\n",
    "obj2=REX()\n"
   ]
  },
  {
   "cell_type": "code",
   "execution_count": 3,
   "id": "05cfb560-65a9-41a0-9653-c6c66542248b",
   "metadata": {},
   "outputs": [
    {
     "data": {
      "text/plain": [
       "True"
      ]
     },
     "execution_count": 3,
     "metadata": {},
     "output_type": "execute_result"
    }
   ],
   "source": [
    "isinstance(obj,REX)"
   ]
  },
  {
   "cell_type": "code",
   "execution_count": 4,
   "id": "efb9517a-e168-4f91-ab1c-8b963076ab24",
   "metadata": {},
   "outputs": [
    {
     "data": {
      "text/plain": [
       "10"
      ]
     },
     "execution_count": 4,
     "metadata": {},
     "output_type": "execute_result"
    }
   ],
   "source": [
    "obj.my_var\n"
   ]
  },
  {
   "cell_type": "code",
   "execution_count": 5,
   "id": "7bf77804-e619-426b-b35f-4d08aae1cb3b",
   "metadata": {},
   "outputs": [
    {
     "data": {
      "text/plain": [
       "10"
      ]
     },
     "execution_count": 5,
     "metadata": {},
     "output_type": "execute_result"
    }
   ],
   "source": [
    "obj2.my_var"
   ]
  },
  {
   "cell_type": "code",
   "execution_count": 6,
   "id": "7bac5b0b-68d2-40da-8eab-0202fd26e4fd",
   "metadata": {},
   "outputs": [
    {
     "data": {
      "text/plain": [
       "20"
      ]
     },
     "execution_count": 6,
     "metadata": {},
     "output_type": "execute_result"
    }
   ],
   "source": [
    "obj.my_var = 20\n",
    "obj.my_var"
   ]
  },
  {
   "cell_type": "code",
   "execution_count": 7,
   "id": "183210fc-3168-4c11-b34b-efacbbef256c",
   "metadata": {},
   "outputs": [
    {
     "data": {
      "text/plain": [
       "10"
      ]
     },
     "execution_count": 7,
     "metadata": {},
     "output_type": "execute_result"
    }
   ],
   "source": [
    "REX.my_var"
   ]
  },
  {
   "cell_type": "code",
   "execution_count": 8,
   "id": "26099b88-3009-49fa-a6ca-29311a729d4a",
   "metadata": {},
   "outputs": [
    {
     "data": {
      "text/plain": [
       "20"
      ]
     },
     "execution_count": 8,
     "metadata": {},
     "output_type": "execute_result"
    }
   ],
   "source": [
    "obj.my_var"
   ]
  },
  {
   "cell_type": "code",
   "execution_count": 9,
   "id": "0fb23e82-0598-46fa-8342-b27f68c1990a",
   "metadata": {},
   "outputs": [
    {
     "data": {
      "text/plain": [
       "{'my_var': 20}"
      ]
     },
     "execution_count": 9,
     "metadata": {},
     "output_type": "execute_result"
    }
   ],
   "source": [
    "obj.__dict__"
   ]
  },
  {
   "cell_type": "code",
   "execution_count": 10,
   "id": "ffe6442f-ae7f-4e01-8d16-b94868947ea1",
   "metadata": {},
   "outputs": [
    {
     "data": {
      "text/plain": [
       "10"
      ]
     },
     "execution_count": 10,
     "metadata": {},
     "output_type": "execute_result"
    }
   ],
   "source": [
    "REX.my_var"
   ]
  },
  {
   "cell_type": "code",
   "execution_count": 11,
   "id": "099db93b-98ca-4b34-96c0-3d7828cfb51c",
   "metadata": {},
   "outputs": [
    {
     "data": {
      "text/plain": [
       "10"
      ]
     },
     "execution_count": 11,
     "metadata": {},
     "output_type": "execute_result"
    }
   ],
   "source": [
    "obj2.my_var"
   ]
  },
  {
   "cell_type": "code",
   "execution_count": 12,
   "id": "ba80c018-27a7-4eb2-bf80-feb9142ac3cf",
   "metadata": {},
   "outputs": [
    {
     "data": {
      "text/plain": [
       "{}"
      ]
     },
     "execution_count": 12,
     "metadata": {},
     "output_type": "execute_result"
    }
   ],
   "source": [
    "obj2.__dict__"
   ]
  },
  {
   "cell_type": "code",
   "execution_count": 8,
   "id": "24df435d-888c-421d-8ed3-b3ab5bbbb76f",
   "metadata": {},
   "outputs": [],
   "source": [
    "class REX:\n",
    "    my_var=10\n",
    "    def __init__(self,name,city,age):\n",
    "        self.name=name\n",
    "        self.city=city\n",
    "        self.age=age\n",
    "\n",
    "    def detail_printer(self,sn):\n",
    "        print(f'hi {self.name}!! \\nyour city is {self.city} and your age is {self.age}, see you {sn}')\n",
    "\n",
    "new_obj=REX('aqib','kanpur','20')"
   ]
  },
  {
   "cell_type": "code",
   "execution_count": 15,
   "id": "06aab358-4491-4233-9aee-624622e2538e",
   "metadata": {},
   "outputs": [
    {
     "name": "stdout",
     "output_type": "stream",
     "text": [
      "hi aqib!! \n",
      "your city is kanpur and your age is 20\n"
     ]
    }
   ],
   "source": [
    "new_obj.detail_printer()"
   ]
  },
  {
   "cell_type": "code",
   "execution_count": 16,
   "id": "059f596d-e19b-4ee3-8cfa-70446124f59d",
   "metadata": {},
   "outputs": [
    {
     "name": "stdout",
     "output_type": "stream",
     "text": [
      "hey 4321\n"
     ]
    }
   ],
   "source": [
    "\n",
    "\n",
    "# method call\n",
    "\n",
    "class rev:\n",
    "    def print_rev(self):\n",
    "        rev=''\n",
    "        for chr in arr:\n",
    "            n=str(chr)\n",
    "            rev=n+rev\n",
    "        return int(rev)\n",
    "\n",
    "obj1=rev()\n",
    "arr=[1,2,3,4]\n",
    "print('hey',obj1.print_rev())\n",
    "        "
   ]
  },
  {
   "cell_type": "code",
   "execution_count": 34,
   "id": "b4e44536-0c4b-4343-a2b3-a555e6445662",
   "metadata": {},
   "outputs": [
    {
     "name": "stdout",
     "output_type": "stream",
     "text": [
      "6543\n"
     ]
    }
   ],
   "source": [
    "# custructor call\n",
    "class reverse:\n",
    "    def __init__(self,arr):#constructur..\n",
    "        self.arr=arr\n",
    "        prev=''\n",
    "        for chr in arr:\n",
    "            n=str(chr)\n",
    "            prev=n+prev\n",
    "        print(prev)\n",
    "arr=[3,4,5,6]\n",
    "object=reverse(arr)\n",
    "\n"
   ]
  },
  {
   "cell_type": "code",
   "execution_count": null,
   "id": "50c56b8e-5077-4fe9-824a-5ee50b7afe44",
   "metadata": {},
   "outputs": [],
   "source": [
    "# Closure and Decorator"
   ]
  },
  {
   "cell_type": "code",
   "execution_count": 6,
   "id": "eabbdc2b-6511-416a-9810-b46d92dd7e23",
   "metadata": {},
   "outputs": [
    {
     "data": {
      "text/plain": [
       "'monday'"
      ]
     },
     "execution_count": 6,
     "metadata": {},
     "output_type": "execute_result"
    }
   ],
   "source": [
    "class REXGalaxy:\n",
    "    holiday='sunday'\n",
    "    \n",
    "    def __init__(self,name,city,age):\n",
    "        self.name=name\n",
    "        self.city=city\n",
    "        self.age=age\n",
    "\n",
    "    def detail_printer(self,sn):\n",
    "        print(f'hi {self.name}!! \\nyour city is {self.city} and your age is {self.age}, see you {sn}')\n",
    "\n",
    "    @classmethod\n",
    "    def holiday_new_value(cls,new_holiday):\n",
    "        cls.holiday = new_holiday\n",
    "        return 'holiday has been changed'\n",
    "    \n",
    "        \n",
    "new_obj=REXGalaxy('aqib','kanpur','20')\n",
    "new_obj.holiday_new_value('monday')\n",
    "REXGalaxy.holiday\n",
    "\n",
    "\n"
   ]
  },
  {
   "cell_type": "code",
   "execution_count": 45,
   "id": "34167bac-37ed-4945-b887-99828c1c04f1",
   "metadata": {},
   "outputs": [
    {
     "data": {
      "text/plain": [
       "15"
      ]
     },
     "execution_count": 45,
     "metadata": {},
     "output_type": "execute_result"
    }
   ],
   "source": [
    "def sum_list(list1):\n",
    "    sum=0\n",
    "    for i in list1:\n",
    "        sum=sum+i\n",
    "    return sum\n",
    "\n",
    "list1=[1,2,3,4,5] \n",
    "sum_list(list1)\n"
   ]
  },
  {
   "cell_type": "code",
   "execution_count": null,
   "id": "68c5c16a-4d39-4ef4-99ea-285ea6967867",
   "metadata": {},
   "outputs": [],
   "source": [
    "\n",
    "list2=[3,4,6,2,1,6]#==>6,1,2,6,4,3\n",
    "list2.reverse()\n",
    "print(list2)"
   ]
  },
  {
   "cell_type": "code",
   "execution_count": null,
   "id": "eb6a8d4a",
   "metadata": {},
   "outputs": [],
   "source": []
  },
  {
   "cell_type": "code",
   "execution_count": null,
   "id": "93b0e1fc",
   "metadata": {},
   "outputs": [],
   "source": []
  },
  {
   "cell_type": "code",
   "execution_count": 12,
   "id": "a65d278c-b242-4c45-ae91-c0524e7d28e3",
   "metadata": {},
   "outputs": [
    {
     "name": "stdout",
     "output_type": "stream",
     "text": [
      "612643 "
     ]
    }
   ],
   "source": [
    "list2=[3,4,6,2,1,6]#==>6,1,2,6,4,3\n",
    "# for i in range(len(list2)-1,-1,-1):\n",
    "#     print(list2[i])\n",
    "\n",
    "rev=''\n",
    "for char in list2:\n",
    "    st=str(char)\n",
    "    rev = st + rev\n",
    "print(rev)\n",
    "    "
   ]
  },
  {
   "cell_type": "code",
   "execution_count": 1,
   "id": "dc37d414",
   "metadata": {},
   "outputs": [],
   "source": [
    "class parent:\n",
    "    def parent_method(self):\n",
    "        print('this is a method of Parent class')\n",
    "\n",
    "class child(parent):\n",
    "    def child_method(self):\n",
    "        print('this is a method of child class')\n",
    "\n"
   ]
  },
  {
   "cell_type": "code",
   "execution_count": 2,
   "id": "813ace0a-99c2-42d1-b07d-30a90ebf9605",
   "metadata": {},
   "outputs": [],
   "source": [
    "chi_obj=child()"
   ]
  },
  {
   "cell_type": "code",
   "execution_count": 4,
   "id": "86b8c4c8-87aa-4777-874e-83af08a1962b",
   "metadata": {},
   "outputs": [
    {
     "name": "stdout",
     "output_type": "stream",
     "text": [
      "this is a method of Parent class\n"
     ]
    }
   ],
   "source": [
    "chi_obj.parent_method()"
   ]
  },
  {
   "cell_type": "code",
   "execution_count": 5,
   "id": "6061053c-266b-4ab8-a1d1-9c801fa8598d",
   "metadata": {},
   "outputs": [
    {
     "name": "stdout",
     "output_type": "stream",
     "text": [
      "this is a method of child class\n"
     ]
    }
   ],
   "source": [
    "chi_obj.child_method()"
   ]
  },
  {
   "cell_type": "code",
   "execution_count": 2,
   "id": "54d3051d-b81c-483e-9ad8-0ffd10d790c4",
   "metadata": {},
   "outputs": [],
   "source": [
    "# mro--> method reselution order...\n",
    "# used for diamond shape problem...\n",
    "# deadly dimond of death \n"
   ]
  },
  {
   "cell_type": "code",
   "execution_count": null,
   "id": "828e4c25-4d39-4e89-aa23-b7ba4ebde6b0",
   "metadata": {},
   "outputs": [],
   "source": []
  }
 ],
 "metadata": {
  "kernelspec": {
   "display_name": "Python 3 (ipykernel)",
   "language": "python",
   "name": "python3"
  },
  "language_info": {
   "codemirror_mode": {
    "name": "ipython",
    "version": 3
   },
   "file_extension": ".py",
   "mimetype": "text/x-python",
   "name": "python",
   "nbconvert_exporter": "python",
   "pygments_lexer": "ipython3",
   "version": "3.12.0"
  }
 },
 "nbformat": 4,
 "nbformat_minor": 5
}
