{
 "cells": [
  {
   "cell_type": "code",
   "execution_count": 1,
   "id": "71b1418a-daee-4fec-88fb-8ed28d7175d1",
   "metadata": {},
   "outputs": [],
   "source": [
    "class REX:\n",
    "    my_var=10\n"
   ]
  },
  {
   "cell_type": "code",
   "execution_count": 2,
   "id": "dfaabf81-ff75-4854-be67-0d956ed064fd",
   "metadata": {},
   "outputs": [],
   "source": [
    "obj=REX()\n",
    "obj2=REX()\n"
   ]
  },
  {
   "cell_type": "code",
   "execution_count": 3,
   "id": "05cfb560-65a9-41a0-9653-c6c66542248b",
   "metadata": {},
   "outputs": [
    {
     "data": {
      "text/plain": [
       "True"
      ]
     },
     "execution_count": 3,
     "metadata": {},
     "output_type": "execute_result"
    }
   ],
   "source": [
    "isinstance(obj,REX)"
   ]
  },
  {
   "cell_type": "code",
   "execution_count": 4,
   "id": "efb9517a-e168-4f91-ab1c-8b963076ab24",
   "metadata": {},
   "outputs": [
    {
     "data": {
      "text/plain": [
       "10"
      ]
     },
     "execution_count": 4,
     "metadata": {},
     "output_type": "execute_result"
    }
   ],
   "source": [
    "obj.my_var\n"
   ]
  },
  {
   "cell_type": "code",
   "execution_count": 5,
   "id": "7bf77804-e619-426b-b35f-4d08aae1cb3b",
   "metadata": {},
   "outputs": [
    {
     "data": {
      "text/plain": [
       "10"
      ]
     },
     "execution_count": 5,
     "metadata": {},
     "output_type": "execute_result"
    }
   ],
   "source": [
    "obj2.my_var"
   ]
  },
  {
   "cell_type": "code",
   "execution_count": 6,
   "id": "7bac5b0b-68d2-40da-8eab-0202fd26e4fd",
   "metadata": {},
   "outputs": [
    {
     "data": {
      "text/plain": [
       "20"
      ]
     },
     "execution_count": 6,
     "metadata": {},
     "output_type": "execute_result"
    }
   ],
   "source": [
    "obj.my_var = 20\n",
    "obj.my_var"
   ]
  },
  {
   "cell_type": "code",
   "execution_count": 7,
   "id": "183210fc-3168-4c11-b34b-efacbbef256c",
   "metadata": {},
   "outputs": [
    {
     "data": {
      "text/plain": [
       "10"
      ]
     },
     "execution_count": 7,
     "metadata": {},
     "output_type": "execute_result"
    }
   ],
   "source": [
    "REX.my_var"
   ]
  },
  {
   "cell_type": "code",
   "execution_count": 8,
   "id": "26099b88-3009-49fa-a6ca-29311a729d4a",
   "metadata": {},
   "outputs": [
    {
     "data": {
      "text/plain": [
       "20"
      ]
     },
     "execution_count": 8,
     "metadata": {},
     "output_type": "execute_result"
    }
   ],
   "source": [
    "obj.my_var"
   ]
  },
  {
   "cell_type": "code",
   "execution_count": 9,
   "id": "0fb23e82-0598-46fa-8342-b27f68c1990a",
   "metadata": {},
   "outputs": [
    {
     "data": {
      "text/plain": [
       "{'my_var': 20}"
      ]
     },
     "execution_count": 9,
     "metadata": {},
     "output_type": "execute_result"
    }
   ],
   "source": [
    "obj.__dict__"
   ]
  },
  {
   "cell_type": "code",
   "execution_count": 10,
   "id": "ffe6442f-ae7f-4e01-8d16-b94868947ea1",
   "metadata": {},
   "outputs": [
    {
     "data": {
      "text/plain": [
       "10"
      ]
     },
     "execution_count": 10,
     "metadata": {},
     "output_type": "execute_result"
    }
   ],
   "source": [
    "REX.my_var"
   ]
  },
  {
   "cell_type": "code",
   "execution_count": 11,
   "id": "099db93b-98ca-4b34-96c0-3d7828cfb51c",
   "metadata": {},
   "outputs": [
    {
     "data": {
      "text/plain": [
       "10"
      ]
     },
     "execution_count": 11,
     "metadata": {},
     "output_type": "execute_result"
    }
   ],
   "source": [
    "obj2.my_var"
   ]
  },
  {
   "cell_type": "code",
   "execution_count": 12,
   "id": "ba80c018-27a7-4eb2-bf80-feb9142ac3cf",
   "metadata": {},
   "outputs": [
    {
     "data": {
      "text/plain": [
       "{}"
      ]
     },
     "execution_count": 12,
     "metadata": {},
     "output_type": "execute_result"
    }
   ],
   "source": [
    "obj2.__dict__"
   ]
  },
  {
   "cell_type": "code",
   "execution_count": 8,
   "id": "24df435d-888c-421d-8ed3-b3ab5bbbb76f",
   "metadata": {},
   "outputs": [],
   "source": [
    "class REX:\n",
    "    my_var=10\n",
    "    def __init__(self,name,city,age):\n",
    "        self.name=name\n",
    "        self.city=city\n",
    "        self.age=age\n",
    "\n",
    "    def detail_printer(self,sn):\n",
    "        print(f'hi {self.name}!! \\nyour city is {self.city} and your age is {self.age}, see you {sn}')\n",
    "\n",
    "new_obj=REX('aqib','kanpur','20')"
   ]
  },
  {
   "cell_type": "code",
   "execution_count": 15,
   "id": "06aab358-4491-4233-9aee-624622e2538e",
   "metadata": {},
   "outputs": [
    {
     "name": "stdout",
     "output_type": "stream",
     "text": [
      "hi aqib!! \n",
      "your city is kanpur and your age is 20\n"
     ]
    }
   ],
   "source": [
    "new_obj.detail_printer()"
   ]
  },
  {
   "cell_type": "code",
   "execution_count": null,
   "id": "059f596d-e19b-4ee3-8cfa-70446124f59d",
   "metadata": {},
   "outputs": [],
   "source": [
    "# Closure and Decorator\n",
    "# custructor call\n",
    "# method call"
   ]
  }
 ],
 "metadata": {
  "kernelspec": {
   "display_name": "Python 3 (ipykernel)",
   "language": "python",
   "name": "python3"
  },
  "language_info": {
   "codemirror_mode": {
    "name": "ipython",
    "version": 3
   },
   "file_extension": ".py",
   "mimetype": "text/x-python",
   "name": "python",
   "nbconvert_exporter": "python",
   "pygments_lexer": "ipython3",
   "version": "3.12.0"
  }
 },
 "nbformat": 4,
 "nbformat_minor": 5
}
