{
 "cells": [
  {
   "cell_type": "code",
   "execution_count": 9,
   "id": "478ef109-8422-4ed3-aa46-db442c76d4db",
   "metadata": {},
   "outputs": [],
   "source": [
    "class Rex_galaxy: #custom class\n",
    "    my_var=10 ## class variable\n",
    "    def my_method(self,name,city,course): #method\n",
    "        self.name=name\n",
    "        self.city=city\n",
    "        self.course=course\n",
    "        \n",
    "my_obj1=Rex_galaxy()\n",
    "my_obj2=Rex_galaxy()\n",
    "my_obj1.my_method('Khalid','Kanpur','LLB')"
   ]
  },
  {
   "cell_type": "code",
   "execution_count": 4,
   "id": "6c983367-a2ec-4cde-932e-919757ef5c48",
   "metadata": {},
   "outputs": [],
   "source": [
    "my_obj1.name='aqib'\n",
    "my_obj1.city='Delhi'\n",
    "my_obj1.course='ML'\n",
    "\n",
    "my_obj2.name='hamza'\n",
    "my_obj2.city='Bangluru'\n",
    "my_obj2.course='UI&UX'\n"
   ]
  },
  {
   "cell_type": "code",
   "execution_count": 10,
   "id": "25a3995f-6e2d-4d53-9407-9f9ae354e9f6",
   "metadata": {},
   "outputs": [
    {
     "data": {
      "text/plain": [
       "{'name': 'Khalid', 'city': 'Kanpur', 'course': 'LLB'}"
      ]
     },
     "execution_count": 10,
     "metadata": {},
     "output_type": "execute_result"
    }
   ],
   "source": [
    "my_obj1.__dict__"
   ]
  },
  {
   "cell_type": "code",
   "execution_count": 8,
   "id": "d2ffe21c-ad1e-40ec-80af-18f26ff1144b",
   "metadata": {},
   "outputs": [
    {
     "data": {
      "text/plain": [
       "{'name': 'hamza', 'city': 'Bangluru', 'course': 'UI&UX'}"
      ]
     },
     "execution_count": 8,
     "metadata": {},
     "output_type": "execute_result"
    }
   ],
   "source": [
    "my_obj2.__dict__"
   ]
  },
  {
   "cell_type": "code",
   "execution_count": 84,
   "id": "34667b01-9dc5-45bf-958d-a11eb3f2ab55",
   "metadata": {},
   "outputs": [
    {
     "name": "stdout",
     "output_type": "stream",
     "text": [
      "my name is taha and i am from kanpur and my age is 18 and persuing highschool\n"
     ]
    }
   ],
   "source": [
    "class new:\n",
    "    \n",
    "    def __init__(self,name,age,city,course):\n",
    "        self.name=name\n",
    "        self.age=age\n",
    "        self.city=city\n",
    "        self.course=course        \n",
    "    \n",
    "    def check1(self): #method\n",
    "        print(f'my name is {self.name} and i am from {self.city} and my age is {self.age} and persuing {self.course}')\n",
    "        \n",
    "# c1=new()\n",
    "c2=new('taha',18,'kanpur','highschool')\n",
    "c2.check1()"
   ]
  },
  {
   "cell_type": "code",
   "execution_count": 75,
   "id": "95b16a21-c6e6-4aa9-b7db-ace8cdc33070",
   "metadata": {},
   "outputs": [
    {
     "data": {
      "text/plain": [
       "{'name': 'aqib', 'city': 'knp'}"
      ]
     },
     "execution_count": 75,
     "metadata": {},
     "output_type": "execute_result"
    }
   ],
   "source": [
    "# c1.check1('aqib','delhi')\n",
    "c1.name='aqib'\n",
    "c1.city='knp'\n",
    "c1.__dict__"
   ]
  },
  {
   "cell_type": "code",
   "execution_count": 65,
   "id": "8583b3b2-562b-456b-8d5a-d46d8d5ce187",
   "metadata": {},
   "outputs": [],
   "source": [
    "a='this'\n",
    "A=a.capitalize()\n",
    "A\n",
    "b=2"
   ]
  },
  {
   "cell_type": "code",
   "execution_count": 66,
   "id": "5366bb95-788d-4762-afd3-335ba56b13a7",
   "metadata": {},
   "outputs": [
    {
     "data": {
      "text/plain": [
       "False"
      ]
     },
     "execution_count": 66,
     "metadata": {},
     "output_type": "execute_result"
    }
   ],
   "source": [
    "isinstance(b,str)"
   ]
  },
  {
   "cell_type": "code",
   "execution_count": 67,
   "id": "eacb21b0-a38a-4e95-a67c-019ceb0776d5",
   "metadata": {},
   "outputs": [
    {
     "name": "stdout",
     "output_type": "stream",
     "text": [
      "my name is aqib and i am from knp and my age is 10\n"
     ]
    }
   ],
   "source": [
    "c1.check1(10)"
   ]
  },
  {
   "cell_type": "code",
   "execution_count": 96,
   "id": "aa1f5a30-c6d0-4db4-9946-d1989581275d",
   "metadata": {},
   "outputs": [],
   "source": [
    "class rectange:\n",
    "    def __init__(self,length,breadth):\n",
    "        self.length=length\n",
    "        self.breadth=breadth\n",
    "\n",
    "    \n",
    "    def calculate_rec(self):\n",
    "        area=self.length*self.breadth\n",
    "        return area\n",
    "new_obj=rectange(3,4)"
   ]
  },
  {
   "cell_type": "code",
   "execution_count": 97,
   "id": "c9c98fa2-45b8-4889-b2ad-20f01b98c6c6",
   "metadata": {},
   "outputs": [
    {
     "data": {
      "text/plain": [
       "12"
      ]
     },
     "execution_count": 97,
     "metadata": {},
     "output_type": "execute_result"
    }
   ],
   "source": [
    "new_obj.calculate_rec()"
   ]
  },
  {
   "cell_type": "code",
   "execution_count": null,
   "id": "98e3f1f1-4adc-4027-a635-f9775584e8d5",
   "metadata": {},
   "outputs": [],
   "source": []
  },
  {
   "cell_type": "code",
   "execution_count": null,
   "id": "42524674-b0d4-4d4d-a375-f65c075bf881",
   "metadata": {},
   "outputs": [],
   "source": []
  },
  {
   "cell_type": "code",
   "execution_count": null,
   "id": "fac05d54-b157-414b-8c6b-5e1b8be2c0cd",
   "metadata": {},
   "outputs": [],
   "source": []
  },
  {
   "cell_type": "code",
   "execution_count": null,
   "id": "244cc6e6-93c8-41e5-9ffc-a5c9d69630d5",
   "metadata": {},
   "outputs": [],
   "source": []
  },
  {
   "cell_type": "code",
   "execution_count": null,
   "id": "ca38c744-5550-41ad-95d8-8a55e2555896",
   "metadata": {},
   "outputs": [],
   "source": []
  },
  {
   "cell_type": "code",
   "execution_count": null,
   "id": "32fc4cda-08c2-43f3-8598-e73293a0b21a",
   "metadata": {},
   "outputs": [],
   "source": []
  }
 ],
 "metadata": {
  "kernelspec": {
   "display_name": "Python 3 (ipykernel)",
   "language": "python",
   "name": "python3"
  },
  "language_info": {
   "codemirror_mode": {
    "name": "ipython",
    "version": 3
   },
   "file_extension": ".py",
   "mimetype": "text/x-python",
   "name": "python",
   "nbconvert_exporter": "python",
   "pygments_lexer": "ipython3",
   "version": "3.12.0"
  }
 },
 "nbformat": 4,
 "nbformat_minor": 5
}
