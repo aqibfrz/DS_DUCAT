{
 "cells": [
  {
   "cell_type": "code",
   "execution_count": null,
   "id": "121e4397",
   "metadata": {
    "vscode": {
     "languageId": "plaintext"
    }
   },
   "outputs": [],
   "source": [
    "##INTRODUCTION to Python...\n",
    "CamilCase\n",
    "Snake_Case\n",
    "\n",
    "**collectin vs Linear DS"
   ]
  },
  {
   "cell_type": "code",
   "execution_count": 2,
   "id": "54f2b26e-f6ae-4d8d-875d-048a33909bd0",
   "metadata": {},
   "outputs": [
    {
     "name": "stdout",
     "output_type": "stream",
     "text": [
      "enter your name:  aqib\n"
     ]
    },
    {
     "name": "stdout",
     "output_type": "stream",
     "text": [
      "this is aqib\n"
     ]
    }
   ],
   "source": [
    "##Fstring\n",
    "name=input(\"enter your name: \")\n",
    "print(f\"this is {name}\")"
   ]
  },
  {
   "cell_type": "markdown",
   "id": "70c0ef3c",
   "metadata": {},
   "source": []
  },
  {
   "cell_type": "code",
   "execution_count": 1,
   "id": "a60385f6-e203-4f6b-ba17-4f15c52d6c41",
   "metadata": {},
   "outputs": [
    {
     "name": "stdout",
     "output_type": "stream",
     "text": [
      "10\n"
     ]
    }
   ],
   "source": [
    "#wallours Operator\n",
    "print(newvar:=10)"
   ]
  },
  {
   "cell_type": "code",
   "execution_count": 27,
   "id": "d78d53cd-f38f-4596-bc19-7772f990664e",
   "metadata": {},
   "outputs": [],
   "source": [
    "# name='python'\n",
    "name='Sachin7868'\n",
    "\n",
    "# for i in range(0,1,-len(name)):\n",
    "#     print(name[i])\n",
    "# name[:-5:-1]\n",
    "# name[-4::1]\n",
    "# for i in range(len(name),0,1):\n",
    "#     print(name[i])\n"
   ]
  },
  {
   "cell_type": "code",
   "execution_count": 31,
   "id": "58702dba-295a-46e9-8c98-dcee597d947b",
   "metadata": {},
   "outputs": [],
   "source": [
    "name=\"abab\"\n",
    "n=len(name)\n",
    "if(name == name[::-1]):\n",
    "    print('true')\n",
    "\n",
    "\n",
    "\n"
   ]
  },
  {
   "cell_type": "code",
   "execution_count": 40,
   "id": "cb245c3b-85ba-4d4c-b271-a22643c850f3",
   "metadata": {},
   "outputs": [
    {
     "data": {
      "text/plain": [
       "'0909'"
      ]
     },
     "execution_count": 40,
     "metadata": {},
     "output_type": "execute_result"
    }
   ],
   "source": [
    "# name= input('Enter Your String: ')\n",
    "name='hdviiuweb0909'\n",
    "n=len(name)-4\n",
    "# print(n)\n",
    "name[n::]\n",
    "\n"
   ]
  },
  {
   "cell_type": "code",
   "execution_count": 1,
   "id": "d30bbbf5-8663-4387-a94b-b9d731fde965",
   "metadata": {},
   "outputs": [
    {
     "name": "stdout",
     "output_type": "stream",
     "text": [
      "Collecting PyInputPlus\n",
      "  Using cached PyInputPlus-0.2.12.tar.gz (20 kB)\n",
      "  Installing build dependencies: started\n",
      "  Installing build dependencies: finished with status 'done'\n",
      "  Getting requirements to build wheel: started\n",
      "  Getting requirements to build wheel: finished with status 'done'\n",
      "  Preparing metadata (pyproject.toml): started\n",
      "  Preparing metadata (pyproject.toml): finished with status 'done'\n",
      "Collecting pysimplevalidate>=0.2.7 (from PyInputPlus)\n",
      "  Downloading PySimpleValidate-0.2.12.tar.gz (22 kB)\n",
      "  Installing build dependencies: started\n",
      "  Installing build dependencies: finished with status 'done'\n",
      "  Getting requirements to build wheel: started\n",
      "  Getting requirements to build wheel: finished with status 'done'\n",
      "  Preparing metadata (pyproject.toml): started\n",
      "  Preparing metadata (pyproject.toml): finished with status 'done'\n",
      "Collecting stdiomask>=0.0.3 (from PyInputPlus)\n",
      "  Downloading stdiomask-0.0.6.tar.gz (3.6 kB)\n",
      "  Installing build dependencies: started\n",
      "  Installing build dependencies: finished with status 'done'\n",
      "  Getting requirements to build wheel: started\n",
      "  Getting requirements to build wheel: finished with status 'done'\n",
      "  Preparing metadata (pyproject.toml): started\n",
      "  Preparing metadata (pyproject.toml): finished with status 'done'\n",
      "Building wheels for collected packages: PyInputPlus, pysimplevalidate, stdiomask\n",
      "  Building wheel for PyInputPlus (pyproject.toml): started\n",
      "  Building wheel for PyInputPlus (pyproject.toml): finished with status 'done'\n",
      "  Created wheel for PyInputPlus: filename=pyinputplus-0.2.12-py3-none-any.whl size=11375 sha256=d3681c7d2258e736a694a59f44b5c610e4541c1942d88b600b0e640cb66cee6b\n",
      "  Stored in directory: c:\\users\\91700\\appdata\\local\\pip\\cache\\wheels\\85\\81\\c1\\325c8199c5c4de8a0b9af900ff9cd8bd69853e3d9419493512\n",
      "  Building wheel for pysimplevalidate (pyproject.toml): started\n",
      "  Building wheel for pysimplevalidate (pyproject.toml): finished with status 'done'\n",
      "  Created wheel for pysimplevalidate: filename=pysimplevalidate-0.2.12-py3-none-any.whl size=16251 sha256=def8dae70d388cb939baa0768e739173b5fb10f11c57689b803ebe29205fd241\n",
      "  Stored in directory: c:\\users\\91700\\appdata\\local\\pip\\cache\\wheels\\09\\de\\18\\4dd2be0dbdf31870c6f0abde43b0de197b1c095655ad7da5c2\n",
      "  Building wheel for stdiomask (pyproject.toml): started\n",
      "  Building wheel for stdiomask (pyproject.toml): finished with status 'done'\n",
      "  Created wheel for stdiomask: filename=stdiomask-0.0.6-py3-none-any.whl size=3376 sha256=c0184a9d4f0ad97ae1168222584aab5ac135e205131b49ce6ea9226c666f82fa\n",
      "  Stored in directory: c:\\users\\91700\\appdata\\local\\pip\\cache\\wheels\\05\\c7\\e6\\c66ff8c008b4d73f2db458feb4922075e7755853fe496e5135\n",
      "Successfully built PyInputPlus pysimplevalidate stdiomask\n",
      "Installing collected packages: stdiomask, pysimplevalidate, PyInputPlus\n",
      "Successfully installed PyInputPlus-0.2.12 pysimplevalidate-0.2.12 stdiomask-0.0.6\n",
      "Note: you may need to restart the kernel to use updated packages.\n"
     ]
    },
    {
     "name": "stderr",
     "output_type": "stream",
     "text": [
      "\n",
      "[notice] A new release of pip is available: 23.3.1 -> 25.1.1\n",
      "[notice] To update, run: C:\\Users\\91700\\AppData\\Local\\Programs\\Python\\Python312\\python.exe -m pip install --upgrade pip\n"
     ]
    }
   ],
   "source": [
    "pip install PyInputPlus\n"
   ]
  },
  {
   "cell_type": "code",
   "execution_count": null,
   "id": "30a2e320-b8b7-48f2-86b9-2cc50dec5481",
   "metadata": {},
   "outputs": [],
   "source": [
    "#String Methods..\n"
   ]
  },
  {
   "cell_type": "code",
   "execution_count": 1,
   "id": "40146019-8f80-4d3f-8fe5-29857a2d651d",
   "metadata": {},
   "outputs": [
    {
     "data": {
      "text/plain": [
       "'Hello dear!!'"
      ]
     },
     "execution_count": 1,
     "metadata": {},
     "output_type": "execute_result"
    }
   ],
   "source": [
    "string='hello Dear!!'\n",
    "string.capitalize()##captalized 1st starting word \n"
   ]
  },
  {
   "cell_type": "code",
   "execution_count": 49,
   "id": "e22bf207-f2bd-4b6e-8896-74551195adfb",
   "metadata": {},
   "outputs": [
    {
     "name": "stdout",
     "output_type": "stream",
     "text": [
      "False\n",
      "True\n"
     ]
    }
   ],
   "source": [
    "string='hello Dear!!'\n",
    "string1 = \"ß\"\n",
    "string2 = \"ss\"\n",
    "\n",
    "# print(\"Using lower():\", string.lower())\n",
    "# print(\"Using casefold():\", string.casefold())\n",
    "print(string1.lower()==string2.lower())\n",
    "print(string1.casefold()==string2.casefold())\n",
    "\n",
    "    \n",
    "# string.casefold()\n"
   ]
  },
  {
   "cell_type": "code",
   "execution_count": 10,
   "id": "878e382f-af29-46c5-86a0-f22aafc864ee",
   "metadata": {},
   "outputs": [
    {
     "data": {
      "text/plain": [
       "2"
      ]
     },
     "execution_count": 10,
     "metadata": {},
     "output_type": "execute_result"
    }
   ],
   "source": [
    "# string.center(50,'&')\n",
    "\n",
    "string.count('l',0,len(string))#return count."
   ]
  },
  {
   "cell_type": "code",
   "execution_count": 4,
   "id": "d6cf3f4d-1e7e-4e9d-a6ff-dfe67da343e3",
   "metadata": {},
   "outputs": [
    {
     "data": {
      "text/plain": [
       "b'hello Dear!!'"
      ]
     },
     "execution_count": 4,
     "metadata": {},
     "output_type": "execute_result"
    }
   ],
   "source": [
    "string.encode()#Encode the String"
   ]
  },
  {
   "cell_type": "code",
   "execution_count": 50,
   "id": "2f9dea22-8a19-48c4-b3af-d508f66fc3ea",
   "metadata": {},
   "outputs": [
    {
     "data": {
      "text/plain": [
       "True"
      ]
     },
     "execution_count": 50,
     "metadata": {},
     "output_type": "execute_result"
    }
   ],
   "source": [
    "string.startswith('h')"
   ]
  },
  {
   "cell_type": "code",
   "execution_count": 5,
   "id": "a3d6b177-d453-4dba-95bb-52aa51b01667",
   "metadata": {},
   "outputs": [
    {
     "data": {
      "text/plain": [
       "True"
      ]
     },
     "execution_count": 5,
     "metadata": {},
     "output_type": "execute_result"
    }
   ],
   "source": [
    "string.endswith('!')#check last word and return boolean."
   ]
  },
  {
   "cell_type": "code",
   "execution_count": 61,
   "id": "91c87fac-35ef-48bb-8204-600f95b543cb",
   "metadata": {},
   "outputs": [
    {
     "data": {
      "text/plain": [
       "'hey                    this                   is                     aqib'"
      ]
     },
     "execution_count": 61,
     "metadata": {},
     "output_type": "execute_result"
    }
   ],
   "source": [
    "s=\"hey\\tthis\\tis\\taqib\"\n",
    "s.expandtabs(23)"
   ]
  },
  {
   "cell_type": "code",
   "execution_count": 32,
   "id": "74ab1f25-3bf7-4ae5-a3cd-b7153bbb5a7a",
   "metadata": {},
   "outputs": [
    {
     "data": {
      "text/plain": [
       "6"
      ]
     },
     "execution_count": 32,
     "metadata": {},
     "output_type": "execute_result"
    }
   ],
   "source": [
    "string.find('D')"
   ]
  },
  {
   "cell_type": "code",
   "execution_count": 33,
   "id": "6d7276f1-bcd4-44f9-891b-877192979c8d",
   "metadata": {},
   "outputs": [
    {
     "name": "stdout",
     "output_type": "stream",
     "text": [
      "True\n",
      "False\n"
     ]
    }
   ],
   "source": [
    "Check='5431'\n",
    "batch='aqib224'\n",
    "name='qwfwef900.09'\n",
    "\n",
    "print(Check.isalnum())\n",
    "print(name.isalnum())"
   ]
  },
  {
   "cell_type": "code",
   "execution_count": 41,
   "id": "e5efdafb-8974-46de-bd0f-e6f8fb4b1224",
   "metadata": {},
   "outputs": [
    {
     "name": "stdout",
     "output_type": "stream",
     "text": [
      "Enter pass: AQIB@123\n"
     ]
    },
    {
     "name": "stdout",
     "output_type": "stream",
     "text": [
      "old password\n"
     ]
    }
   ],
   "source": [
    "pas='AQIB@123'\n",
    "newpass=input('Enter pass:')\n",
    "if (newpass == pas):\n",
    "    print('This is old password')\n",
    "else:\n",
    "    print('this is new password')\n",
    "    \n"
   ]
  },
  {
   "cell_type": "code",
   "execution_count": 26,
   "id": "2f4bdb73-7799-400e-8a65-f82c7b030726",
   "metadata": {},
   "outputs": [
    {
     "data": {
      "text/plain": [
       "6"
      ]
     },
     "execution_count": 26,
     "metadata": {},
     "output_type": "execute_result"
    }
   ],
   "source": [
    "name='Barry Allen'\n",
    "name.index('Allen')"
   ]
  },
  {
   "cell_type": "code",
   "execution_count": 42,
   "id": "72ca26ea-8f91-4c25-a366-e4e991a70f8c",
   "metadata": {},
   "outputs": [
    {
     "name": "stdout",
     "output_type": "stream",
     "text": [
      "yesiwon\n"
     ]
    }
   ],
   "source": [
    "lis=['yes','i','won']\n",
    "print(\"\".join(lis))"
   ]
  },
  {
   "cell_type": "code",
   "execution_count": null,
   "id": "ba506927-0956-43b2-ad86-03fdb910f09b",
   "metadata": {},
   "outputs": [],
   "source": []
  },
  {
   "cell_type": "code",
   "execution_count": null,
   "id": "f10ad2f1-f89c-4b08-8db2-31d973a5b4be",
   "metadata": {},
   "outputs": [],
   "source": []
  }
 ],
 "metadata": {
  "kernelspec": {
   "display_name": "Python 3 (ipykernel)",
   "language": "python",
   "name": "python3"
  },
  "language_info": {
   "codemirror_mode": {
    "name": "ipython",
    "version": 3
   },
   "file_extension": ".py",
   "mimetype": "text/x-python",
   "name": "python",
   "nbconvert_exporter": "python",
   "pygments_lexer": "ipython3",
   "version": "3.12.0"
  }
 },
 "nbformat": 4,
 "nbformat_minor": 5
}
