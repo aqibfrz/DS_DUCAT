{
 "cells": [
  {
   "cell_type": "markdown",
   "id": "26101b27-a3c8-4ea7-bd8e-de0eca22d8a5",
   "metadata": {},
   "source": [
    "RAW String..."
   ]
  },
  {
   "cell_type": "code",
   "execution_count": 14,
   "id": "31054411-2061-4693-84d1-1dd6c5a21bd7",
   "metadata": {},
   "outputs": [
    {
     "name": "stdout",
     "output_type": "stream",
     "text": [
      "this is aqib \\n firoz\n"
     ]
    }
   ],
   "source": [
    "name=r'this is aqib \\n firoz'\n",
    "print(name)"
   ]
  },
  {
   "cell_type": "code",
   "execution_count": null,
   "id": "edf7ae11-5e4e-4d5e-b45c-a460fc7d6201",
   "metadata": {},
   "outputs": [],
   "source": []
  }
 ],
 "metadata": {
  "kernelspec": {
   "display_name": "Python 3 (ipykernel)",
   "language": "python",
   "name": "python3"
  },
  "language_info": {
   "codemirror_mode": {
    "name": "ipython",
    "version": 3
   },
   "file_extension": ".py",
   "mimetype": "text/x-python",
   "name": "python",
   "nbconvert_exporter": "python",
   "pygments_lexer": "ipython3",
   "version": "3.12.0"
  }
 },
 "nbformat": 4,
 "nbformat_minor": 5
}
