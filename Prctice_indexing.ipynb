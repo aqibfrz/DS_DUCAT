{
 "cells": [
  {
   "cell_type": "code",
   "execution_count": 3,
   "id": "d218358d-6fee-464a-9d75-74e12409bc2f",
   "metadata": {},
   "outputs": [],
   "source": [
    "import math"
   ]
  },
  {
   "cell_type": "code",
   "execution_count": 4,
   "id": "04016805-ed37-459a-a053-759b82afb2c7",
   "metadata": {},
   "outputs": [
    {
     "data": {
      "text/plain": [
       "'This module provides access to the mathematical functions\\ndefined by the C standard.'"
      ]
     },
     "execution_count": 4,
     "metadata": {},
     "output_type": "execute_result"
    }
   ],
   "source": [
    "math.__doc__"
   ]
  },
  {
   "cell_type": "code",
   "execution_count": 6,
   "id": "0ecef9a2-a4a1-4b68-9155-01c2caaf7663",
   "metadata": {},
   "outputs": [
    {
     "data": {
      "text/plain": [
       "'Find n!.\\n\\nRaise a ValueError if x is negative or non-integral.'"
      ]
     },
     "execution_count": 6,
     "metadata": {},
     "output_type": "execute_result"
    }
   ],
   "source": [
    "math.factorial.__doc__"
   ]
  },
  {
   "cell_type": "code",
   "execution_count": 11,
   "id": "cde63100-ad63-4fde-b281-67550adab18e",
   "metadata": {},
   "outputs": [],
   "source": [
    "def my_fun():\n",
    "    '''this function prints \"hi python\"'''\n",
    "    print('hi python')"
   ]
  },
  {
   "cell_type": "code",
   "execution_count": 12,
   "id": "1a66a7d6-691b-444f-9540-ad761f946fa2",
   "metadata": {},
   "outputs": [
    {
     "data": {
      "text/plain": [
       "'this function prints \"hi python\"'"
      ]
     },
     "execution_count": 12,
     "metadata": {},
     "output_type": "execute_result"
    }
   ],
   "source": [
    "my_fun.__doc__"
   ]
  },
  {
   "cell_type": "markdown",
   "id": "d189d63f-2280-4f14-83b6-1816337db81e",
   "metadata": {},
   "source": [
    "Walrus Operators"
   ]
  },
  {
   "cell_type": "code",
   "execution_count": 13,
   "id": "ed246e99-618f-4d88-9045-84d37042b59d",
   "metadata": {},
   "outputs": [
    {
     "name": "stdout",
     "output_type": "stream",
     "text": [
      "aqib\n"
     ]
    }
   ],
   "source": [
    "name = 'aqib'\n",
    "print(name)"
   ]
  },
  {
   "cell_type": "code",
   "execution_count": 14,
   "id": "fb0484e6-643d-40d9-966e-2d5ba4a1041f",
   "metadata": {},
   "outputs": [
    {
     "name": "stdout",
     "output_type": "stream",
     "text": [
      "hamza\n"
     ]
    }
   ],
   "source": [
    "print(name:='hamza')"
   ]
  },
  {
   "cell_type": "code",
   "execution_count": 16,
   "id": "22b8a771-5900-43bb-9026-e3cdbba60040",
   "metadata": {},
   "outputs": [
    {
     "name": "stdout",
     "output_type": "stream",
     "text": [
      "irfan Khan\n"
     ]
    }
   ],
   "source": [
    "print(name:='irfan Khan')"
   ]
  },
  {
   "cell_type": "markdown",
   "id": "3d63d34e-1daa-4159-b897-0d1234c4cdd3",
   "metadata": {},
   "source": [
    "INDEXING"
   ]
  },
  {
   "cell_type": "code",
   "execution_count": 26,
   "id": "32b229ad-a198-4bf9-8594-6335dd4cd328",
   "metadata": {},
   "outputs": [
    {
     "name": "stdout",
     "output_type": "stream",
     "text": [
      "17\n"
     ]
    },
    {
     "data": {
      "text/plain": [
       "'Hyti sfrz'"
      ]
     },
     "execution_count": 26,
     "metadata": {},
     "output_type": "execute_result"
    }
   ],
   "source": [
    "name='Hey this is firoz'\n",
    "print(len(name))\n",
    "name[0::2] #Start:Stop:Step.\n"
   ]
  },
  {
   "cell_type": "code",
   "execution_count": 45,
   "id": "7a2e8f5d-5574-4149-a561-bea0b27114df",
   "metadata": {},
   "outputs": [
    {
     "data": {
      "text/plain": [
       "'iroz'"
      ]
     },
     "execution_count": 45,
     "metadata": {},
     "output_type": "execute_result"
    }
   ],
   "source": [
    "name[-4::1]"
   ]
  },
  {
   "cell_type": "code",
   "execution_count": 46,
   "id": "1c97c1da-89d6-4e8d-b8fa-9aa806c6c3f4",
   "metadata": {},
   "outputs": [
    {
     "data": {
      "text/plain": [
       "'zorif si siht yeH'"
      ]
     },
     "execution_count": 46,
     "metadata": {},
     "output_type": "execute_result"
    }
   ],
   "source": [
    "name[::-1]"
   ]
  },
  {
   "cell_type": "code",
   "execution_count": null,
   "id": "57183258-fde6-4da1-9e51-864b237b049c",
   "metadata": {},
   "outputs": [],
   "source": []
  }
 ],
 "metadata": {
  "kernelspec": {
   "display_name": "Python 3 (ipykernel)",
   "language": "python",
   "name": "python3"
  },
  "language_info": {
   "codemirror_mode": {
    "name": "ipython",
    "version": 3
   },
   "file_extension": ".py",
   "mimetype": "text/x-python",
   "name": "python",
   "nbconvert_exporter": "python",
   "pygments_lexer": "ipython3",
   "version": "3.12.0"
  }
 },
 "nbformat": 4,
 "nbformat_minor": 5
}
