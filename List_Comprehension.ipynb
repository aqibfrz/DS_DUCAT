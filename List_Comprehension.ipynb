{
 "cells": [
  {
   "cell_type": "markdown",
   "id": "17a1b643-7772-4614-893a-42e44aba500a",
   "metadata": {},
   "source": [
    "# LIST Comprehension.."
   ]
  },
  {
   "cell_type": "code",
   "execution_count": 1,
   "id": "bf762988-9f76-409c-ab18-74e1ff091aa6",
   "metadata": {},
   "outputs": [
    {
     "data": {
      "text/plain": [
       "[1, 27, 4, 16, 1, 125]"
      ]
     },
     "execution_count": 1,
     "metadata": {},
     "output_type": "execute_result"
    }
   ],
   "source": [
    "list2=[1,3,2,4,1,5]\n",
    "new_list=[i**2 if i%2==0 else i**3  for i in list2]\n",
    "new_list\n"
   ]
  },
  {
   "cell_type": "code",
   "execution_count": 2,
   "id": "61449964-921c-4cf7-a052-3f5fd9aa1601",
   "metadata": {},
   "outputs": [
    {
     "data": {
      "text/plain": [
       "[100, 400, 900, 1600]"
      ]
     },
     "execution_count": 2,
     "metadata": {},
     "output_type": "execute_result"
    }
   ],
   "source": [
    "list3=[10,20,30,40,71]\n",
    "new_list=[(i**2) for i in list3 if i%2==0]\n",
    "new_list"
   ]
  },
  {
   "cell_type": "code",
   "execution_count": null,
   "id": "9d365b23-7aae-483a-a3d2-5f28fd5728cb",
   "metadata": {},
   "outputs": [],
   "source": []
  }
 ],
 "metadata": {
  "kernelspec": {
   "display_name": "Python 3 (ipykernel)",
   "language": "python",
   "name": "python3"
  },
  "language_info": {
   "codemirror_mode": {
    "name": "ipython",
    "version": 3
   },
   "file_extension": ".py",
   "mimetype": "text/x-python",
   "name": "python",
   "nbconvert_exporter": "python",
   "pygments_lexer": "ipython3",
   "version": "3.12.0"
  }
 },
 "nbformat": 4,
 "nbformat_minor": 5
}
