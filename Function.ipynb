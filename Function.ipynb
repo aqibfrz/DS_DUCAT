{
 "cells": [
  {
   "cell_type": "code",
   "execution_count": 17,
   "id": "1b3e2aa1-a9d4-4e90-991b-6910420c0700",
   "metadata": {},
   "outputs": [
    {
     "data": {
      "text/plain": [
       "9"
      ]
     },
     "execution_count": 17,
     "metadata": {},
     "output_type": "execute_result"
    }
   ],
   "source": [
    "def add(a,b):\n",
    "    return 4+5\n",
    "\n",
    "add(5,3)\n",
    "#positional Arguments\n",
    "\n"
   ]
  },
  {
   "cell_type": "code",
   "execution_count": 18,
   "id": "b6a74e7b-65e6-44db-a9bc-a1a8a6e22e33",
   "metadata": {},
   "outputs": [
    {
     "data": {
      "text/plain": [
       "120"
      ]
     },
     "execution_count": 18,
     "metadata": {},
     "output_type": "execute_result"
    }
   ],
   "source": [
    "def fact(n):\n",
    "    if n==0 or n==1:\n",
    "        return 1\n",
    "  \n",
    "    return n*fact(n-1)\n",
    "    \n",
    "fact(5)"
   ]
  },
  {
   "cell_type": "code",
   "execution_count": 5,
   "id": "0d96e94b-ab19-48fb-abeb-d87f8e58b271",
   "metadata": {},
   "outputs": [
    {
     "name": "stdout",
     "output_type": "stream",
     "text": [
      "27\n"
     ]
    }
   ],
   "source": [
    "def addition(a,b):\n",
    "    print(a+b)\n",
    "addition(a=23,b=4)#keyword arguments\n"
   ]
  },
  {
   "cell_type": "code",
   "execution_count": 7,
   "id": "111f91b5-0ddf-42c7-acfe-5dced6cc33ab",
   "metadata": {},
   "outputs": [
    {
     "name": "stdout",
     "output_type": "stream",
     "text": [
      "27\n"
     ]
    }
   ],
   "source": [
    "def addition(a,b,):#positional only \n",
    "    print(a+b)\n",
    "addition(a=23,b=4)#keyword arguments\n"
   ]
  },
  {
   "cell_type": "code",
   "execution_count": 16,
   "id": "f55accaa-5680-4421-8c48-bceae8bd3d33",
   "metadata": {},
   "outputs": [
    {
     "name": "stdout",
     "output_type": "stream",
     "text": [
      "25\n"
     ]
    }
   ],
   "source": [
    "sq=lambda x:x**2\n",
    "print(sq(5))"
   ]
  },
  {
   "cell_type": "code",
   "execution_count": 25,
   "id": "2eecc3a2-1fc3-4685-b5c9-c4f647296068",
   "metadata": {},
   "outputs": [
    {
     "name": "stdout",
     "output_type": "stream",
     "text": [
      "[10, 20, 30]\n"
     ]
    }
   ],
   "source": [
    "list1=['10','20','30','30']\n",
    "lst=[]\n",
    "for i in list1:\n",
    "    if int(i) not in lst:\n",
    "        lst.append(int(i))\n",
    "    else:\n",
    "        pass\n",
    "print(lst)\n",
    "    "
   ]
  },
  {
   "cell_type": "code",
   "execution_count": 29,
   "id": "12a84df4-4859-4ee3-b5b3-c016765b3f01",
   "metadata": {},
   "outputs": [
    {
     "data": {
      "text/plain": [
       "[10, 20, 30]"
      ]
     },
     "execution_count": 29,
     "metadata": {},
     "output_type": "execute_result"
    }
   ],
   "source": [
    "list(set(map(lambda x:int(x),list1)))"
   ]
  },
  {
   "cell_type": "code",
   "execution_count": 33,
   "id": "3e0d09bc-d370-439c-8135-d8c78357fdab",
   "metadata": {},
   "outputs": [
    {
     "data": {
      "text/plain": [
       "[(1, 2, 3), (99, 3, 8), (89, 4, 9)]"
      ]
     },
     "execution_count": 33,
     "metadata": {},
     "output_type": "execute_result"
    }
   ],
   "source": [
    "list2=[(1,2,3),(99,3,8),(89,4,9)]\n",
    "sorted(list2,key=lambda item:item[1])"
   ]
  },
  {
   "cell_type": "code",
   "execution_count": null,
   "id": "f6d79fab-5712-4a77-9784-01264b2e836d",
   "metadata": {},
   "outputs": [],
   "source": []
  }
 ],
 "metadata": {
  "kernelspec": {
   "display_name": "Python 3 (ipykernel)",
   "language": "python",
   "name": "python3"
  },
  "language_info": {
   "codemirror_mode": {
    "name": "ipython",
    "version": 3
   },
   "file_extension": ".py",
   "mimetype": "text/x-python",
   "name": "python",
   "nbconvert_exporter": "python",
   "pygments_lexer": "ipython3",
   "version": "3.12.0"
  }
 },
 "nbformat": 4,
 "nbformat_minor": 5
}
