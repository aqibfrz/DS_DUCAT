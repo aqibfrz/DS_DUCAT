{
 "cells": [
  {
   "cell_type": "markdown",
   "id": "b6a6a982-0f8b-42d4-981d-b50e118f2d0f",
   "metadata": {},
   "source": [
    "# Dictionary "
   ]
  },
  {
   "cell_type": "code",
   "execution_count": 2,
   "id": "4e745c64-9aa8-4d45-aace-0b9218368ed2",
   "metadata": {},
   "outputs": [],
   "source": [
    "# unindexed \n",
    "# insertion order is maintained\n",
    "# mutable\n",
    "# #key mest be unique\n",
    "# value can be duplicate\n",
    "##json formatter"
   ]
  },
  {
   "cell_type": "code",
   "execution_count": null,
   "id": "ee45e7b5-ecbc-4322-8698-9fcba0c52639",
   "metadata": {},
   "outputs": [],
   "source": [
    "#data should be mutable and hashable "
   ]
  },
  {
   "cell_type": "code",
   "execution_count": 3,
   "id": "c31b7c99-2b04-4d32-9565-c5554a159f04",
   "metadata": {},
   "outputs": [],
   "source": [
    "dict1={'name':'Aqib','age':21,'gender':'Male'}"
   ]
  },
  {
   "cell_type": "code",
   "execution_count": 4,
   "id": "e606e127-0bdc-4567-b3b1-ecbc3c7243e0",
   "metadata": {},
   "outputs": [
    {
     "data": {
      "text/plain": [
       "{'name': 'Aqib', 'age': 21, 'gender': 'Male'}"
      ]
     },
     "execution_count": 4,
     "metadata": {},
     "output_type": "execute_result"
    }
   ],
   "source": [
    "dict1"
   ]
  },
  {
   "cell_type": "code",
   "execution_count": 5,
   "id": "229e43c2-322c-48bf-ab18-f280a8ba07b2",
   "metadata": {},
   "outputs": [
    {
     "data": {
      "text/plain": [
       "'Aqib'"
      ]
     },
     "execution_count": 5,
     "metadata": {},
     "output_type": "execute_result"
    }
   ],
   "source": [
    "dict1.get('name')"
   ]
  },
  {
   "cell_type": "code",
   "execution_count": 7,
   "id": "7892c1e8-f469-4119-8720-5683c18d476a",
   "metadata": {},
   "outputs": [
    {
     "data": {
      "text/plain": [
       "'there is no key like that'"
      ]
     },
     "execution_count": 7,
     "metadata": {},
     "output_type": "execute_result"
    }
   ],
   "source": [
    "##use like if else\n",
    "dict1.get('pop','there is no key like that')"
   ]
  },
  {
   "cell_type": "code",
   "execution_count": 8,
   "id": "3885380c-1152-4992-afc4-ad7660d8fe80",
   "metadata": {},
   "outputs": [
    {
     "data": {
      "text/plain": [
       "dict_keys(['name', 'age', 'gender'])"
      ]
     },
     "execution_count": 8,
     "metadata": {},
     "output_type": "execute_result"
    }
   ],
   "source": [
    "dict1.keys()"
   ]
  },
  {
   "cell_type": "code",
   "execution_count": 9,
   "id": "267bafce-9c25-4e55-88f5-5a255759ea94",
   "metadata": {},
   "outputs": [
    {
     "data": {
      "text/plain": [
       "dict_values(['Aqib', 21, 'Male'])"
      ]
     },
     "execution_count": 9,
     "metadata": {},
     "output_type": "execute_result"
    }
   ],
   "source": [
    "dict1.values()"
   ]
  },
  {
   "cell_type": "code",
   "execution_count": 14,
   "id": "cdad4a1f-5d0a-45f7-a072-e0f62ad5dea9",
   "metadata": {},
   "outputs": [
    {
     "name": "stdout",
     "output_type": "stream",
     "text": [
      "('name', 'Aqib')\n",
      "('age', 21)\n",
      "('gender', 'Male')\n"
     ]
    }
   ],
   "source": [
    "for item in dict1.items():\n",
    "    print(item)"
   ]
  },
  {
   "cell_type": "code",
   "execution_count": 17,
   "id": "2c28a2ae-ce5b-44e2-a8f9-a0d3e01c160d",
   "metadata": {},
   "outputs": [
    {
     "name": "stdout",
     "output_type": "stream",
     "text": [
      "name -> Aqib\n",
      "age -> 21\n",
      "gender -> Male\n"
     ]
    }
   ],
   "source": [
    "for keys , value in dict1.items():\n",
    "    print(keys,'->',value)"
   ]
  },
  {
   "cell_type": "code",
   "execution_count": 19,
   "id": "ef44f1ee-00af-41fd-b75d-1f03a67743e6",
   "metadata": {},
   "outputs": [
    {
     "data": {
      "text/plain": [
       "{}"
      ]
     },
     "execution_count": 19,
     "metadata": {},
     "output_type": "execute_result"
    }
   ],
   "source": [
    "dict1.clear()\n",
    "dict1"
   ]
  },
  {
   "cell_type": "code",
   "execution_count": 22,
   "id": "8f630672-3e50-47b4-8735-921ace2acafe",
   "metadata": {},
   "outputs": [
    {
     "data": {
      "text/plain": [
       "{'name': 'Aqib', 'age': 21, 'gender': 'Male'}"
      ]
     },
     "execution_count": 22,
     "metadata": {},
     "output_type": "execute_result"
    }
   ],
   "source": [
    "dict1={'name':'Aqib','age':21,'gender':'Male'}\n",
    "dict2={}\n",
    "dict1.copy()"
   ]
  },
  {
   "cell_type": "code",
   "execution_count": 23,
   "id": "480b7cfe-f219-4c37-8f59-34849748b9b8",
   "metadata": {},
   "outputs": [
    {
     "data": {
      "text/plain": [
       "{'aqib': '23', 'name': '23'}"
      ]
     },
     "execution_count": 23,
     "metadata": {},
     "output_type": "execute_result"
    }
   ],
   "source": [
    "dict1.fromkeys(['aqib','name'],'23')"
   ]
  },
  {
   "cell_type": "code",
   "execution_count": 24,
   "id": "cabe31c6-e780-49c8-abae-8ac05262713d",
   "metadata": {},
   "outputs": [
    {
     "data": {
      "text/plain": [
       "'Aqib'"
      ]
     },
     "execution_count": 24,
     "metadata": {},
     "output_type": "execute_result"
    }
   ],
   "source": [
    "dict1.get('name')"
   ]
  },
  {
   "cell_type": "code",
   "execution_count": 25,
   "id": "e637fa2e-6dc9-4336-836e-a16c8658d481",
   "metadata": {},
   "outputs": [
    {
     "data": {
      "text/plain": [
       "21"
      ]
     },
     "execution_count": 25,
     "metadata": {},
     "output_type": "execute_result"
    }
   ],
   "source": [
    "dict1.pop('age')"
   ]
  },
  {
   "cell_type": "code",
   "execution_count": 26,
   "id": "10981bd4-8baa-43d7-8a89-ebda51e48766",
   "metadata": {},
   "outputs": [
    {
     "data": {
      "text/plain": [
       "{'name': 'Aqib', 'gender': 'Male'}"
      ]
     },
     "execution_count": 26,
     "metadata": {},
     "output_type": "execute_result"
    }
   ],
   "source": [
    "dict1"
   ]
  },
  {
   "cell_type": "code",
   "execution_count": null,
   "id": "01f5ec50-6f18-4014-b904-db8c67a7a822",
   "metadata": {},
   "outputs": [],
   "source": [
    "# pyttsx3 use for speech recognition..\n",
    "##class room code \n",
    "##5-assignment \n",
    "## important program"
   ]
  }
 ],
 "metadata": {
  "kernelspec": {
   "display_name": "Python 3 (ipykernel)",
   "language": "python",
   "name": "python3"
  },
  "language_info": {
   "codemirror_mode": {
    "name": "ipython",
    "version": 3
   },
   "file_extension": ".py",
   "mimetype": "text/x-python",
   "name": "python",
   "nbconvert_exporter": "python",
   "pygments_lexer": "ipython3",
   "version": "3.12.0"
  }
 },
 "nbformat": 4,
 "nbformat_minor": 5
}
