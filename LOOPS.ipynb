{
 "cells": [
  {
   "cell_type": "code",
   "execution_count": null,
   "id": "53278ae7-cc89-4109-88c8-ae88ebb71d92",
   "metadata": {},
   "outputs": [],
   "source": [
    "pass--> to fillep the empty block\n",
    "\n"
   ]
  },
  {
   "cell_type": "code",
   "execution_count": null,
   "id": "55bca8ec-6bb2-4397-bd0d-97ef7f1f88bf",
   "metadata": {},
   "outputs": [],
   "source": [
    "list1=[22,65,87,99,44]\n",
    "for data in list1:\n",
    "    if data == 99:\n",
    "        print('yes we found')\n",
    "        break\n",
    "else:\n",
    "    print(\"we could not find 99\")\n",
    "\n"
   ]
  },
  {
   "cell_type": "code",
   "execution_count": 3,
   "id": "8cc4a4c1-de27-4045-b88e-a14c14670985",
   "metadata": {},
   "outputs": [
    {
     "name": "stdout",
     "output_type": "stream",
     "text": [
      "Python\n",
      "9.0\n"
     ]
    }
   ],
   "source": [
    "list2=['Python',67,89,45,[67,90,78],9.0]\n",
    "for i in list2:\n",
    "    if type(i) == str or type(i) == float:\n",
    "        print(i)\n",
    "    else:\n",
    "        pass"
   ]
  },
  {
   "cell_type": "code",
   "execution_count": null,
   "id": "4db62034-fd43-46d5-80b4-1cb2b425bd76",
   "metadata": {},
   "outputs": [],
   "source": []
  }
 ],
 "metadata": {
  "kernelspec": {
   "display_name": "Python 3 (ipykernel)",
   "language": "python",
   "name": "python3"
  },
  "language_info": {
   "codemirror_mode": {
    "name": "ipython",
    "version": 3
   },
   "file_extension": ".py",
   "mimetype": "text/x-python",
   "name": "python",
   "nbconvert_exporter": "python",
   "pygments_lexer": "ipython3",
   "version": "3.12.0"
  }
 },
 "nbformat": 4,
 "nbformat_minor": 5
}
