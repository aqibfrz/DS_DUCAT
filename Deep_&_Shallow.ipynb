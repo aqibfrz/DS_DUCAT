{
 "cells": [
  {
   "cell_type": "markdown",
   "id": "6196f63d-c16c-4a43-b901-6b7a069a34af",
   "metadata": {},
   "source": [
    "## diff btw deep and shalow copy....\n",
    "# '==' referance same\n",
    "# inner 'nested elemet' id same \n",
    "# outer as well as inner in deep copy"
   ]
  },
  {
   "cell_type": "code",
   "execution_count": 2,
   "id": "d38880e0-44a2-43fe-bd06-7c468df17e05",
   "metadata": {},
   "outputs": [],
   "source": [
    "list1=[1,2,3]\n",
    "list2=[1,2,3]\n"
   ]
  },
  {
   "cell_type": "code",
   "execution_count": 5,
   "id": "a6b26830-3a1c-4945-a731-dde545fd30d9",
   "metadata": {},
   "outputs": [
    {
     "name": "stdout",
     "output_type": "stream",
     "text": [
      "2023214283904\n",
      "2023214307392\n"
     ]
    }
   ],
   "source": [
    "list1==list2\n",
    "print(id(list1))\n",
    "print(id(list2))"
   ]
  },
  {
   "cell_type": "code",
   "execution_count": 4,
   "id": "1f605d2e-6ada-4c6a-a6ce-ec5418eacb9b",
   "metadata": {},
   "outputs": [
    {
     "data": {
      "text/plain": [
       "False"
      ]
     },
     "execution_count": 4,
     "metadata": {},
     "output_type": "execute_result"
    }
   ],
   "source": [
    "list1 is list2 ## identity are diff"
   ]
  },
  {
   "cell_type": "code",
   "execution_count": 6,
   "id": "01d21554-4556-4b67-979c-e29d2dcae01f",
   "metadata": {},
   "outputs": [],
   "source": [
    "list3=list1"
   ]
  },
  {
   "cell_type": "code",
   "execution_count": 7,
   "id": "a355f5a6-74f5-4152-97d9-43af0a1bf79c",
   "metadata": {},
   "outputs": [
    {
     "data": {
      "text/plain": [
       "[1, 2, 3]"
      ]
     },
     "execution_count": 7,
     "metadata": {},
     "output_type": "execute_result"
    }
   ],
   "source": [
    "list3"
   ]
  },
  {
   "cell_type": "code",
   "execution_count": 8,
   "id": "baddac2c-4d35-4bb7-a9c5-df6dfe5057ab",
   "metadata": {},
   "outputs": [
    {
     "data": {
      "text/plain": [
       "[1, 2, 3]"
      ]
     },
     "execution_count": 8,
     "metadata": {},
     "output_type": "execute_result"
    }
   ],
   "source": [
    "list1"
   ]
  },
  {
   "cell_type": "code",
   "execution_count": 11,
   "id": "f9ab615d-5573-451c-8c9f-003227324a67",
   "metadata": {},
   "outputs": [
    {
     "name": "stdout",
     "output_type": "stream",
     "text": [
      "2023214283904\n",
      "2023214283904\n"
     ]
    }
   ],
   "source": [
    "print(id(list1))\n",
    "print(id(list3))"
   ]
  },
  {
   "cell_type": "code",
   "execution_count": 12,
   "id": "d2d63ea9-f597-4e6e-b6ce-cf03f94e4fd3",
   "metadata": {},
   "outputs": [],
   "source": [
    "list1.append('aqib')"
   ]
  },
  {
   "cell_type": "code",
   "execution_count": 13,
   "id": "e0b51ff7-843c-4938-b380-c05548c02b3b",
   "metadata": {},
   "outputs": [
    {
     "data": {
      "text/plain": [
       "[1, 2, 3, 'aqib']"
      ]
     },
     "execution_count": 13,
     "metadata": {},
     "output_type": "execute_result"
    }
   ],
   "source": [
    "list1"
   ]
  },
  {
   "cell_type": "code",
   "execution_count": 14,
   "id": "998c0416-cb77-4279-bfc6-4d5eabe81b93",
   "metadata": {},
   "outputs": [
    {
     "data": {
      "text/plain": [
       "[1, 2, 3, 'aqib']"
      ]
     },
     "execution_count": 14,
     "metadata": {},
     "output_type": "execute_result"
    }
   ],
   "source": [
    "list3"
   ]
  },
  {
   "cell_type": "markdown",
   "id": "ca0a959f-ef10-437b-8362-dfb0f8fc8e50",
   "metadata": {},
   "source": [
    "# We does'nt copy the file we same the refrence"
   ]
  },
  {
   "cell_type": "code",
   "execution_count": 18,
   "id": "0c71dbac-367c-4bb7-9091-2b56e5792164",
   "metadata": {},
   "outputs": [
    {
     "name": "stdout",
     "output_type": "stream",
     "text": [
      "140727902980664\n",
      "140727902980664\n"
     ]
    }
   ],
   "source": [
    "\n",
    "a=5\n",
    "list5=[1,2,3,4,5]\n",
    "print(id(a))\n",
    "print(id(list5[-1]))"
   ]
  },
  {
   "cell_type": "markdown",
   "id": "877f6ff6-87f9-46ee-9dab-7cf16dbd5deb",
   "metadata": {},
   "source": [
    "# Shallow Copy."
   ]
  },
  {
   "cell_type": "code",
   "execution_count": 32,
   "id": "dfb958cb-2578-4df1-8992-2b26781f57d0",
   "metadata": {},
   "outputs": [],
   "source": [
    "\n",
    "import copy \n",
    "\n",
    "list6=[10,11,12,[90,100]]\n",
    "list7=copy.copy(list6)"
   ]
  },
  {
   "cell_type": "code",
   "execution_count": 33,
   "id": "3a5093f4-03cc-4289-b1b5-65016143df4c",
   "metadata": {},
   "outputs": [
    {
     "data": {
      "text/plain": [
       "[10, 11, 12, [90, 100]]"
      ]
     },
     "execution_count": 33,
     "metadata": {},
     "output_type": "execute_result"
    }
   ],
   "source": [
    "list6"
   ]
  },
  {
   "cell_type": "code",
   "execution_count": 34,
   "id": "b662877e-5617-4a08-bada-abc4e133a139",
   "metadata": {},
   "outputs": [],
   "source": [
    "list6.append('this')"
   ]
  },
  {
   "cell_type": "code",
   "execution_count": 38,
   "id": "3f4a67d1-ce0a-4cbb-acf0-e81cb9ab7d17",
   "metadata": {},
   "outputs": [],
   "source": [
    "list6[3].append('aqib')"
   ]
  },
  {
   "cell_type": "code",
   "execution_count": 39,
   "id": "35f135cc-15d6-42a5-ad6d-f0bce88a387d",
   "metadata": {},
   "outputs": [
    {
     "data": {
      "text/plain": [
       "[10, 11, 12, [90, 100, 'aqib']]"
      ]
     },
     "execution_count": 39,
     "metadata": {},
     "output_type": "execute_result"
    }
   ],
   "source": [
    "list7"
   ]
  },
  {
   "cell_type": "code",
   "execution_count": 40,
   "id": "e9ca32b8-2539-4a2b-b21c-250f21902410",
   "metadata": {},
   "outputs": [
    {
     "data": {
      "text/plain": [
       "[10, 11, 12, [90, 100, 'aqib'], 'this']"
      ]
     },
     "execution_count": 40,
     "metadata": {},
     "output_type": "execute_result"
    }
   ],
   "source": [
    "list6"
   ]
  },
  {
   "cell_type": "markdown",
   "id": "d1b75558-e1de-482b-a82c-1d635dcb5d25",
   "metadata": {},
   "source": [
    "# IN the Shallow capy only nested elements of reference id are same not for outer elements.."
   ]
  },
  {
   "cell_type": "markdown",
   "id": "d89a6d2c-fb11-4014-97d8-00c0e2c54e87",
   "metadata": {},
   "source": [
    "# Deep Copy"
   ]
  },
  {
   "cell_type": "code",
   "execution_count": 42,
   "id": "5f8cf6c6-3e6e-4ba1-91c1-020b80cf80a3",
   "metadata": {},
   "outputs": [],
   "source": [
    "import copy \n",
    "\n",
    "ls=[34,56,76,87,[32,99,5]]\n",
    "ls2=copy.deepcopy(ls)"
   ]
  },
  {
   "cell_type": "code",
   "execution_count": 44,
   "id": "fb68fb1e-3383-472c-9abd-99dba9bc72b1",
   "metadata": {},
   "outputs": [],
   "source": [
    "ls2.append('check')"
   ]
  },
  {
   "cell_type": "code",
   "execution_count": 48,
   "id": "44b88805-60b3-48c9-9477-e325a6aad3fb",
   "metadata": {},
   "outputs": [],
   "source": [
    "ls2[4].append('hello')"
   ]
  },
  {
   "cell_type": "code",
   "execution_count": 49,
   "id": "e727c145-5a2d-4721-af79-c917b1874423",
   "metadata": {},
   "outputs": [
    {
     "data": {
      "text/plain": [
       "[34, 56, 76, 87, [32, 99, 5, 'hello'], 'check']"
      ]
     },
     "execution_count": 49,
     "metadata": {},
     "output_type": "execute_result"
    }
   ],
   "source": [
    "ls2"
   ]
  },
  {
   "cell_type": "code",
   "execution_count": 50,
   "id": "d55254ac-08e9-4820-9066-9b3e8c42de7e",
   "metadata": {},
   "outputs": [
    {
     "data": {
      "text/plain": [
       "[34, 56, 76, 87, [32, 99, 5]]"
      ]
     },
     "execution_count": 50,
     "metadata": {},
     "output_type": "execute_result"
    }
   ],
   "source": [
    "ls"
   ]
  },
  {
   "cell_type": "markdown",
   "id": "bafd9250-e892-4a07-9d22-1d7e97195db8",
   "metadata": {},
   "source": [
    "# Iterator"
   ]
  },
  {
   "cell_type": "code",
   "execution_count": 71,
   "id": "1db24750-cda1-4653-8d4b-384a7ebc5842",
   "metadata": {},
   "outputs": [],
   "source": [
    "list1=[2,3,4,5,6,7,8,9]\n",
    "my_iterator = iter(list1)\n"
   ]
  },
  {
   "cell_type": "code",
   "execution_count": 72,
   "id": "ebbc15b7-8e00-4907-9852-26a88915ddb7",
   "metadata": {},
   "outputs": [
    {
     "data": {
      "text/plain": [
       "list_iterator"
      ]
     },
     "execution_count": 72,
     "metadata": {},
     "output_type": "execute_result"
    }
   ],
   "source": [
    "type(my_iterator)"
   ]
  },
  {
   "cell_type": "code",
   "execution_count": 73,
   "id": "733b9b82-166a-4bb8-a75c-28ee56cca226",
   "metadata": {},
   "outputs": [
    {
     "data": {
      "text/plain": [
       "2"
      ]
     },
     "execution_count": 73,
     "metadata": {},
     "output_type": "execute_result"
    }
   ],
   "source": [
    "next(my_iterator)"
   ]
  },
  {
   "cell_type": "code",
   "execution_count": 74,
   "id": "173e4933-8d47-431c-b50b-a4517b5cfedb",
   "metadata": {},
   "outputs": [
    {
     "data": {
      "text/plain": [
       "3"
      ]
     },
     "execution_count": 74,
     "metadata": {},
     "output_type": "execute_result"
    }
   ],
   "source": [
    "next(my_iterator)"
   ]
  },
  {
   "cell_type": "code",
   "execution_count": 75,
   "id": "a390c5d2-51c6-42ba-8a37-8bb00e152fd1",
   "metadata": {},
   "outputs": [
    {
     "name": "stdout",
     "output_type": "stream",
     "text": [
      "4\n",
      "5\n",
      "6\n"
     ]
    }
   ],
   "source": [
    "for _ in range(3):\n",
    "    print(next(my_iterator))\n",
    "    "
   ]
  },
  {
   "cell_type": "code",
   "execution_count": 76,
   "id": "c821c807-1f43-4e4d-b458-a809854ced76",
   "metadata": {},
   "outputs": [
    {
     "data": {
      "text/plain": [
       "7"
      ]
     },
     "execution_count": 76,
     "metadata": {},
     "output_type": "execute_result"
    }
   ],
   "source": [
    "next(my_iterator)"
   ]
  },
  {
   "cell_type": "markdown",
   "id": "2f4db43c-30d3-4c3a-b0e0-a31c9ec056d4",
   "metadata": {},
   "source": [
    "# @Generator"
   ]
  },
  {
   "cell_type": "code",
   "execution_count": 78,
   "id": "3132dc1d-7b2c-430a-9d2b-a0ac8f68156d",
   "metadata": {},
   "outputs": [],
   "source": [
    "# Yeild --> one value at a time.."
   ]
  },
  {
   "cell_type": "code",
   "execution_count": 80,
   "id": "b07c8fdf-fcb6-41db-bc58-564366f8c272",
   "metadata": {},
   "outputs": [],
   "source": [
    "def all_even():\n",
    "    n=0\n",
    "    while True:\n",
    "        yield n\n",
    "        n+=2\n",
    "        "
   ]
  },
  {
   "cell_type": "code",
   "execution_count": 81,
   "id": "46175f24-bc04-4b02-a930-367cbe927ccd",
   "metadata": {},
   "outputs": [
    {
     "name": "stdout",
     "output_type": "stream",
     "text": [
      "<function all_even at 0x000001D711989F80>\n"
     ]
    }
   ],
   "source": [
    "print(all_even)"
   ]
  },
  {
   "cell_type": "code",
   "execution_count": 82,
   "id": "75952cab-bcfb-4965-9378-e25d46da55a7",
   "metadata": {},
   "outputs": [
    {
     "name": "stdout",
     "output_type": "stream",
     "text": [
      "0\n"
     ]
    }
   ],
   "source": [
    "my_gen=all_even()\n",
    "print(next(my_gen))"
   ]
  },
  {
   "cell_type": "code",
   "execution_count": 83,
   "id": "dfad53a8-0e14-44ba-8d06-80429314ad3c",
   "metadata": {},
   "outputs": [
    {
     "data": {
      "text/plain": [
       "2"
      ]
     },
     "execution_count": 83,
     "metadata": {},
     "output_type": "execute_result"
    }
   ],
   "source": [
    "next(my_gen)"
   ]
  },
  {
   "cell_type": "code",
   "execution_count": 92,
   "id": "c8fa11a8-47bd-4902-9b99-8a2651d66111",
   "metadata": {},
   "outputs": [
    {
     "data": {
      "text/plain": [
       "128"
      ]
     },
     "execution_count": 92,
     "metadata": {},
     "output_type": "execute_result"
    }
   ],
   "source": [
    "next(my_gen)\n"
   ]
  },
  {
   "cell_type": "code",
   "execution_count": 91,
   "id": "71161b06-a4ac-4cc2-8d4c-08da1107c383",
   "metadata": {},
   "outputs": [
    {
     "name": "stdout",
     "output_type": "stream",
     "text": [
      "108\n",
      "110\n",
      "112\n",
      "114\n",
      "116\n",
      "118\n",
      "120\n",
      "122\n",
      "124\n",
      "126\n"
     ]
    }
   ],
   "source": [
    "for i in range(10):\n",
    "    print(next(my_gen))"
   ]
  },
  {
   "cell_type": "code",
   "execution_count": 89,
   "id": "3d0ed318-ff7e-47ab-90b4-4712ca608c69",
   "metadata": {},
   "outputs": [
    {
     "name": "stdout",
     "output_type": "stream",
     "text": [
      "86\n",
      "88\n",
      "90\n",
      "92\n",
      "94\n",
      "96\n",
      "98\n",
      "100\n",
      "102\n",
      "104\n"
     ]
    }
   ],
   "source": [
    "for i in range(10):\n",
    "    print(next(my_gen))"
   ]
  },
  {
   "cell_type": "code",
   "execution_count": 106,
   "id": "35c7a074-b545-4e59-b53d-0d6981dea558",
   "metadata": {},
   "outputs": [
    {
     "name": "stdout",
     "output_type": "stream",
     "text": [
      "0\n",
      "1\n",
      "1\n",
      "2\n",
      "3\n",
      "5\n",
      "8\n",
      "13\n",
      "21\n",
      "34\n"
     ]
    }
   ],
   "source": [
    "#0 1 1 2 3 5 8\n",
    "a=0\n",
    "b=1\n",
    "for i in range(10):\n",
    "    print(a)\n",
    "    a,b=b,a+b\n",
    "    "
   ]
  },
  {
   "cell_type": "code",
   "execution_count": null,
   "id": "a7483e52-b4f5-4d33-81dd-f7e49aff04f0",
   "metadata": {},
   "outputs": [],
   "source": []
  }
 ],
 "metadata": {
  "kernelspec": {
   "display_name": "Python 3 (ipykernel)",
   "language": "python",
   "name": "python3"
  },
  "language_info": {
   "codemirror_mode": {
    "name": "ipython",
    "version": 3
   },
   "file_extension": ".py",
   "mimetype": "text/x-python",
   "name": "python",
   "nbconvert_exporter": "python",
   "pygments_lexer": "ipython3",
   "version": "3.12.0"
  }
 },
 "nbformat": 4,
 "nbformat_minor": 5
}
