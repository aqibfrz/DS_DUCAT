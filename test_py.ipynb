{
 "cells": [
  {
   "cell_type": "code",
   "execution_count": 3,
   "id": "ad4965af-461d-4737-ae0e-31040344735f",
   "metadata": {},
   "outputs": [],
   "source": [
    "\n",
    "import pyttsx3\n",
    "engine = pyttsx3.init()\n",
    "rate = engine.getProperty('rate') \n",
    "engine.setProperty('rate', 136)\n",
    "engine.say(\"Hey this is MI-15\")\n",
    "engine.runAndWait()"
   ]
  },
  {
   "cell_type": "code",
   "execution_count": 4,
   "id": "39d71d7d-7c01-4234-9b77-c1668d0a8a3a",
   "metadata": {},
   "outputs": [
    {
     "name": "stdin",
     "output_type": "stream",
     "text": [
      "enter product to search their price: pen\n"
     ]
    },
    {
     "name": "stdout",
     "output_type": "stream",
     "text": [
      "the price of pen is: 10\n"
     ]
    }
   ],
   "source": [
    "def say(text):\n",
    "    engine = pyttsx3.init()\n",
    "    engine.say(text)\n",
    "    engine.runAndWait()\n",
    "    \n",
    "\n",
    "dict1={'pen':10,'notebook': 20};\n",
    "tar=input('enter product to search their price:')\n",
    "if tar in dict1:\n",
    "    print(f'the price of {tar} is: {dict1[tar]}')\n",
    "    say(f'the price of {tar} is: {dict1[tar]}')\n",
    "else:\n",
    "    print('product are not avalible in the list\\nwant to update your price\\nyes or no')\n",
    "    say('product are not avalible in the list and want to update your price')\n",
    "    say('yes or no')\n",
    "    n=input()\n",
    "    if n=='yes':\n",
    "        m=input('enter your product')\n",
    "        say('enter your product')\n",
    "        if m in dict1:\n",
    "            s=int(input('enter the price'))\n",
    "            say('enter your price')\n",
    "            dict1[m]=s\n",
    "            print(dict1)\n",
    "            say('price is Updated')\n",
    "        else:\n",
    "            print('exit-->thanks')\n",
    "            say('exit-->thanks')\n",
    "    else:\n",
    "        print('No updation\\nTerminated-->Successfully')\n",
    "        say('No updation\\nTerminated-->Successfully')\n",
    "\n"
   ]
  },
  {
   "cell_type": "code",
   "execution_count": null,
   "id": "3c7fd600-9f1f-4c03-a013-5733b239265a",
   "metadata": {},
   "outputs": [],
   "source": []
  }
 ],
 "metadata": {
  "kernelspec": {
   "display_name": "Python 3 (ipykernel)",
   "language": "python",
   "name": "python3"
  },
  "language_info": {
   "codemirror_mode": {
    "name": "ipython",
    "version": 3
   },
   "file_extension": ".py",
   "mimetype": "text/x-python",
   "name": "python",
   "nbconvert_exporter": "python",
   "pygments_lexer": "ipython3",
   "version": "3.12.0"
  }
 },
 "nbformat": 4,
 "nbformat_minor": 5
}
